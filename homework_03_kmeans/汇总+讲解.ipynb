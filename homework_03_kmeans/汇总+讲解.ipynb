{
 "cells": [
  {
   "cell_type": "markdown",
   "id": "7c3d33f4",
   "metadata": {
    "pycharm": {
     "name": "#%% md\n"
    }
   },
   "source": [
    "# Homework_03_kMeans"
   ]
  },
  {
   "cell_type": "markdown",
   "id": "9fb0707a",
   "metadata": {},
   "source": [
    "## 1.不使用特征变换进行分类\n",
    "### (1) 导入第三方库"
   ]
  },
  {
   "cell_type": "code",
   "execution_count": 1,
   "id": "bb6bdceb",
   "metadata": {},
   "outputs": [],
   "source": [
    "import numpy as np\n",
    "import pandas as pd\n",
    "import random\n",
    "from matplotlib import pyplot as plt\n",
    "import math"
   ]
  },
  {
   "cell_type": "markdown",
   "id": "b63b56ca",
   "metadata": {
    "pycharm": {
     "name": "#%% md\n"
    }
   },
   "source": [
    "### (2) 导入数据并预处理\n",
    "此处将原表格中数据进行标记，并储存为新数据然后再导入"
   ]
  },
  {
   "cell_type": "code",
   "execution_count": 2,
   "id": "a1f6911d",
   "metadata": {},
   "outputs": [],
   "source": [
    "data=pd.read_csv('dataset_circles.csv',header=None,names=['x','y','labelnum']) #给数据添加分类标签x,y,labelnum\n",
    "data.to_csv('dataset_circles_labeled.csv',index=False) #储存为新文件\n",
    "data_new=pd.read_csv('dataset_circles_labeled.csv')"
   ]
  },
  {
   "cell_type": "markdown",
   "id": "ea0f28b0",
   "metadata": {
    "pycharm": {
     "name": "#%% md\n"
    }
   },
   "source": [
    "### (3) 原数据展示"
   ]
  },
  {
   "cell_type": "code",
   "execution_count": 3,
   "id": "1635ba82",
   "metadata": {
    "pycharm": {
     "name": "#%%\n"
    }
   },
   "outputs": [
    {
     "data": {
      "image/png": "[encoded data removed]",
      "text/plain": [
       "<Figure size 432x288 with 1 Axes>"
      ]
     },
     "metadata": {
      "needs_background": "light"
     },
     "output_type": "display_data"
    }
   ],
   "source": [
    "#可视化数据函数\n",
    "def visualise_data(data):\n",
    "    plt.axis([-50,50,-50,50])\n",
    "    ar=np.shape(data)\n",
    "    for i in range(ar[0]):\n",
    "        if data['labelnum'][i]==0.0:\n",
    "            plt.plot(data['x'][i],data['y'][i],'ro',markersize=2)\n",
    "        else:\n",
    "            plt.plot(data['x'][i],data['y'][i],'bo',markersize=2)\n",
    "    plt.xlabel('x')\n",
    "    plt.ylabel('y')\n",
    "    plt.grid()\n",
    "    plt.title('Origin_data Display')\n",
    "    plt.show()\n",
    "visualise_data(data_new)"
   ]
  },
  {
   "cell_type": "markdown",
   "id": "71fdf7d8",
   "metadata": {},
   "source": [
    "### (4) 定义随机化初始重心函数"
   ]
  },
  {
   "cell_type": "code",
   "execution_count": 4,
   "id": "e2e2c0bd",
   "metadata": {
    "pycharm": {
     "name": "#%%\n"
    }
   },
   "outputs": [],
   "source": [
    "def origin_location(data,k):\n",
    "    origin_location_new=np.array([]) #初始化重心的数组\n",
    "    for i in range(k): #随机获取重心，并将其连接为一个数组\n",
    "        origin_location=data[random.randint(0,m)] #随机生成索引数字\n",
    "        origin_location_new=np.concatenate((origin_location,origin_location_new),axis=0)\n",
    "    origin_location_new=origin_location_new.reshape(-1,2) #将数组形状变为列为2\n",
    "    print(f'随机选取的初始重心为：\\n{origin_location_new}\\n')\n",
    "    return origin_location_new"
   ]
  },
  {
   "cell_type": "markdown",
   "id": "e1594496",
   "metadata": {},
   "source": [
    "### (5) 定义距离计算函数"
   ]
  },
  {
   "cell_type": "code",
   "execution_count": 5,
   "id": "68040465",
   "metadata": {
    "pycharm": {
     "name": "#%%\n"
    }
   },
   "outputs": [],
   "source": [
    "def distance(location,dot): #计算该点与各重心之间的欧式距离,并返回一个k行数组\n",
    "    dist=(location-dot)**2\n",
    "    dist_new=np.sum(dist,axis=1) #将每一行的值平方和相加，即得到该点与每个重心的距离平方和\n",
    "    return dist_new"
   ]
  },
  {
   "cell_type": "markdown",
   "id": "04ba2d66",
   "metadata": {},
   "source": [
    "### (6) 定义kMeans聚类函数"
   ]
  },
  {
   "cell_type": "code",
   "execution_count": 6,
   "id": "768a8fb1",
   "metadata": {},
   "outputs": [],
   "source": [
    "def cluster(location,data):\n",
    "    m,n=np.shape(data)\n",
    "    cluster_init=np.mat(np.zeros((m,2)))\n",
    "    flags=1 #做标记\n",
    "    num=0 #计算的次数\n",
    "    while flags:\n",
    "        flags=0\n",
    "        for i in range(0,m): #对每个样本进行循环\n",
    "            distance_new=distance(location,data[i]) #对每个点求欧式距离\n",
    "            distance_k=np.argmin(distance_new) #找到该点属于哪一个重心类\n",
    "            if distance_k != cluster_init[i,0]:\n",
    "                flags=1\n",
    "            cluster_init[i][0]=distance_k\n",
    "        num=num+1\n",
    "        for j in range(0,k): #找到最新的聚类重心\n",
    "            location_new=data[np.nonzero(cluster_init[:,0].A==j)[0]] #已知每一样本的类，计算最新的聚类重心\n",
    "            location[j,:]=np.mean(location_new,axis=0)\n",
    "    return location,num,cluster_init"
   ]
  },
  {
   "cell_type": "markdown",
   "id": "750c3e8b",
   "metadata": {
    "pycharm": {
     "name": "#%% md\n"
    }
   },
   "source": [
    "### (7) 定义绘图函数"
   ]
  },
  {
   "cell_type": "code",
   "execution_count": 7,
   "id": "26f0e1ae",
   "metadata": {
    "pycharm": {
     "name": "#%%\n"
    }
   },
   "outputs": [],
   "source": [
    "def display(origin_data,cluster_data):\n",
    "    visualise_data(origin_data) #原数据\n",
    "\n",
    "    plt.axis([-50,50,-50,50]) #聚类\n",
    "    color=['red','blue','gold','cyan','orchid','orange']\n",
    "    for i in range(m):\n",
    "        nn= int(cluster_data[i,0])\n",
    "        plt.plot(xy[i,0],xy[i,1],'o', markersize=2,color=color[nn])\n",
    "    for j in range(k):\n",
    "        plt.plot(location[j,0],location[j,1],'*',markersize=16,color='black')\n",
    "    plt.xlabel('x')\n",
    "    plt.ylabel('y')\n",
    "    plt.grid()\n",
    "    plt.title('kMeans Display')\n",
    "    plt.show()"
   ]
  },
  {
   "cell_type": "markdown",
   "id": "08b44cd2",
   "metadata": {},
   "source": [
    "### (8) 运行并给定K值"
   ]
  },
  {
   "cell_type": "code",
   "execution_count": 8,
   "id": "f0ffefe5",
   "metadata": {},
   "outputs": [
    {
     "name": "stdout",
     "output_type": "stream",
     "text": [
      "请输入K值：2\n",
      "随机选取的初始重心为：\n",
      "[[ 17.19572833  16.77410597]\n",
      " [ 22.28670074 -11.48109322]]\n",
      "\n",
      "聚类重心为：\n",
      "[[-11.68480291  -1.34511418]\n",
      " [ 11.59898103  -0.09637788]]\n",
      "一共计算了33次\n"
     ]
    },
    {
     "data": {
      "image/png": "[encoded data removed]",
      "text/plain": [
       "<Figure size 432x288 with 1 Axes>"
      ]
     },
     "metadata": {
      "needs_background": "light"
     },
     "output_type": "display_data"
    },
    {
     "data": {
      "image/png": "[encoded data removed]",
      "text/plain": [
       "<Figure size 432x288 with 1 Axes>"
      ]
     },
     "metadata": {
      "needs_background": "light"
     },
     "output_type": "display_data"
    }
   ],
   "source": [
    "k=int(input('请输入K值：'))\n",
    "data=data_new\n",
    "origin=data.values #转换为数组类型进行处理\n",
    "xy=origin[:,:2] #提取x,y\n",
    "m,n=np.shape(xy) #获得每个维度个数\n",
    "location=origin_location(xy,k)\n",
    "location,num,cluster_data=cluster(location,xy)\n",
    "print(f'聚类重心为：\\n{location}\\n一共计算了{num}次')\n",
    "display(data,cluster_data)"
   ]
  },
  {
   "cell_type": "markdown",
   "id": "8b9b1bc3",
   "metadata": {
    "pycharm": {
     "name": "#%% md\n"
    }
   },
   "source": [
    "此处：因为该聚类方法为距离分类，而并不是原数据的环状分类。故我们需要对数据进行特征变换，以得到环状的分类结果\n",
    "<br/>\n",
    "<br/>\n",
    "\n",
    "## 2.极坐标变换进行聚类\n",
    "说明：如图所示，极坐标即指各点到原点坐标的距离表示。"
   ]
  },
  {
   "cell_type": "code",
   "execution_count": 9,
   "id": "699443b7",
   "metadata": {
    "pycharm": {
     "name": "#%%\n"
    }
   },
   "outputs": [
    {
     "data": {
      "image/png": "[encoded data removed]",
      "text/plain": [
       "<Figure size 432x288 with 1 Axes>"
      ]
     },
     "metadata": {
      "needs_background": "light"
     },
     "output_type": "display_data"
    }
   ],
   "source": [
    "data=data_new\n",
    "plt.axis([-50,50,-50,50])\n",
    "ar=np.shape(data)\n",
    "for i in range(ar[0]):\n",
    "    if data['labelnum'][i]==0.0:\n",
    "            plt.plot(data['x'][i],data['y'][i],'ro',markersize=2)\n",
    "    else:\n",
    "            plt.plot(data['x'][i],data['y'][i],'bo',markersize=2)\n",
    "plt.plot(0,0,'o',markersize=16,color='gold')\n",
    "plt.xlabel('x')\n",
    "plt.ylabel('y')\n",
    "plt.grid()\n",
    "plt.title('Origin_data Display')\n",
    "plt.show()"
   ]
  },
  {
   "cell_type": "markdown",
   "id": "164f5242",
   "metadata": {
    "pycharm": {
     "name": "#%% md\n"
    }
   },
   "source": [
    "### (1) 导入第三方库(同上）"
   ]
  },
  {
   "cell_type": "code",
   "execution_count": 10,
   "id": "af143126",
   "metadata": {
    "pycharm": {
     "name": "#%%\n"
    }
   },
   "outputs": [],
   "source": [
    "import numpy as np\n",
    "import pandas as pd\n",
    "import random\n",
    "from matplotlib import pyplot as plt\n",
    "import math"
   ]
  },
  {
   "cell_type": "markdown",
   "id": "0edc515c",
   "metadata": {
    "pycharm": {
     "name": "#%% md\n"
    }
   },
   "source": [
    "### (2) 导入数据并预处理(同上）\n",
    "此处将原表格中数据进行标记，并储存为新数据然后再导入"
   ]
  },
  {
   "cell_type": "code",
   "execution_count": 11,
   "id": "551bbcd9",
   "metadata": {
    "pycharm": {
     "name": "#%%\n"
    }
   },
   "outputs": [],
   "source": [
    "data=pd.read_csv('dataset_circles.csv',header=None,names=['x','y','labelnum']) #给数据添加分类标签\n",
    "data.to_csv('dataset_circles_labeled.csv',index=False)\n",
    "data_new=pd.read_csv('dataset_circles_labeled.csv')\n",
    "data=data_new\n"
   ]
  },
  {
   "cell_type": "markdown",
   "id": "d02396dd",
   "metadata": {
    "pycharm": {
     "name": "#%% md\n"
    }
   },
   "source": [
    "### (3) 定义极坐标变换函数"
   ]
  },
  {
   "cell_type": "code",
   "execution_count": 12,
   "id": "51b40b8e",
   "metadata": {
    "pycharm": {
     "name": "#%%\n"
    }
   },
   "outputs": [],
   "source": [
    "def polar_coordinate(data):\n",
    "    m,n=np.shape(data) #获取每个维度长度\n",
    "    ar=np.zeros((m,n))#创建m*n的空数组\n",
    "    for i in range(m):\n",
    "        r=np.sqrt(((data[i][0])**2) + ((data[i][1])**2))  #获得每个点与原点的距离\n",
    "        theta=np.math.atan(data[i][1]/data[i][0]) #获得极坐标的theta角\n",
    "        ar[i,:]=r,theta\n",
    "    return ar\n",
    "#print(data_polar) # For test"
   ]
  },
  {
   "cell_type": "markdown",
   "id": "a506ffa7",
   "metadata": {
    "pycharm": {
     "name": "#%% md\n"
    }
   },
   "source": [
    "### (4) 定义距离计算函数（同上）"
   ]
  },
  {
   "cell_type": "code",
   "execution_count": 13,
   "id": "ea52535a",
   "metadata": {
    "pycharm": {
     "name": "#%%\n"
    }
   },
   "outputs": [],
   "source": [
    "def distance(location ,dot):\n",
    "    dist=(location-dot)**2\n",
    "    dist_new=np.sum(dist,axis=1)\n",
    "    return dist_new"
   ]
  },
  {
   "cell_type": "markdown",
   "id": "fbb24388",
   "metadata": {
    "pycharm": {
     "name": "#%% md\n"
    }
   },
   "source": [
    "### (5) 定义随机化初始重心函数(同上）"
   ]
  },
  {
   "cell_type": "code",
   "execution_count": 14,
   "id": "abfc4351",
   "metadata": {
    "pycharm": {
     "name": "#%%\n"
    }
   },
   "outputs": [],
   "source": [
    "def origin_location(xy,k):\n",
    "    origin_location_new=np.array([]) #初始化重心的数组\n",
    "    for i in range(k): #随机获取重心，并将其连接为一个数组\n",
    "        origin_location=xy[random.randint(0,m)]\n",
    "        origin_location_new=np.concatenate((origin_location,origin_location_new),axis=0)\n",
    "    origin_location_new=origin_location_new.reshape(-1,2) #将数组形状变为列为2\n",
    "    print(f'随机选取的初始重心为：\\n{origin_location_new}\\n')\n",
    "    return origin_location_new"
   ]
  },
  {
   "cell_type": "markdown",
   "id": "d1f07552",
   "metadata": {
    "pycharm": {
     "name": "#%% md\n"
    }
   },
   "source": [
    "### (6) 定义极坐标聚类函数"
   ]
  },
  {
   "cell_type": "code",
   "execution_count": 15,
   "id": "fe6f777f",
   "metadata": {
    "pycharm": {
     "name": "#%%\n"
    }
   },
   "outputs": [],
   "source": [
    "def cluster_polar(data,k,location_polar):\n",
    "    m,n=np.shape(data)\n",
    "    cluster_init=np.mat(np.zeros((m,2)))\n",
    "    flags=1\n",
    "    num=0\n",
    "    while flags:\n",
    "        flags=0\n",
    "        for i in range(m):\n",
    "            distance_new=distance(location_polar,data[i]) #对每个点求欧式距离\n",
    "            distance_k=np.argmin(distance_new) #找到该点属于哪一个重心类\n",
    "            if cluster_init[i,0]!=distance_k:\n",
    "                flags =1\n",
    "            cluster_init[i][0] = distance_k\n",
    "        num+=1\n",
    "        for j in range(k):\n",
    "            location_new=data[np.nonzero(cluster_init[:,0].A==j)[0]] #已知每一样本的类，计算最新的聚类重心\n",
    "            location_polar[j,:]=np.mean(location_new,axis=0)\n",
    "    return location_polar,cluster_init,num"
   ]
  },
  {
   "cell_type": "markdown",
   "id": "d4742a27",
   "metadata": {
    "pycharm": {
     "name": "#%% md\n"
    }
   },
   "source": [
    "### (7) 定义绘图函数\n"
   ]
  },
  {
   "cell_type": "code",
   "execution_count": 16,
   "id": "886238b5",
   "metadata": {
    "pycharm": {
     "name": "#%%\n"
    }
   },
   "outputs": [],
   "source": [
    "def display(origin_data,cluster_data):\n",
    "    visualise_data(origin_data)#原数据\n",
    "\n",
    "    plt.axis([-50,50,-50,50]) #聚类\n",
    "    color=['red','blue','gold','cyan','orchid','orange']\n",
    "    for i in range(m):\n",
    "        nn= int(cluster_data[i,0])\n",
    "        plt.plot(xy[i,0],xy[i,1],'o', markersize=2,color=color[nn])\n",
    "    for j in range(k):\n",
    "        plt.plot(location_polar[j,0],location_polar[j,1],'*',markersize=16,color='black')\n",
    "    plt.xlabel('x')\n",
    "    plt.ylabel('y')\n",
    "    plt.grid()\n",
    "    plt.title('Polar_cluster Display')\n",
    "    plt.show()"
   ]
  },
  {
   "cell_type": "markdown",
   "id": "1eda386d",
   "metadata": {},
   "source": [
    " ### (8) 运行并确定K值"
   ]
  },
  {
   "cell_type": "code",
   "execution_count": 17,
   "id": "67585a36",
   "metadata": {
    "pycharm": {
     "name": "#%%\n"
    }
   },
   "outputs": [
    {
     "name": "stdout",
     "output_type": "stream",
     "text": [
      "请输入K值：2\n",
      "随机选取的初始重心为：\n",
      "[[22.4133864  -1.1941232 ]\n",
      " [13.4430025  -1.27487094]]\n",
      "\n",
      "聚类重心极坐标为：\n",
      "[[24.99591265  0.02977579]\n",
      " [10.0598988   0.03273353]]\n",
      "一共计算了2次\n"
     ]
    },
    {
     "data": {
      "image/png": "[encoded data removed]",
      "text/plain": [
       "<Figure size 432x288 with 1 Axes>"
      ]
     },
     "metadata": {
      "needs_background": "light"
     },
     "output_type": "display_data"
    },
    {
     "data": {
      "image/png": "[encoded data removed]",
      "text/plain": [
       "<Figure size 432x288 with 1 Axes>"
      ]
     },
     "metadata": {
      "needs_background": "light"
     },
     "output_type": "display_data"
    }
   ],
   "source": [
    "k=int(input('请输入K值：'))\n",
    "origin=data.values #转换为数组类型计算\n",
    "xy=origin[:,:2] #提取x,y\n",
    "m,n=np.shape(data)\n",
    "data_polar=polar_coordinate(xy) #进行极坐标变换（利用上述定义函数）\n",
    "location_polar=origin_location(data_polar,k) #获得随机初始的重心点(注：此处用变换后的data_polar)\n",
    "location_polar,cluster_data,num=cluster_polar(data_polar,k,location_polar)\n",
    "print(f'聚类重心极坐标为：\\n{location_polar}\\n一共计算了{num}次')\n",
    "display(data,cluster_data)"
   ]
  },
  {
   "cell_type": "markdown",
   "id": "62962b6e",
   "metadata": {},
   "source": [
    "<br/>\n",
    "<br/>\n",
    "\n",
    "## 3.Spectral Clustering(谱聚类)\n",
    "\n",
    "\n",
    "谱聚类（spectral clustering）是广泛使用的聚类算法，比起传统的K-Means算法，谱聚类对数据分布的适应性更强，聚类效果也很优秀，同时聚类的计算量也小很多，并且实现起来也不复杂。\n",
    "\n",
    "谱聚类是从图论中演化出来的算法，后来在聚类中得到了广泛的应用。它的主要思想是把所有的数据看做空间中的点，这些点之间可以用边连接起来。距离较远的两个点之间的边权重值较低，而距离较近的两个点之间的边权重值较高，通过对所有数据点组成的图进行切图，让切图后不同的子图间边权重和尽可能的低，而子图内的边权重和尽可能的高，从而达到聚类的目的。\n",
    "\n",
    "谱聚类算法的主要优点有：\n",
    "1）谱聚类只需要数据之间的相似度矩阵，因此对于处理稀疏数据的聚类很有效。这点传统聚类算法比如K-Means很难做到\n",
    "2）由于使用了降维，因此在处理高维数据聚类时的复杂度比传统聚类算法好。\n",
    "谱聚类算法的主要缺点有：\n",
    "1）如果最终聚类的维度非常高，则由于降维的幅度不够，谱聚类的运行速度和最后的聚类效果均不好。\n",
    "2) 聚类效果依赖于相似矩阵，不同的相似矩阵得到的最终聚类效果可能很不同。\n"
   ]
  },
  {
   "cell_type": "markdown",
   "id": "54fe3f0f",
   "metadata": {},
   "source": [
    "### (1) 导入第三方库"
   ]
  },
  {
   "cell_type": "code",
   "execution_count": 18,
   "id": "d2968cb3",
   "metadata": {},
   "outputs": [],
   "source": [
    "import matplotlib.pyplot as plt\n",
    "import pandas as pd\n",
    "from sklearn.cluster import SpectralClustering"
   ]
  },
  {
   "cell_type": "markdown",
   "id": "7760cc29",
   "metadata": {},
   "source": [
    "### (2) 读取数据并预处理"
   ]
  },
  {
   "cell_type": "code",
   "execution_count": 19,
   "id": "44a52971",
   "metadata": {},
   "outputs": [],
   "source": [
    "data=pd.read_csv('dataset_circles.csv',header=None,names=['x','y','labelnum']) #给数据添加分类标签\n",
    "data.to_csv('dataset_circles_labeled.csv',index=False) #储存为新文件\n",
    "data_new=pd.read_csv('dataset_circles_labeled.csv')\n",
    "data=data_new\n",
    "origin=data.values #转换为数组类型进行处理\n",
    "xy=origin[:,:2] #提取x,y"
   ]
  },
  {
   "cell_type": "markdown",
   "id": "ed3a3ec3",
   "metadata": {},
   "source": [
    "### (3) SC谱聚类算法"
   ]
  },
  {
   "cell_type": "code",
   "execution_count": 20,
   "id": "e67dba5c",
   "metadata": {},
   "outputs": [
    {
     "name": "stdout",
     "output_type": "stream",
     "text": [
      "请输入K值：2\n"
     ]
    }
   ],
   "source": [
    "k=int(input('请输入K值：'))\n",
    "sc=SpectralClustering(n_clusters=k,affinity='nearest_neighbors')\n",
    "sc_cluster=sc.fit_predict(xy)\n",
    "# print(sc_cluster) # For test"
   ]
  },
  {
   "cell_type": "markdown",
   "id": "3bc68d82",
   "metadata": {},
   "source": [
    "### (4) 可视化"
   ]
  },
  {
   "cell_type": "code",
   "execution_count": 21,
   "id": "7ddd36b9",
   "metadata": {},
   "outputs": [
    {
     "data": {
      "image/png": "[encoded data removed]",
      "text/plain": [
       "<Figure size 432x288 with 1 Axes>"
      ]
     },
     "metadata": {
      "needs_background": "light"
     },
     "output_type": "display_data"
    }
   ],
   "source": [
    "color=['red','blue','gold','cyan','orchid','orange']\n",
    "for i in range(len(xy)):\n",
    "    plt.scatter(xy[i][0],xy[i][1],color=color[(sc_cluster[i])])  #根据分类数值不一样，绘制的颜色索引不一样\n",
    "plt.xlabel('x')\n",
    "plt.ylabel('y')\n",
    "plt.grid()\n",
    "plt.title('Spectral Clustering Display')\n",
    "plt.show()"
   ]
  },
  {
   "cell_type": "markdown",
   "id": "429dcc09",
   "metadata": {},
   "source": [
    "<br/>\n",
    "<br/>\n",
    "\n",
    "## 4.DBSCAN算法(密度聚类算法)\n",
    "\n",
    "DBSCAN是一种基于密度的聚类算法，这类密度聚类算法一般假定类别可以通过样本分布的紧密程度决定。同一类别的样本，他们之间的紧密相连的，也就是说，在该类别任意样本周围不远处一定有同类别的样本存在。通过将紧密相连的样本划为一类，这样就得到了一个聚类类别。通过将所有各组紧密相连的样本划为各个不同的类别，则我们就得到了最终的所有聚类类别结果。\n",
    "\n",
    "形象来说，我们可以认为这是系统在众多样本点中随机选中一个，围绕这个被选中的样本点画一个圆，规定这个圆的半径以及圆内最少包含的样本点，如果在指定半径内有足够多的样本点在内，那么这个圆圈的圆心就转移到这个内部样本点，继续去圈附近其它的样本点。等到这个圈发现所圈住的样本点数量少于预先指定的值，就停止了。那么我们称最开始那个点为核心点，停下来的那个点为边界点，没有在圈里的那个点为离群点。\n",
    "\n",
    "参数：  \n",
    "eps：epsilon,圈半径  \n",
    "min_samples:圈内圈住个数\n"
   ]
  },
  {
   "cell_type": "markdown",
   "id": "8efa26b6",
   "metadata": {},
   "source": [
    "### (1) 导入第三方库"
   ]
  },
  {
   "cell_type": "code",
   "execution_count": 22,
   "id": "55ee057f",
   "metadata": {},
   "outputs": [],
   "source": [
    "import pandas as pd\n",
    "from sklearn.cluster import DBSCAN"
   ]
  },
  {
   "cell_type": "markdown",
   "id": "c9aed045",
   "metadata": {},
   "source": [
    "### (2)读取数据预处理"
   ]
  },
  {
   "cell_type": "code",
   "execution_count": 23,
   "id": "e0306fcd",
   "metadata": {},
   "outputs": [],
   "source": [
    "data=pd.read_csv('dataset_circles.csv',header=None,names=['x','y','labelnum'])"
   ]
  },
  {
   "cell_type": "markdown",
   "id": "9b2916e3",
   "metadata": {},
   "source": [
    "### (3) DBSCAN算法"
   ]
  },
  {
   "cell_type": "code",
   "execution_count": 24,
   "id": "88a6bbc9",
   "metadata": {},
   "outputs": [],
   "source": [
    "db=DBSCAN(eps=6,min_samples=6).fit(data)\n",
    "labelnum=db.labels_  #将分类的标签生成为列表\n",
    "#print(labelnum) #For test"
   ]
  },
  {
   "cell_type": "markdown",
   "id": "419b1bc5",
   "metadata": {},
   "source": [
    "### (4) 可视化"
   ]
  },
  {
   "cell_type": "code",
   "execution_count": 25,
   "id": "e45d4aca",
   "metadata": {},
   "outputs": [
    {
     "data": {
      "image/png": "[encoded data removed]",
      "text/plain": [
       "<Figure size 432x288 with 1 Axes>"
      ]
     },
     "metadata": {
      "needs_background": "light"
     },
     "output_type": "display_data"
    }
   ],
   "source": [
    "color=['orchid','orange','red','blue','gold','cyan']\n",
    "for i in range(len(xy)):\n",
    "    plt.scatter(xy[i][0],xy[i][1],color=color[(sc_cluster[i])])  #根据分类数值不一样，绘制的颜色索引不一样\n",
    "plt.xlabel('x')\n",
    "plt.ylabel('y')\n",
    "plt.grid()\n",
    "plt.title('DBSCAN Display')\n",
    "plt.show()"
   ]
  },
  {
   "cell_type": "markdown",
   "id": "07ec9d5f",
   "metadata": {},
   "source": [
    "此处：由于DBSCAN不用输入K的值，是根据圆圈半径大小以及圆圈内样本数为依据，所以eps,min_samples两个参数很重要，且参数大小需把握好。"
   ]
  }
 ],
 "metadata": {
  "kernelspec": {
   "display_name": "PyCharm (machinelearning_homework)",
   "language": "python",
   "name": "pycharm-3d02ba9f"
  },
  "language_info": {
   "codemirror_mode": {
    "name": "ipython",
    "version": 3
   },
   "file_extension": ".py",
   "mimetype": "text/x-python",
   "name": "python",
   "nbconvert_exporter": "python",
   "pygments_lexer": "ipython3",
   "version": "3.8.8"
  }
 },
 "nbformat": 4,
 "nbformat_minor": 5
}
