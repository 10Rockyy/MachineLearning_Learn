{
 "cells": [
  {
   "cell_type": "markdown",
   "metadata": {
    "collapsed": true
   },
   "source": [
    "# Homework_02_numpy_matplotlib"
   ]
  },
  {
   "cell_type": "markdown",
   "metadata": {},
   "source": [
    "## 1. 数值计算 numpy\n",
    "### （1）对于一个存在在数组，如何添加一个用0填充的边界?\n",
    "例如对一个二维矩阵\n",
    "```\n",
    "10, 34, 54, 23\n",
    "31, 87, 53, 68\n",
    "98, 49, 25, 11\n",
    "84, 32, 67, 88\n",
    "```"
   ]
  },
  {
   "cell_type": "code",
   "execution_count": 1,
   "metadata": {},
   "outputs": [
    {
     "name": "stdout",
     "output_type": "stream",
     "text": [
      "[[ 0  0  0  0  0  0]\n",
      " [ 0 10 34 54 23  0]\n",
      " [ 0 31 87 53 68  0]\n",
      " [ 0 98 49 25 11  0]\n",
      " [ 0 84 32 67 88  0]\n",
      " [ 0  0  0  0  0  0]]\n"
     ]
    }
   ],
   "source": [
    "import numpy as np\n",
    "ar=np.array([[10,34,54,23],[31, 87, 53, 68],[98, 49, 25, 11],[84, 32, 67, 88]])\n",
    "ar=np.pad(ar , pad_width=1 , mode='constant' , constant_values=0)\n",
    "print(ar)"
   ]
  },
  {
   "cell_type": "markdown",
   "metadata": {},
   "source": [
    "此处利用pad函数直接进行填充，填充方法使用constant,即可沿着边缘填充，厚度可自行给定。"
   ]
  },
  {
   "cell_type": "markdown",
   "metadata": {},
   "source": [
    "### （2）创建一个 5x5的矩阵，并设置值1,2,3,4落在其对角线下方位置"
   ]
  },
  {
   "cell_type": "code",
   "execution_count": 2,
   "metadata": {},
   "outputs": [
    {
     "name": "stdout",
     "output_type": "stream",
     "text": [
      "[[0 0 0 0 0]\n",
      " [1 0 0 0 0]\n",
      " [0 2 0 0 0]\n",
      " [0 0 3 0 0]\n",
      " [0 0 0 4 0]]\n"
     ]
    }
   ],
   "source": [
    "import numpy as np\n",
    "ar0=np.arange(1,5)\n",
    "ar0=np.diag(ar0,k=-1)\n",
    "print(ar0)"
   ]
  },
  {
   "cell_type": "markdown",
   "metadata": {},
   "source": [
    "此处用diag函数，k为负数代表在对角线下方，k为正数代表在对角线上方。"
   ]
  },
  {
   "cell_type": "markdown",
   "metadata": {},
   "source": [
    "### （3）创建一个8x8 的矩阵，并且设置成国际象棋棋盘样式（黑可以用0, 白可以用1）"
   ]
  },
  {
   "cell_type": "code",
   "execution_count": 3,
   "metadata": {},
   "outputs": [
    {
     "name": "stdout",
     "output_type": "stream",
     "text": [
      "[[1 0 1 0 1 0 1 0]\n",
      " [0 1 0 1 0 1 0 1]\n",
      " [1 0 1 0 1 0 1 0]\n",
      " [0 1 0 1 0 1 0 1]\n",
      " [1 0 1 0 1 0 1 0]\n",
      " [0 1 0 1 0 1 0 1]\n",
      " [1 0 1 0 1 0 1 0]\n",
      " [0 1 0 1 0 1 0 1]]\n"
     ]
    }
   ],
   "source": [
    "import numpy as np\n",
    "\n",
    "ar=np.ones((8,8),dtype=int)\n",
    "ar[::2,1:9:2]=0  #先作用于列\n",
    "ar[1:9:2,::2]=0  #再作用于行\n",
    "print(ar)"
   ]
  },
  {
   "cell_type": "markdown",
   "metadata": {},
   "source": [
    "通过先固定行，将所有列变换，然后再将所有行变换，其中每次变换的步长为2\n",
    "### （4）求解线性方程组\n",
    "给定一个方程组，如何求出其的方程解。有多种方法，分析各种方法的优缺点（最简单的方式是消元方）。\n",
    "\n",
    "例如\n",
    "```\n",
    "3x + 4y + 2z = 10\n",
    "5x + 3y + 4z = 14\n",
    "8x + 2y + 7z = 20\n",
    "```"
   ]
  },
  {
   "cell_type": "code",
   "execution_count": 4,
   "metadata": {},
   "outputs": [
    {
     "name": "stdout",
     "output_type": "stream",
     "text": [
      "[ 6.  0. -4.]\n",
      "[ 6.  0. -4.]\n"
     ]
    }
   ],
   "source": [
    "import numpy as np\n",
    "# 3x + 4y + 2z = 10\n",
    "# 5x + 3y + 4z = 14\n",
    "# 8x + 2y + 7z = 20\n",
    "\n",
    "#用内置函数solve解决，需注意等式右边矩阵br应为列向量\n",
    "a1=[[3,4,2],[5,3,4],[8,2,7]]\n",
    "b1=[10,14,20]\n",
    "ar1=np.array(a1)\n",
    "br=np.array(b1)\n",
    "r1=np.linalg.solve(ar1,br.T)\n",
    "print(r1)\n",
    "\n",
    "#运用数学原理，X=A^(-1)B，所以需要先求A的逆矩阵，再用A的逆矩阵点乘B\n",
    "a2=[[3,4,2],[5,3,4],[8,2,7]]\n",
    "b2=[10,14,20]\n",
    "ar2=np.linalg.inv(a2)\n",
    "r2=ar2.dot(b2)\n",
    "print(r2)"
   ]
  },
  {
   "cell_type": "markdown",
   "metadata": {},
   "source": [
    "运用了两种方法来求解线性方程组，第一种用solve函数直接代入计算，第二种运用数学原理X=A^(-1)B，所以需要先求A的逆矩阵，再用A的逆矩阵点乘B。\n",
    "### （5） 翻转一个数组（第一个元素变成最后一个）"
   ]
  },
  {
   "cell_type": "code",
   "execution_count": 5,
   "metadata": {},
   "outputs": [
    {
     "name": "stdout",
     "output_type": "stream",
     "text": [
      "[[64 63 62 61 60 59 58 57]\n",
      " [56 55 54 53 52 51 50 49]\n",
      " [48 47 46 45 44 43 42 41]\n",
      " [40 39 38 37 36 35 34 33]\n",
      " [32 31 30 29 28 27 26 25]\n",
      " [24 23 22 21 20 19 18 17]\n",
      " [16 15 14 13 12 11 10  9]\n",
      " [ 8  7  6  5  4  3  2  1]]\n",
      "\n",
      "可以将任意维度数组进行操作。\n"
     ]
    }
   ],
   "source": [
    "import numpy as np\n",
    "ar=np.arange(1,65).reshape(8,8)\n",
    "ls=ar.shape\n",
    "#print(type(ls))   #获得函数返回类型\n",
    "n=len(ls)         #获得数组维度\n",
    "for i in range(n):\n",
    "    ar=np.flip(ar,axis=i)\n",
    "print(ar)\n",
    "print('\\n可以将任意维度数组进行操作。')"
   ]
  },
  {
   "cell_type": "markdown",
   "metadata": {},
   "source": [
    "此处，为了让所有维度的数组都可以进行翻转操作，我使用了循环然后将每个轴进行翻转，这样就可以实现任意维度数组的操作。\n",
    "### （6） 产生一个十乘十随机数组，并且找出最大和最小值"
   ]
  },
  {
   "cell_type": "code",
   "execution_count": 6,
   "metadata": {},
   "outputs": [
    {
     "name": "stdout",
     "output_type": "stream",
     "text": [
      "[[  212   159  -454   350   -61    91   707   189  -134    59]\n",
      " [  -57  -609  -315  -515  -797   268  -843  -264  -697 -1000]\n",
      " [ -101  -232  -290    -4   -79  -957  -428   874  -889   453]\n",
      " [  805   -22  -218  -604  -630   604   500  -357  -140   664]\n",
      " [  767   318   387   590   899  -751   736  -880   587  -401]\n",
      " [ -736  -325   137  -784   164  -451   987   409   508   452]\n",
      " [  661   417  -471  -141   585   217   331   737  -470   991]\n",
      " [ -751  -271   942   481   351   947  -208   661   428  -987]\n",
      " [ -780  -979   215   582  -190   534  -532   239   932  -342]\n",
      " [  664  -677   108  -171    20   104   -64   -50  -349  -552]]\n",
      "最大值：991    最小值：-1000\n"
     ]
    }
   ],
   "source": [
    "import numpy as np\n",
    "\n",
    "ar=np.random.randint(-1000,1000 ,(10,10))\n",
    "print(ar)\n",
    "print(f'最大值：{ar.max()}    最小值：{ar.min()}')"
   ]
  },
  {
   "cell_type": "markdown",
   "metadata": {},
   "source": [
    "## 2. Matplotlib\n",
    "### （1） 画出一个二次函数，同时画出梯形法求积分时的各个梯形"
   ]
  },
  {
   "cell_type": "code",
   "execution_count": 7,
   "metadata": {},
   "outputs": [
    {
     "name": "stdout",
     "output_type": "stream",
     "text": [
      "请输入函数(不用输入y，例如直接输入x**2)：x**2+2\n",
      "请输入等分份数：100\n"
     ]
    },
    {
     "data": {
      "image/png": "[encoded data removed]",
      "text/plain": [
       "<Figure size 432x288 with 1 Axes>"
      ]
     },
     "metadata": {
      "needs_background": "light"
     },
     "output_type": "display_data"
    }
   ],
   "source": [
    "import numpy as np\n",
    "from matplotlib import pyplot as plt\n",
    "def hanshu():\n",
    "    y=input('请输入函数(不用输入y，例如直接输入x**2)：')\n",
    "    y1=y.replace('x','x1')\n",
    "    return y,y1\n",
    "\n",
    "x=np.arange(-10,10,0.1)\n",
    "y,y1=hanshu()\n",
    "y=eval(y)\n",
    "plt.plot(x,y)    #绘制函数\n",
    "\n",
    "n=int(input('请输入等分份数：'))\n",
    "x2=np.arange(-10,10.1,20/n)\n",
    "for i in x2:     #绘制等分梯形\n",
    "    x1=np.array([i,i])\n",
    "    y2=eval(y1)\n",
    "    a=y2[0]\n",
    "    y3=np.array([0,a])\n",
    "    plt.plot(x1,y3,linewidth='0.5')\n",
    "plt.show()"
   ]
  },
  {
   "cell_type": "markdown",
   "metadata": {},
   "source": [
    "梯形是用两点(x1,0)与(x1,y)两点绘制的直线。  \n",
    "其中绘图部分比较好解决，但是在引入直接输入函数部分比较困难，花了比较多的时间用于解决。  \n",
    "因为要用两次输入的函数，但是不能使用户输入两次函数，所以想到了用replace代替自变量，使其变为两个函数。  \n",
    "因为第一次是用这个库画图，所以这道题用时还挺久的，不过对于函数以及方法还比较熟悉了。\n",
    "### （2） 绘制函数 $f(x) = sin^2(x - 2) e^{-x^2}$\n",
    "需要画出标题，x，y轴。x的取值范围是[0, 2]"
   ]
  },
  {
   "cell_type": "code",
   "execution_count": 8,
   "metadata": {},
   "outputs": [
    {
     "data": {
      "image/png": "[encoded data removed]",
      "text/plain": [
       "<Figure size 432x288 with 1 Axes>"
      ]
     },
     "metadata": {
      "needs_background": "light"
     },
     "output_type": "display_data"
    }
   ],
   "source": [
    "import numpy as np\n",
    "from matplotlib import pyplot as plt\n",
    "\n",
    "x=np.arange(0,2.1,0.05)\n",
    "y=(np.sin((x-2))**2)*(np.e**(-(x**2)))\n",
    "plt.title(r'$f(x) = sin^2(x - 2) e^{-x^2}$')\n",
    "plt.xlabel('x axis')\n",
    "plt.ylabel('y axis')\n",
    "plt.plot(x,y,linewidth='3',color= 'r')\n",
    "plt.show()\n"
   ]
  },
  {
   "cell_type": "markdown",
   "metadata": {},
   "source": [
    "在绘制函数的时候，画了很多次图像都与给出的不一样，检查了很久才发现表达式少了个'*'\n",
    "### （3） 模拟一个醉汉在二维空间上的随机漫步。\n",
    "一维：x轴表示步子，y轴表示游走的位置；  \n",
    "二维：x，y分别是游走的位置；  \n",
    "三维：其中z比表示步子。"
   ]
  },
  {
   "cell_type": "code",
   "execution_count": 9,
   "metadata": {},
   "outputs": [
    {
     "name": "stdout",
     "output_type": "stream",
     "text": [
      "请输入醉汉走步数量：10\n"
     ]
    },
    {
     "data": {
      "image/png": "[encoded data removed]",
      "text/plain": [
       "<Figure size 432x288 with 2 Axes>"
      ]
     },
     "metadata": {
      "needs_background": "light"
     },
     "output_type": "display_data"
    },
    {
     "data": {
      "image/png": "[encoded data removed]",
      "text/plain": [
       "<Figure size 432x288 with 1 Axes>"
      ]
     },
     "metadata": {
      "needs_background": "light"
     },
     "output_type": "display_data"
    }
   ],
   "source": [
    "import numpy as np\n",
    "from matplotlib import pyplot as plt\n",
    "\n",
    "#一维\n",
    "plt.subplot(1,2,1)\n",
    "np.random.seed()\n",
    "n=int(input('请输入醉汉走步数量：'))\n",
    "x=np.arange(0,n)\n",
    "y=np.random.rand(n)\n",
    "plt.title('one-dimension')\n",
    "plt.grid(axis='x')\n",
    "plt.plot(x,y)\n",
    "\n",
    "#二维\n",
    "plt.subplot(1,2,2)\n",
    "np.random.seed()\n",
    "x=np.arange(n)\n",
    "y=n*(np.random.rand(n))\n",
    "plt.scatter(x[0],y[0],c='r',s=20)\n",
    "plt.scatter(x[-1],y[-1],c='orange',s=80)\n",
    "plt.title('two-dimension')\n",
    "plt.plot(x,y,c='r')\n",
    "plt.grid()\n",
    "\n",
    "#三维\n",
    "fig=plt.figure()\n",
    "a= fig.gca(projection='3d')\n",
    "z=np.arange(n)\n",
    "x=n*(np.random.rand(n))\n",
    "y=n*(np.random.rand(n))\n",
    "a.scatter(x[0],y[0],z[0],c='r',s=20)\n",
    "a.scatter(x[-1],y[-1],z[-1],c='orange',s=80)\n",
    "a.view_init(elev=6, azim=20)\n",
    "plt.title('three-dimension')\n",
    "a.plot(x,y,z)\n",
    "plt.show()"
   ]
  },
  {
   "cell_type": "markdown",
   "metadata": {},
   "source": [
    "增加了网格以区分一维和二维，将二维的x,y轴的数值大小范围设置为一致，以表示醉汉的位置。  \n",
    "另外，虽然三维的我试过很多种视角，但是感觉还是不能看得很清楚。\n",
    "其中，将起点用红色标出，终点用橙色进行标出。"
   ]
  }
 ],
 "metadata": {
  "kernelspec": {
   "display_name": "Python 3",
   "language": "python",
   "name": "python3"
  },
  "language_info": {
   "codemirror_mode": {
    "name": "ipython",
    "version": 3
   },
   "file_extension": ".py",
   "mimetype": "text/x-python",
   "name": "python",
   "nbconvert_exporter": "python",
   "pygments_lexer": "ipython3",
   "version": "3.8.8"
  }
 },
 "nbformat": 4,
 "nbformat_minor": 1
}
