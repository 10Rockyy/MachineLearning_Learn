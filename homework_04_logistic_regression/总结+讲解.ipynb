{
 "cells": [
  {
   "cell_type": "markdown",
   "id": "9a821be0",
   "metadata": {},
   "source": [
    "# Homework_04_Logistic_regression"
   ]
  },
  {
   "cell_type": "markdown",
   "id": "5c60493d",
   "metadata": {},
   "source": [
    "## 1.自己写的回归代码\n",
    "### (1)导入第三方库"
   ]
  },
  {
   "cell_type": "code",
   "execution_count": 1,
   "id": "f984691e",
   "metadata": {},
   "outputs": [],
   "source": [
    "import numpy as np\n",
    "import matplotlib.pyplot as plt\n",
    "from sklearn.datasets import load_digits\n",
    "import cv2 as cv "
   ]
  },
  {
   "cell_type": "markdown",
   "id": "fc3cfdbb",
   "metadata": {},
   "source": [
    "### (2)导入读取数据"
   ]
  },
  {
   "cell_type": "code",
   "execution_count": 2,
   "id": "9e0d8303",
   "metadata": {},
   "outputs": [
    {
     "data": {
      "image/png": "[encoded data removed]",
      "text/plain": [
       "<Figure size 432x432 with 64 Axes>"
      ]
     },
     "metadata": {},
     "output_type": "display_data"
    }
   ],
   "source": [
    "digits = load_digits() #加载数据\n",
    "#绘制图像\n",
    "fig = plt.figure(figsize=(6, 6))  # 设置图像的大小\n",
    "fig.subplots_adjust(left=0, right=1, bottom=0, top=1, hspace=0.05, wspace=0.05)\n",
    "# 设置图像个数以及大小\n",
    "for i in range(64): #展示前64个图像\n",
    "    ax = fig.add_subplot(8, 8, i + 1, xticks=[], yticks=[])\n",
    "    ax.imshow(digits.images[i], cmap=plt.cm.binary) #此处cmap设置颜色，binary表示二值图像\n",
    "    # 给图像贴上标签值\n",
    "    ax.text(0, 7, str(digits.target[i]))\n",
    "plt.show()"
   ]
  },
  {
   "cell_type": "markdown",
   "id": "bde9925f",
   "metadata": {},
   "source": [
    "### (3)创建Sigmoid函数"
   ]
  },
  {
   "cell_type": "code",
   "execution_count": 3,
   "id": "d32caa09",
   "metadata": {},
   "outputs": [],
   "source": [
    "def sigmoid(x):\n",
    "    return 1.0/(1+np.exp(-x))"
   ]
  },
  {
   "cell_type": "markdown",
   "id": "90f727d4",
   "metadata": {},
   "source": [
    "### (4)可视化错误分类图像函数"
   ]
  },
  {
   "cell_type": "code",
   "execution_count": 4,
   "id": "4a005b4e",
   "metadata": {},
   "outputs": [],
   "source": [
    "def visualize(dataset,i):\n",
    "    #cv.imshow('img',dataset.images[i])\n",
    "    #cv.waitKey()\n",
    "    plt.imshow(dataset.images[i],cmap=plt.cm.binary) #显示该错误分类的图像\n",
    "    plt.show()"
   ]
  },
  {
   "cell_type": "markdown",
   "id": "2e89721f",
   "metadata": {},
   "source": [
    "### (5)创建训练模型\n",
    "**此处：函数可以自己传入学习模型参数。  \n",
    "其中：该训练函数times为训练次数，默认为2000次；num为训练样本个数，可自设；alpha为学习速率，默认为0.01；n为多元回归的元数，由于此处是0-9，所以默认为10。**"
   ]
  },
  {
   "cell_type": "code",
   "execution_count": 5,
   "id": "ce3f6278",
   "metadata": {},
   "outputs": [],
   "source": [
    "def train_logistic(dataset,targets,times=2000,num=0,alpha=0.01,n=10):\n",
    "#times为训练次数，默认为2000次;num为训练样本个数，可自设;alpha为学习速率，默认为0.01;n为多元回归的元数，由于此处是0-9，所以默认为10\n",
    "    if num==0:\n",
    "        num=int((1/2)*(np.shape(dataset)[0])) #num为训练样本个数，默认为1/2的样本总数\n",
    "    train_samples=dataset[0:num,:] #存入前num个样本进入\n",
    "    m=np.shape(dataset)[1] #获得一个样本维度\n",
    "    weights=np.ones((n,m))  #因为对于多元回归，所以此处应创立10行以储存不同的weights\n",
    "    b=np.ones(n)   #因为对于多元回归，此处应创立10行以储存不同的b\n",
    "    for i in range(0,10): #开始循环训练,此处i代表数字\n",
    "        target=np.copy(targets[:num]) #将训练样本的标签存入\n",
    "        judge=target[:]\n",
    "        for j in range(num):\n",
    "            if i==target[j]: #判断target与哪个数字相同\n",
    "                judge[j]=1   #储存判断结果\n",
    "            else:\n",
    "                judge[j]=0   #储存判断结果\n",
    "        for k in range(times):\n",
    "            data_index=list(range(num)) #创建一个sum个样本个数的数组，存进来每一个数据的下标\n",
    "            rand_index=np.random.randint(0,len(data_index))#随机选取下标\n",
    "            error=judge[rand_index]-sigmoid(sum(weights[i]*train_samples[rand_index])+b[i]) #梯度上升进行计算\n",
    "            weights[i]+=alpha*error*train_samples[rand_index]\n",
    "            b[i]+=alpha*error\n",
    "            del(data_index[rand_index])\n",
    "    return weights,b #返回了权值w和偏移b的十个对应数组"
   ]
  },
  {
   "cell_type": "markdown",
   "id": "df36053a",
   "metadata": {},
   "source": [
    "### (6)多元预测模型\n",
    "**此处：函数可以自己传入学习模型参数。  \n",
    "其中：dataset为数据集，num_predict为预测数据个数，默认为100个。**"
   ]
  },
  {
   "cell_type": "code",
   "execution_count": 6,
   "id": "42130a6d",
   "metadata": {},
   "outputs": [],
   "source": [
    "def dataset_predict(dataset_origin,dataset,targets,num_predict=100):\n",
    "#num_predict为预测数据个数，默认为100个\n",
    "    weights,b=train_logistic(dataset,targets)\n",
    "    prdict_data=dataset[-1-num_predict:-1] #取数据集中最后num_predict个样本进行预测\n",
    "    max_wb=np.empty(num_predict) #找到最大可能性的wb将储存在这里，现在它是随机生成的\n",
    "    for i in range(num_predict): #循环次数等于预测样本数\n",
    "        maybe=np.zeros(10) #每个数据对应10个可能性\n",
    "        for j in range(10): #循环10种分类权值w和偏移b，然后取可能性最大的\n",
    "            maybe[j]=sigmoid(sum(weights[j]*prdict_data[i])+b[j])#找出每个数据对应的10种可能性\n",
    "        max_wb[i]=np.argmax(maybe) #找出最大可能性的w和b\n",
    "    accurary,wrong=0,0\n",
    "    for i in range(num_predict):\n",
    "           if targets[-1-num_predict+i]==max_wb[i]:\n",
    "               print(f'第{i+1}次预测,真值为{targets[-1-num_predict+i]},预测值为{max_wb[i]}')\n",
    "               accurary+=1\n",
    "           else:\n",
    "               print(f'第{i+1}次预测,真值为{targets[-1-num_predict+i]},预测值为{max_wb[i]}    错')\n",
    "               visualize(dataset_origin,-1-num_predict+i)\n",
    "               wrong+=1\n",
    "    print(f'本次多元预测模型,共预测{num_predict}个样本，总计正确{accurary}个，错误{wrong}个，正确率为{((accurary/num_predict)*100)}%')"
   ]
  },
  {
   "cell_type": "markdown",
   "id": "14228d57",
   "metadata": {},
   "source": [
    "### (6)运行"
   ]
  },
  {
   "cell_type": "code",
   "execution_count": 7,
   "id": "57d08deb",
   "metadata": {},
   "outputs": [
    {
     "name": "stdout",
     "output_type": "stream",
     "text": [
      "第1次预测,真值为9,预测值为9.0\n",
      "第2次预测,真值为0,预测值为0.0\n",
      "第3次预测,真值为9,预测值为9.0\n",
      "第4次预测,真值为5,预测值为5.0\n",
      "第5次预测,真值为5,预测值为5.0\n",
      "第6次预测,真值为6,预测值为6.0\n",
      "第7次预测,真值为5,预测值为5.0\n",
      "第8次预测,真值为0,预测值为0.0\n",
      "第9次预测,真值为9,预测值为9.0\n",
      "第10次预测,真值为8,预测值为8.0\n",
      "第11次预测,真值为9,预测值为9.0\n",
      "第12次预测,真值为8,预测值为8.0\n",
      "第13次预测,真值为4,预测值为4.0\n",
      "第14次预测,真值为1,预测值为1.0\n",
      "第15次预测,真值为7,预测值为7.0\n",
      "第16次预测,真值为7,预测值为7.0\n",
      "第17次预测,真值为3,预测值为7.0    错\n"
     ]
    },
    {
     "data": {
      "image/png": "[encoded data removed]",
      "text/plain": [
       "<Figure size 432x288 with 1 Axes>"
      ]
     },
     "metadata": {
      "needs_background": "light"
     },
     "output_type": "display_data"
    },
    {
     "name": "stdout",
     "output_type": "stream",
     "text": [
      "第18次预测,真值为5,预测值为5.0\n",
      "第19次预测,真值为1,预测值为1.0\n",
      "第20次预测,真值为0,预测值为0.0\n",
      "第21次预测,真值为0,预测值为0.0\n",
      "第22次预测,真值为2,预测值为2.0\n",
      "第23次预测,真值为2,预测值为2.0\n",
      "第24次预测,真值为7,预测值为7.0\n",
      "第25次预测,真值为8,预测值为8.0\n",
      "第26次预测,真值为2,预测值为2.0\n",
      "第27次预测,真值为0,预测值为0.0\n",
      "第28次预测,真值为1,预测值为1.0\n",
      "第29次预测,真值为2,预测值为2.0\n",
      "第30次预测,真值为6,预测值为6.0\n",
      "第31次预测,真值为3,预测值为8.0    错\n"
     ]
    },
    {
     "data": {
      "image/png": "[encoded data removed]",
      "text/plain": [
       "<Figure size 432x288 with 1 Axes>"
      ]
     },
     "metadata": {
      "needs_background": "light"
     },
     "output_type": "display_data"
    },
    {
     "name": "stdout",
     "output_type": "stream",
     "text": [
      "第32次预测,真值为3,预测值为8.0    错\n"
     ]
    },
    {
     "data": {
      "image/png": "[encoded data removed]",
      "text/plain": [
       "<Figure size 432x288 with 1 Axes>"
      ]
     },
     "metadata": {
      "needs_background": "light"
     },
     "output_type": "display_data"
    },
    {
     "name": "stdout",
     "output_type": "stream",
     "text": [
      "第33次预测,真值为7,预测值为7.0\n",
      "第34次预测,真值为3,预测值为3.0\n",
      "第35次预测,真值为3,预测值为8.0    错\n"
     ]
    },
    {
     "data": {
      "image/png": "[encoded data removed]",
      "text/plain": [
       "<Figure size 432x288 with 1 Axes>"
      ]
     },
     "metadata": {
      "needs_background": "light"
     },
     "output_type": "display_data"
    },
    {
     "name": "stdout",
     "output_type": "stream",
     "text": [
      "第36次预测,真值为4,预测值为4.0\n",
      "第37次预测,真值为6,预测值为6.0\n",
      "第38次预测,真值为6,预测值为6.0\n",
      "第39次预测,真值为6,预测值为6.0\n",
      "第40次预测,真值为4,预测值为4.0\n",
      "第41次预测,真值为9,预测值为9.0\n",
      "第42次预测,真值为1,预测值为1.0\n",
      "第43次预测,真值为5,预测值为5.0\n",
      "第44次预测,真值为0,预测值为0.0\n",
      "第45次预测,真值为9,预测值为9.0\n",
      "第46次预测,真值为5,预测值为5.0\n",
      "第47次预测,真值为2,预测值为3.0    错\n"
     ]
    },
    {
     "data": {
      "image/png": "[encoded data removed]",
      "text/plain": [
       "<Figure size 432x288 with 1 Axes>"
      ]
     },
     "metadata": {
      "needs_background": "light"
     },
     "output_type": "display_data"
    },
    {
     "name": "stdout",
     "output_type": "stream",
     "text": [
      "第48次预测,真值为8,预测值为8.0\n",
      "第49次预测,真值为2,预测值为2.0\n",
      "第50次预测,真值为0,预测值为0.0\n",
      "第51次预测,真值为0,预测值为0.0\n",
      "第52次预测,真值为1,预测值为1.0\n",
      "第53次预测,真值为7,预测值为7.0\n",
      "第54次预测,真值为6,预测值为6.0\n",
      "第55次预测,真值为3,预测值为3.0\n",
      "第56次预测,真值为2,预测值为2.0\n",
      "第57次预测,真值为1,预测值为1.0\n",
      "第58次预测,真值为7,预测值为7.0\n",
      "第59次预测,真值为4,预测值为4.0\n",
      "第60次预测,真值为6,预测值为6.0\n",
      "第61次预测,真值为3,预测值为3.0\n",
      "第62次预测,真值为1,预测值为1.0\n",
      "第63次预测,真值为3,预测值为3.0\n",
      "第64次预测,真值为9,预测值为9.0\n",
      "第65次预测,真值为1,预测值为1.0\n",
      "第66次预测,真值为7,预测值为7.0\n",
      "第67次预测,真值为6,预测值为6.0\n",
      "第68次预测,真值为8,预测值为8.0\n",
      "第69次预测,真值为4,预测值为4.0\n",
      "第70次预测,真值为3,预测值为5.0    错\n"
     ]
    },
    {
     "data": {
      "image/png": "[encoded data removed]",
      "text/plain": [
       "<Figure size 432x288 with 1 Axes>"
      ]
     },
     "metadata": {
      "needs_background": "light"
     },
     "output_type": "display_data"
    },
    {
     "name": "stdout",
     "output_type": "stream",
     "text": [
      "第71次预测,真值为1,预测值为1.0\n",
      "第72次预测,真值为4,预测值为4.0\n",
      "第73次预测,真值为0,预测值为0.0\n",
      "第74次预测,真值为5,预测值为5.0\n",
      "第75次预测,真值为3,预测值为3.0\n",
      "第76次预测,真值为6,预测值为6.0\n",
      "第77次预测,真值为9,预测值为9.0\n",
      "第78次预测,真值为6,预测值为6.0\n",
      "第79次预测,真值为1,预测值为1.0\n",
      "第80次预测,真值为7,预测值为7.0\n",
      "第81次预测,真值为5,预测值为5.0\n",
      "第82次预测,真值为4,预测值为4.0\n",
      "第83次预测,真值为4,预测值为4.0\n",
      "第84次预测,真值为7,预测值为7.0\n",
      "第85次预测,真值为2,预测值为2.0\n",
      "第86次预测,真值为8,预测值为3.0    错\n"
     ]
    },
    {
     "data": {
      "image/png": "[encoded data removed]",
      "text/plain": [
       "<Figure size 432x288 with 1 Axes>"
      ]
     },
     "metadata": {
      "needs_background": "light"
     },
     "output_type": "display_data"
    },
    {
     "name": "stdout",
     "output_type": "stream",
     "text": [
      "第87次预测,真值为2,预测值为2.0\n",
      "第88次预测,真值为2,预测值为2.0\n",
      "第89次预测,真值为5,预测值为5.0\n",
      "第90次预测,真值为7,预测值为7.0\n",
      "第91次预测,真值为9,预测值为9.0\n",
      "第92次预测,真值为5,预测值为5.0\n",
      "第93次预测,真值为4,预测值为4.0\n",
      "第94次预测,真值为8,预测值为8.0\n",
      "第95次预测,真值为8,预测值为8.0\n",
      "第96次预测,真值为4,预测值为4.0\n",
      "第97次预测,真值为9,预测值为9.0\n",
      "第98次预测,真值为0,预测值为0.0\n",
      "第99次预测,真值为8,预测值为8.0\n",
      "第100次预测,真值为9,预测值为9.0\n",
      "本次多元预测模型,共预测100个样本，总计正确93个，错误7个，正确率为93.0%\n"
     ]
    }
   ],
   "source": [
    "data=digits.data\n",
    "targets=digits.target\n",
    "dataset_predict(digits,data,targets)"
   ]
  },
  {
   "cell_type": "markdown",
   "id": "d4cef1ed",
   "metadata": {},
   "source": [
    "### 注释\n",
    "在完成作业的时候，我先查询了sklearn的digits数据集，知道其是Bunch类型，相当于一个字典。一共有'data', 'target', 'frame', 'feature_names', 'target_names', 'images', 'DESCR'几种Keys。每种keys对应不同的文件。    \n",
    "(1)images为ndarray类型，保存8*8的图像，里面的元素是float64类型，共有1797张图片。  \n",
    "(2)data为ndarray类型，将images按行展开成一行，共有1797行。  \n",
    "(3)target为ndarray类型，指明每张图片的标签，也就是每张图片代表的数字。  \n",
    "(4)target_names为ndarray类型，数据集中所有标签值\n",
    "\n",
    "其次是一开始处理完遇到的bug后，程序能够运行，但预测精准度只有10%左右;\n",
    "然后我又一步步检查代码，看了两次才发现是有个地方数组的问题，不应该直接赋值，而应该用np.copy\n",
    "\n",
    "<big>**可以发现自己写的回归代码，不仅运行速度较慢，而且正确率并不高，多次测试的结果都在90%左右，所以接下来与sklearn的回归代码进行对比，看看它要如何碾压我这一段写了多半天的代码。**</big>"
   ]
  },
  {
   "cell_type": "markdown",
   "id": "82f9a7e6",
   "metadata": {},
   "source": [
    "## 2.Sklearn算法\n",
    "### (1)导入第三方库"
   ]
  },
  {
   "cell_type": "code",
   "execution_count": 8,
   "id": "8c51dc06",
   "metadata": {},
   "outputs": [],
   "source": [
    "import numpy as np\n",
    "from sklearn.linear_model import LogisticRegression\n",
    "import matplotlib.pyplot as plt\n",
    "from sklearn.metrics import accuracy_score\n",
    "from sklearn.datasets import load_digits"
   ]
  },
  {
   "cell_type": "markdown",
   "id": "68449942",
   "metadata": {},
   "source": [
    "### (2)导入加载数据"
   ]
  },
  {
   "cell_type": "code",
   "execution_count": 9,
   "id": "ff679632",
   "metadata": {},
   "outputs": [],
   "source": [
    "digits = load_digits()"
   ]
  },
  {
   "cell_type": "markdown",
   "id": "a228c83b",
   "metadata": {},
   "source": [
    "### (3)预处理(准备学习与预测数据)\n",
    "**此处为了对比我敲打的代码，我选择了与第一问同样的学习数据、并同时选取了同样100个数据进行预测，让我们看看Sklearn需要用多长时间**"
   ]
  },
  {
   "cell_type": "code",
   "execution_count": 10,
   "id": "435d8979",
   "metadata": {},
   "outputs": [],
   "source": [
    "num=int((1/2)*(np.shape(digits.data)[0])) #抽取一半的数据进行学习，与第一问相同\n",
    "train_data=digits.data[:num] #将学习需用的数据储存\n",
    "train_data_target=digits.target[:num] #将学习的数据标签储存\n",
    "num_predict=100 #预测数据数量，与第一问相同\n",
    "predict_data=digits.data[-1-num_predict:-1] #将需要预测数据储存\n",
    "predict_data_target=digits.target[-1-num_predict:-1] #将预测数据标签储存，以对比正确度"
   ]
  },
  {
   "cell_type": "markdown",
   "id": "ee574ec4",
   "metadata": {},
   "source": [
    "### (4)调用Sklearn训练"
   ]
  },
  {
   "cell_type": "code",
   "execution_count": 11,
   "id": "d2dbd098",
   "metadata": {},
   "outputs": [
    {
     "name": "stdout",
     "output_type": "stream",
     "text": [
      "第1次预测,真值为9,预测值为9\n",
      "第2次预测,真值为0,预测值为0\n",
      "第3次预测,真值为9,预测值为9\n",
      "第4次预测,真值为5,预测值为5\n",
      "第5次预测,真值为5,预测值为5\n",
      "第6次预测,真值为6,预测值为6\n",
      "第7次预测,真值为5,预测值为5\n",
      "第8次预测,真值为0,预测值为0\n",
      "第9次预测,真值为9,预测值为9\n",
      "第10次预测,真值为8,预测值为8\n",
      "第11次预测,真值为9,预测值为9\n",
      "第12次预测,真值为8,预测值为8\n",
      "第13次预测,真值为4,预测值为4\n",
      "第14次预测,真值为1,预测值为1\n",
      "第15次预测,真值为7,预测值为7\n",
      "第16次预测,真值为7,预测值为7\n",
      "第17次预测,真值为3,预测值为8    错\n"
     ]
    },
    {
     "name": "stderr",
     "output_type": "stream",
     "text": [
      "/Users/rockyy/opt/anaconda3/lib/python3.8/site-packages/sklearn/linear_model/_logistic.py:763: ConvergenceWarning: lbfgs failed to converge (status=1):\n",
      "STOP: TOTAL NO. of ITERATIONS REACHED LIMIT.\n",
      "\n",
      "Increase the number of iterations (max_iter) or scale the data as shown in:\n",
      "    https://scikit-learn.org/stable/modules/preprocessing.html\n",
      "Please also refer to the documentation for alternative solver options:\n",
      "    https://scikit-learn.org/stable/modules/linear_model.html#logistic-regression\n",
      "  n_iter_i = _check_optimize_result(\n"
     ]
    },
    {
     "data": {
      "image/png": "[encoded data removed]",
      "text/plain": [
       "<Figure size 432x288 with 1 Axes>"
      ]
     },
     "metadata": {
      "needs_background": "light"
     },
     "output_type": "display_data"
    },
    {
     "name": "stdout",
     "output_type": "stream",
     "text": [
      "第18次预测,真值为5,预测值为5\n",
      "第19次预测,真值为1,预测值为1\n",
      "第20次预测,真值为0,预测值为0\n",
      "第21次预测,真值为0,预测值为0\n",
      "第22次预测,真值为2,预测值为2\n",
      "第23次预测,真值为2,预测值为2\n",
      "第24次预测,真值为7,预测值为7\n",
      "第25次预测,真值为8,预测值为8\n",
      "第26次预测,真值为2,预测值为2\n",
      "第27次预测,真值为0,预测值为0\n",
      "第28次预测,真值为1,预测值为1\n",
      "第29次预测,真值为2,预测值为2\n",
      "第30次预测,真值为6,预测值为6\n",
      "第31次预测,真值为3,预测值为8    错\n"
     ]
    },
    {
     "data": {
      "image/png": "[encoded data removed]",
      "text/plain": [
       "<Figure size 432x288 with 1 Axes>"
      ]
     },
     "metadata": {
      "needs_background": "light"
     },
     "output_type": "display_data"
    },
    {
     "name": "stdout",
     "output_type": "stream",
     "text": [
      "第32次预测,真值为3,预测值为8    错\n"
     ]
    },
    {
     "data": {
      "image/png": "[encoded data removed]",
      "text/plain": [
       "<Figure size 432x288 with 1 Axes>"
      ]
     },
     "metadata": {
      "needs_background": "light"
     },
     "output_type": "display_data"
    },
    {
     "name": "stdout",
     "output_type": "stream",
     "text": [
      "第33次预测,真值为7,预测值为7\n",
      "第34次预测,真值为3,预测值为5    错\n"
     ]
    },
    {
     "data": {
      "image/png": "[encoded data removed]",
      "text/plain": [
       "<Figure size 432x288 with 1 Axes>"
      ]
     },
     "metadata": {
      "needs_background": "light"
     },
     "output_type": "display_data"
    },
    {
     "name": "stdout",
     "output_type": "stream",
     "text": [
      "第35次预测,真值为3,预测值为8    错\n"
     ]
    },
    {
     "data": {
      "image/png": "[encoded data removed]",
      "text/plain": [
       "<Figure size 432x288 with 1 Axes>"
      ]
     },
     "metadata": {
      "needs_background": "light"
     },
     "output_type": "display_data"
    },
    {
     "name": "stdout",
     "output_type": "stream",
     "text": [
      "第36次预测,真值为4,预测值为4\n",
      "第37次预测,真值为6,预测值为6\n",
      "第38次预测,真值为6,预测值为6\n",
      "第39次预测,真值为6,预测值为6\n",
      "第40次预测,真值为4,预测值为4\n",
      "第41次预测,真值为9,预测值为9\n",
      "第42次预测,真值为1,预测值为1\n",
      "第43次预测,真值为5,预测值为5\n",
      "第44次预测,真值为0,预测值为0\n",
      "第45次预测,真值为9,预测值为9\n",
      "第46次预测,真值为5,预测值为5\n",
      "第47次预测,真值为2,预测值为2\n",
      "第48次预测,真值为8,预测值为8\n",
      "第49次预测,真值为2,预测值为2\n",
      "第50次预测,真值为0,预测值为0\n",
      "第51次预测,真值为0,预测值为0\n",
      "第52次预测,真值为1,预测值为1\n",
      "第53次预测,真值为7,预测值为7\n",
      "第54次预测,真值为6,预测值为6\n",
      "第55次预测,真值为3,预测值为3\n",
      "第56次预测,真值为2,预测值为2\n",
      "第57次预测,真值为1,预测值为1\n",
      "第58次预测,真值为7,预测值为4    错\n"
     ]
    },
    {
     "data": {
      "image/png": "[encoded data removed]",
      "text/plain": [
       "<Figure size 432x288 with 1 Axes>"
      ]
     },
     "metadata": {
      "needs_background": "light"
     },
     "output_type": "display_data"
    },
    {
     "name": "stdout",
     "output_type": "stream",
     "text": [
      "第59次预测,真值为4,预测值为4\n",
      "第60次预测,真值为6,预测值为6\n",
      "第61次预测,真值为3,预测值为3\n",
      "第62次预测,真值为1,预测值为1\n",
      "第63次预测,真值为3,预测值为3\n",
      "第64次预测,真值为9,预测值为9\n",
      "第65次预测,真值为1,预测值为1\n",
      "第66次预测,真值为7,预测值为7\n",
      "第67次预测,真值为6,预测值为6\n",
      "第68次预测,真值为8,预测值为8\n",
      "第69次预测,真值为4,预测值为4\n",
      "第70次预测,真值为3,预测值为5    错\n"
     ]
    },
    {
     "data": {
      "image/png": "[encoded data removed]",
      "text/plain": [
       "<Figure size 432x288 with 1 Axes>"
      ]
     },
     "metadata": {
      "needs_background": "light"
     },
     "output_type": "display_data"
    },
    {
     "name": "stdout",
     "output_type": "stream",
     "text": [
      "第71次预测,真值为1,预测值为1\n",
      "第72次预测,真值为4,预测值为4\n",
      "第73次预测,真值为0,预测值为0\n",
      "第74次预测,真值为5,预测值为5\n",
      "第75次预测,真值为3,预测值为3\n",
      "第76次预测,真值为6,预测值为6\n",
      "第77次预测,真值为9,预测值为9\n",
      "第78次预测,真值为6,预测值为6\n",
      "第79次预测,真值为1,预测值为1\n",
      "第80次预测,真值为7,预测值为7\n",
      "第81次预测,真值为5,预测值为5\n",
      "第82次预测,真值为4,预测值为4\n",
      "第83次预测,真值为4,预测值为4\n",
      "第84次预测,真值为7,预测值为7\n",
      "第85次预测,真值为2,预测值为2\n",
      "第86次预测,真值为8,预测值为8\n",
      "第87次预测,真值为2,预测值为2\n",
      "第88次预测,真值为2,预测值为2\n",
      "第89次预测,真值为5,预测值为5\n",
      "第90次预测,真值为7,预测值为7\n",
      "第91次预测,真值为9,预测值为9\n",
      "第92次预测,真值为5,预测值为5\n",
      "第93次预测,真值为4,预测值为4\n",
      "第94次预测,真值为8,预测值为8\n",
      "第95次预测,真值为8,预测值为8\n",
      "第96次预测,真值为4,预测值为4\n",
      "第97次预测,真值为9,预测值为9\n",
      "第98次预测,真值为0,预测值为0\n",
      "第99次预测,真值为8,预测值为8\n",
      "第100次预测,真值为9,预测值为9\n",
      "本次多元预测模型,共预测100个样本，总计正确93个，错误7个，正确率为93.0%\n"
     ]
    }
   ],
   "source": [
    "logic=LogisticRegression()\n",
    "logic.fit(train_data, train_data_target) #训练\n",
    "predict_result=logic.predict(predict_data) #预测\n",
    "predict_accuracy=accuracy_score(predict_data_target,predict_result) #预测准确率\n",
    "accuracy,wrong=0,0\n",
    "for i in range(len(predict_data)):\n",
    "    if predict_data_target[i] == predict_result[i]:\n",
    "        print(f'第{i+1}次预测,真值为{predict_data_target[i]},预测值为{predict_result[i]}')\n",
    "        accuracy += 1\n",
    "    else:\n",
    "        print(f'第{i+1}次预测,真值为{predict_data_target[i]},预测值为{predict_result[i]}    错')\n",
    "        visualize(digits,i)\n",
    "        wrong += 1\n",
    "#print(predict_accuracy)\n",
    "print(f'本次多元预测模型,共预测{num_predict}个样本，总计正确{accuracy}个，错误{wrong}个，正确率为{(predict_accuracy*100)}%')"
   ]
  },
  {
   "cell_type": "markdown",
   "id": "0c76b6e5",
   "metadata": {},
   "source": [
    "### 注释\n",
    "程序在引用第三方库的时候报错，在网上查询了，解释该报错：  \n",
    "迭代总数达到限制。增加迭代次数（最大值）或缩放数据.scikit-learn版本问题导致的匹配警告和收敛警告，调用的函数和方法已经有改变，暂时不处理也不会影响程序运行。建议升级版本或者修改为最新版本的用法，合理使用库函数!"
   ]
  },
  {
   "cell_type": "markdown",
   "id": "0860d261",
   "metadata": {},
   "source": [
    "<big>**虽然看起来Sklearn的正确率与自己写的代码也差不多，但是让我们来对比下程序运行时间:**</big>"
   ]
  },
  {
   "cell_type": "markdown",
   "id": "6d58ae49",
   "metadata": {},
   "source": [
    "**自己的程序：**"
   ]
  },
  {
   "cell_type": "code",
   "execution_count": 12,
   "id": "2def12c1",
   "metadata": {},
   "outputs": [
    {
     "name": "stdout",
     "output_type": "stream",
     "text": [
      "程序运行时间：0.6074886322021484s\n"
     ]
    }
   ],
   "source": [
    "#导入第三方库\n",
    "import numpy as np\n",
    "import matplotlib.pyplot as plt\n",
    "from sklearn.datasets import load_digits\n",
    "import time\n",
    "\n",
    "time1=time.time()\n",
    "\n",
    "digits = load_digits()\n",
    "\n",
    "def sigmoid(x):\n",
    "    return 1.0/(1+np.exp(-x))\n",
    "\n",
    "def train_logistic(dataset,times=2000,num=0,alpha=0.01,n=10):\n",
    "    if num==0:\n",
    "        num=int((1/2)*(np.shape(dataset.data)[0])) #num为训练样本个数，默认为1/2的样本总数\n",
    "    train_samples=dataset.data[0:num,:] #存入前num个样本进入\n",
    "    m=np.shape(dataset.data)[1] #获得一个样本维度\n",
    "    weights=np.ones((n,m))  #因为对于多元回归，所以此处应创立10行以储存不同的weights\n",
    "    b=np.ones(n)   #因为对于多元回归，此处应创立10行以储存不同的b\n",
    "    for i in range(0,10): #开始循环训练,此处i代表数字\n",
    "        target=np.copy(dataset.target[:num]) #将训练样本的标签存入\n",
    "        judge=target[:]\n",
    "        for j in range(num):\n",
    "            if i==target[j]: #判断target与哪个数字相同\n",
    "                judge[j]=1   #储存判断结果\n",
    "            else:\n",
    "                judge[j]=0   #储存判断结果\n",
    "        for k in range(times):\n",
    "            data_index=list(range(num)) #创建一个sum个样本个数的数组，存进来每一个数据的下标\n",
    "            rand_index=np.random.randint(0,len(data_index))#随机选取下标\n",
    "            error=judge[rand_index]-sigmoid(sum(weights[i]*train_samples[rand_index])+b[i]) #梯度上升进行计算\n",
    "            weights[i]+=alpha*error*train_samples[rand_index]\n",
    "            b[i]+=alpha*error\n",
    "            del(data_index[rand_index])\n",
    "    return weights,b #返回了权值w和偏移b的十个对应数组\n",
    "\n",
    "    \n",
    "#多元模型预测\n",
    "def dataset_predict(dataset,num_predict=100):\n",
    "#num_predict为预测数据个数，默认为100个\n",
    "    weights,b=train_logistic(dataset)\n",
    "    prdict_data=dataset.data[-1-num_predict:-1] #取数据集中最后num_predict个样本进行预测\n",
    "    max_wb=np.empty(num_predict) #找到最大可能性的wb将储存在这里，现在它是随机生成的\n",
    "    for i in range(num_predict): #循环次数等于预测样本数\n",
    "        maybe=np.zeros(10) #每个数据对应10个可能性\n",
    "        for j in range(10): #循环10种分类权值w和偏移b，然后取可能性最大的\n",
    "            maybe[j]=sigmoid(sum(weights[j]*prdict_data[i])+b[j])#找出每个数据对应的10种可能性\n",
    "        max_wb[i]=np.argmax(maybe) #找出最大可能性的w和b\n",
    "    accurary,wrong=0,0\n",
    "    for i in range(num_predict):\n",
    "           if digits.target[-1-num_predict+i]==max_wb[i]:\n",
    "               #print(f'第{i+1}次预测,真值为{digits.target[-1-num_predict+i]},预测值为{max_wb[i]}')\n",
    "               accurary+=1\n",
    "           else:\n",
    "               #print(f'第{i+1}次预测,真值为{digits.target[-1-num_predict+i]},预测值为{max_wb[i]}    错')\n",
    "               wrong+=1\n",
    "    #print(f'本次多元预测模型,共预测{num_predict}个样本，总计正确{accurary}个，错误{wrong}个，正确率为{((accurary/num_predict)*100)}%')\n",
    "\n",
    "dataset_predict(digits)\n",
    "print(f'程序运行时间：{time.time()-time1}s')\n"
   ]
  },
  {
   "cell_type": "markdown",
   "id": "55836548",
   "metadata": {},
   "source": [
    "Sklearn的程序："
   ]
  },
  {
   "cell_type": "code",
   "execution_count": 13,
   "id": "2179013b",
   "metadata": {},
   "outputs": [
    {
     "name": "stdout",
     "output_type": "stream",
     "text": [
      "程序运行时间：0.12247300148010254s\n"
     ]
    },
    {
     "name": "stderr",
     "output_type": "stream",
     "text": [
      "/Users/rockyy/opt/anaconda3/lib/python3.8/site-packages/sklearn/linear_model/_logistic.py:763: ConvergenceWarning: lbfgs failed to converge (status=1):\n",
      "STOP: TOTAL NO. of ITERATIONS REACHED LIMIT.\n",
      "\n",
      "Increase the number of iterations (max_iter) or scale the data as shown in:\n",
      "    https://scikit-learn.org/stable/modules/preprocessing.html\n",
      "Please also refer to the documentation for alternative solver options:\n",
      "    https://scikit-learn.org/stable/modules/linear_model.html#logistic-regression\n",
      "  n_iter_i = _check_optimize_result(\n"
     ]
    }
   ],
   "source": [
    "#导入第三方库\n",
    "import numpy as np\n",
    "from sklearn.linear_model import LogisticRegression\n",
    "import matplotlib.pyplot as plt\n",
    "from sklearn.metrics import accuracy_score\n",
    "from sklearn.datasets import load_digits\n",
    "\n",
    "time1=time.time()\n",
    "\n",
    "digits = load_digits()\n",
    "\n",
    "num=int((1/2)*(np.shape(digits.data)[0])) #抽取一半的数据进行学习，与第一问相同\n",
    "train_data=digits.data[:num] #将学习需用的数据储存\n",
    "train_data_target=digits.target[:num] #将学习的数据标签储存\n",
    "num_predict=100 #预测数据数量，与第一问相同\n",
    "predict_data=digits.data[-1-num_predict:-1] #将需要预测数据储存\n",
    "predict_data_target=digits.target[-1-num_predict:-1] #将预测数据标签储存，以对比正确度\n",
    "\n",
    "#调用Sklearn训练\n",
    "logic=LogisticRegression()\n",
    "logic.fit(train_data, train_data_target) #训练\n",
    "predict_result=logic.predict(predict_data) #预测\n",
    "predict_accuracy=accuracy_score(predict_data_target,predict_result) #预测准确率\n",
    "#accuracy,wrong=0,0\n",
    "#for i in range(len(predict_data)):\n",
    "    #if predict_data_target[i] == predict_result[i]:\n",
    "        #print(f'第{i+1}次预测,真值为{predict_data_target[i]},预测值为{predict_result[i]}')\n",
    "        #accuracy += 1\n",
    "    #else:\n",
    "        #print(f'第{i+1}次预测,真值为{predict_data_target[i]},预测值为{predict_result[i]}    错')\n",
    "        #wrong += 1\n",
    "#print(predict_accuracy)\n",
    "#print(f'本次多元预测模型,共预测{num_predict}个样本，总计正确{accuracy}个，错误{wrong}个，正确率为{(predict_accuracy*100)}%')\n",
    "print(f'程序运行时间：{time.time()-time1}s')\n",
    "\n",
    "\n",
    "\n",
    "\n"
   ]
  },
  {
   "cell_type": "markdown",
   "id": "15958d9c",
   "metadata": {},
   "source": [
    "## 总结：\n",
    "&emsp;&emsp;<big>**可以发现在自己的代码运行时间是Sklearn代码的5-6倍。就拿此次小数据样本来说，虽在精度上Sklearn没有太大优势，但是在时间上Sklearn还是展现了其强大的一面。  \n",
    "&emsp;&emsp;另外，虽然自己编写代码现在网上查询了很多资料，期间也debug了很久，但是当自己完成后感觉还是不错的。特别是当我在函数定义时添加了很多可手动输入的变量，比如学习的数量，学习的次数等等，自己在后面尝试很多不同的输入，得到不同的学习结果，整个过程还是很有趣的。**</big>\n"
   ]
  }
 ],
 "metadata": {
  "kernelspec": {
   "display_name": "PyCharm (machinelearning_homework)",
   "language": "python",
   "name": "pycharm-3d02ba9f"
  },
  "language_info": {
   "codemirror_mode": {
    "name": "ipython",
    "version": 3
   },
   "file_extension": ".py",
   "mimetype": "text/x-python",
   "name": "python",
   "nbconvert_exporter": "python",
   "pygments_lexer": "ipython3",
   "version": "3.8.8"
  }
 },
 "nbformat": 4,
 "nbformat_minor": 5
}
