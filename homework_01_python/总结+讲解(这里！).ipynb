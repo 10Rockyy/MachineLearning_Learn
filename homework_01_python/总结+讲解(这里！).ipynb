{
 "cells": [
  {
   "cell_type": "markdown",
   "metadata": {
    "collapsed": true
   },
   "source": [
    "# Homework_01_Python"
   ]
  },
  {
   "cell_type": "markdown",
   "metadata": {},
   "source": [
    "## (1)字符串\n",
    "给定一个文章，找出每个单词的出现次数。例如给定下面的一篇短文，进行操作。"
   ]
  },
  {
   "cell_type": "code",
   "execution_count": 1,
   "metadata": {},
   "outputs": [
    {
     "name": "stdout",
     "output_type": "stream",
     "text": [
      "[('strange', 3), ('one', 2), ('to', 2), ('you', 2), ('is', 1), ('always', 1), ('on', 1), ('a', 1), ('road', 1), ('watching', 1), ('scenery', 1), ('and', 1), ('listening', 1), ('music', 1), ('then', 1), ('day', 1), ('will', 1), ('find', 1), ('that', 1), ('the', 1), ('things', 1), ('try', 1), ('hard', 1), ('forget', 1), ('are', 1), ('already', 1), ('gone', 1)]\n"
     ]
    }
   ],
   "source": [
    "passage='One     is always on a strange road, watching strange scenery and listening to strange music. Then one day, you will find that the things you try hard to forget are already gone. '\n",
    "con=passage.lower().replace(',',' ').replace('.',' ').replace('\\\\',' ').replace('/',' ').replace('?',' ').split()\n",
    "#对文章所有单词改为小写，将所有标点替代为空格\n",
    "dic={}\n",
    "for i in con:\n",
    "    dic[i]=dic.get(i,0)+1\n",
    "dic=sorted(dic.items(),key=lambda item:item[1],reverse=True)\n",
    "print(dic)"
   ]
  },
  {
   "cell_type": "markdown",
   "metadata": {},
   "source": [
    "思考：  \n",
    "1.有两个空格不会影响统计，split()函数会默认两个空格都为分隔符。有\\t会影响统计，会当成转义字符进行处理，可用replace()函数将\\替代为空格  \n",
    "2.有标点以及/，可以用replace()函数进行替换为空格"
   ]
  },
  {
   "cell_type": "markdown",
   "metadata": {},
   "source": [
    "## (2)组合\n",
    "有 1、2、3、4 个数字，能组成多少个互不相同且无重复数字的三位数？都是多少？"
   ]
  },
  {
   "cell_type": "code",
   "execution_count": 2,
   "metadata": {},
   "outputs": [
    {
     "name": "stdout",
     "output_type": "stream",
     "text": [
      "123 124 132 134 142 143 213 214 231 234 241 243 312 314 321 324 341 342 412 413 421 423 431 432 \n",
      "一共有24种组合\n"
     ]
    }
   ],
   "source": [
    "m=0\n",
    "for i in  range(1,5):\n",
    "    for j in range(1,5):\n",
    "        if(i!=j):\n",
    "            for k in range(1,5):\n",
    "                if(j!=k and k!=i):\n",
    "                    m=m+1\n",
    "                    print(f\"{i}{j}{k}\",end=' ')\n",
    "print()\n",
    "print(f'一共有{m}种组合')"
   ]
  },
  {
   "cell_type": "markdown",
   "metadata": {},
   "source": [
    "思考：一共用到三次循环,通过在执行第三个循环之前先判断第一二位是否相等，可以减少第三次循环次数"
   ]
  },
  {
   "cell_type": "markdown",
   "metadata": {},
   "source": [
    "## (3)判断\n",
    "企业发放的奖金根据利润提成。利润(I)： \n",
    "* 低于或等于 10 万元时，奖金可提 10%； \n",
    "* 高于 10 万元，低于 20 万元时，低于 10 万元的部分按 10%提成，高于 10 万元的部分，可提成 7.5%； \n",
    "* 20 万到 40 万之间时，高于 20 万元的部分，可提成 5%； \n",
    "* 40 万到 60 万之间时，高于 40 万元的部分，可提成 3%； \n",
    "* 60 万到 100 万之间时，高于 60 万元的部分，可提成 1.5%， \n",
    "* 高于 100 万元时， 超过 100 万元的部分按 1%提成， \n",
    "从键盘输入当月利润 I，求应发放奖金总数？"
   ]
  },
  {
   "cell_type": "code",
   "execution_count": 3,
   "metadata": {},
   "outputs": [
    {
     "name": "stdout",
     "output_type": "stream",
     "text": [
      "当月利润为:110\n",
      "奖金为为4.05万元\n"
     ]
    }
   ],
   "source": [
    "l1=[100,60,40,20,10,0]\n",
    "l2=[0.01,0.015,0.03,0.05,0.075,0.1]\n",
    "a=float(input('当月利润为:'))\n",
    "j,k=0,0\n",
    "for i in range(0,6):\n",
    "    if a>=l1[i]:\n",
    "        k=a-l1[i]\n",
    "        j=k*l2[i]+j\n",
    "        a=l1[i]\n",
    "print(f'奖金为为{j}万元')"
   ]
  },
  {
   "cell_type": "markdown",
   "metadata": {},
   "source": [
    "这里使用了列表进行分类，就可以减少对if语句的多重使用，只需要一个if语句，然后与列表元素逐一比较即可。"
   ]
  },
  {
   "cell_type": "markdown",
   "metadata": {},
   "source": [
    "## (4)循环\n",
    "输出9x9的乘法口诀表"
   ]
  },
  {
   "cell_type": "code",
   "execution_count": 4,
   "metadata": {},
   "outputs": [
    {
     "name": "stdout",
     "output_type": "stream",
     "text": [
      "1*1=1 \n",
      "2*1=2 2*2=4 \n",
      "3*1=3 3*2=6 3*3=9 \n",
      "4*1=4 4*2=8 4*3=12 4*4=16 \n",
      "5*1=5 5*2=10 5*3=15 5*4=20 5*5=25 \n",
      "6*1=6 6*2=12 6*3=18 6*4=24 6*5=30 6*6=36 \n",
      "7*1=7 7*2=14 7*3=21 7*4=28 7*5=35 7*6=42 7*7=49 \n",
      "8*1=8 8*2=16 8*3=24 8*4=32 8*5=40 8*6=48 8*7=56 8*8=64 \n",
      "9*1=9 9*2=18 9*3=27 9*4=36 9*5=45 9*6=54 9*7=63 9*8=72 9*9=81 \n"
     ]
    }
   ],
   "source": [
    "l=0\n",
    "for j in range(1,10):\n",
    "    for k in range(1,10):\n",
    "        if(j>=k):\n",
    "            l=j*k\n",
    "            print(f'{j}*{k}={l}',end=' ')\n",
    "            if(j==k):\n",
    "                print()"
   ]
  },
  {
   "cell_type": "markdown",
   "metadata": {},
   "source": [
    "这里使用了两层循环，外层循环为第一位数字，内层循环为第二位数字；并且通过print(end=' ')可以保持输出样式比较好看"
   ]
  },
  {
   "cell_type": "markdown",
   "metadata": {},
   "source": [
    "## (5)使用while循环实现输出2-3+4-5+6.....+100的和"
   ]
  },
  {
   "cell_type": "code",
   "execution_count": 5,
   "metadata": {},
   "outputs": [
    {
     "name": "stdout",
     "output_type": "stream",
     "text": [
      "方法1结果：51\n",
      "方法2结果：51\n",
      "方法3结果：51\n"
     ]
    }
   ],
   "source": [
    "#方法1：\n",
    "m=0\n",
    "for i in range(2,101):\n",
    "    m=((-1)**i)*i+m\n",
    "print(f'方法1结果：{m}')\n",
    "\n",
    "#方法2：\n",
    "a,b=2,0            \n",
    "while a<=100:\n",
    "    if a%2==0:\n",
    "        b=a+b\n",
    "    else:\n",
    "        b=b-a\n",
    "    a+=1\n",
    "print(f'方法2结果：{b}')\n",
    "\n",
    "#方法3：\n",
    "q=sum(range(2,101,2))-sum(range(3,100,2))  #正数与负数先组合，再相加减即可\n",
    "print(f'方法3结果：{q}')"
   ]
  },
  {
   "cell_type": "markdown",
   "metadata": {},
   "source": [
    "此处使用了三种方法解决，其中求、第三种为正数与负数先组合，再进行相加减。"
   ]
  },
  {
   "cell_type": "markdown",
   "metadata": {},
   "source": [
    "## (6)算法\n",
    "给一个数字列表，将其按照由大到小的顺序排列\n",
    "例如\n",
    "```\n",
    "1, 10, 4, 2, 9, 2, 34, 5, 9, 8, 5, 0\n",
    "```"
   ]
  },
  {
   "cell_type": "code",
   "execution_count": 6,
   "metadata": {},
   "outputs": [
    {
     "name": "stdout",
     "output_type": "stream",
     "text": [
      "请输入数列(数字间用,隔开):1,10,4,2,9,2,34,5,9,8,5,0\n",
      "[34.0, 10.0, 9.0, 9.0, 8.0, 5.0, 5.0, 4.0, 2.0, 2.0, 1.0, 0.0]\n"
     ]
    }
   ],
   "source": [
    "# 使用冒泡法排序\n",
    "# a=input('请输入数列(数字间用,隔开):')\n",
    "# ls=a.split(',')\n",
    "# ls=list(map(float,ls))   #将列表里面的str类型转换为float型\n",
    "# n= len(ls)        #计算列表长度\n",
    "# for i in range(0, n):\n",
    "#         for j in range(0, n-i-1):\n",
    "#             if ls[j]>ls[j+1]:\n",
    "#                 ls[j],ls[j+1]=ls[j+1],ls[j]\n",
    "# ls=ls[::-1]     #列表倒叙排列\n",
    "# print(ls)\n",
    "\n",
    "# 使用sorted函数\n",
    "a=input('请输入数列(数字间用,隔开):')\n",
    "ls=a.split(',')\n",
    "ls=list(map(float,ls))\n",
    "ls=sorted(ls,reverse=True)\n",
    "print(ls)"
   ]
  },
  {
   "cell_type": "markdown",
   "metadata": {},
   "source": [
    "此处使用了两种方法，第一种为冒泡法进行排序，第二种利用sorted函数进行分类。"
   ]
  },
  {
   "cell_type": "markdown",
   "metadata": {},
   "source": [
    "## （7）算法2\n",
    "编写一个高效的算法来搜索 m x n 矩阵 matrix 中的一个目标值 target。该矩阵具有以下特性：\n",
    "* 每行的元素从左到右升序排列。\n",
    "* 每列的元素从上到下升序排列。\n",
    "示例:\n",
    "现有矩阵 matrix 如下：\n",
    "```\n",
    "[[1, 4, 7, 11, 15],\n",
    "[2, 5, 8, 12, 19],\n",
    "[3, 6, 9, 16, 22],\n",
    "[10, 13, 14, 17, 24],\n",
    "[18, 21, 23, 26, 30]]\n",
    "```\n",
    "\n",
    "* 给定 target = 5，返回 true。\n",
    "* 给定 target = 20，返回 false。\n"
   ]
  },
  {
   "cell_type": "code",
   "execution_count": 7,
   "metadata": {},
   "outputs": [
    {
     "name": "stdout",
     "output_type": "stream",
     "text": [
      "请输入目标数值：5\n",
      "True\n"
     ]
    }
   ],
   "source": [
    "def findtarget(matrix,target):\n",
    "    m=len(matrix[0])\n",
    "    for i in range(0,len(matrix)):\n",
    "        for j in range(0,m):\n",
    "            if target ==matrix[i][j]:\n",
    "                return True\n",
    "            elif target <matrix[i][j]:\n",
    "                m=j\n",
    "    return False\n",
    "\n",
    "if __name__=='__main__':\n",
    "    matrix=[[1, 4, 7, 11, 15],\n",
    "    [2, 5, 8, 12, 19],\n",
    "    [3, 6, 9, 16, 22],\n",
    "    [10, 13, 14, 17, 24],\n",
    "    [18, 21, 23, 26, 30]]\n",
    "    target=int(input('请输入目标数值：'))\n",
    "    print(findtarget(matrix,target))"
   ]
  },
  {
   "cell_type": "markdown",
   "metadata": {},
   "source": [
    "先对第一行从第一列到最后一列进行比较，如果发现target小于第一行第m列的数字，则之后所有行的第m及更后的列的数字就不用比较了。  \n",
    "同理，对第二行、第三行进行相同的处理，就可以节省比较数字的时间。"
   ]
  },
  {
   "cell_type": "markdown",
   "metadata": {},
   "source": [
    "## (8)应用1\n",
    "做为 Apple Store App 独立开发者，你要搞限时促销，为你的应用生成激活码（或者优惠券），使用 Python 如何生成 200 个激活码（或者优惠券）？\n",
    "\n",
    "需要考虑什么是激活码？有什么特性？例如`KR603guyVvR`是一个激活码"
   ]
  },
  {
   "cell_type": "code",
   "execution_count": 8,
   "metadata": {},
   "outputs": [
    {
     "name": "stdout",
     "output_type": "stream",
     "text": [
      "请输入优惠卷代码长度：10\n",
      "MjTffpMLRq 第1张优惠券\n",
      "QKkEP0d3FT 第2张优惠券\n",
      "3LzZyz0ZFZ 第3张优惠券\n",
      "zK2XvNuLTw 第4张优惠券\n",
      "2pjy24UWAX 第5张优惠券\n",
      "zHRV3OAW0F 第6张优惠券\n",
      "roqD8SWA6x 第7张优惠券\n",
      "uktCu2RXFl 第8张优惠券\n",
      "rbZw5wkhan 第9张优惠券\n",
      "49Ej4tLcki 第10张优惠券\n",
      "DvnfDwmkTu 第11张优惠券\n",
      "RqAAY53k2u 第12张优惠券\n",
      "zbNmEs3LbG 第13张优惠券\n",
      "ayA9syjVzk 第14张优惠券\n",
      "509pmtnm37 第15张优惠券\n",
      "ljKPdRdYrO 第16张优惠券\n",
      "d36XV4GaTB 第17张优惠券\n",
      "YqOFgTxLM6 第18张优惠券\n",
      "WQwputqze6 第19张优惠券\n",
      "5N0i3sSXjv 第20张优惠券\n",
      "iWVKf3MhSl 第21张优惠券\n",
      "qp7A3uKkxM 第22张优惠券\n",
      "DOrfGqsWwc 第23张优惠券\n",
      "83nKPb4Sfy 第24张优惠券\n",
      "2IAiwWK7vm 第25张优惠券\n",
      "32S99v2x78 第26张优惠券\n",
      "1XMnbh9zEB 第27张优惠券\n",
      "4ia3s7Uh3M 第28张优惠券\n",
      "oI5VJbefnv 第29张优惠券\n",
      "aZfEOMogPy 第30张优惠券\n",
      "PlUSuYqNmE 第31张优惠券\n",
      "PaNR8LerlU 第32张优惠券\n",
      "Li0TKNOEqp 第33张优惠券\n",
      "8rCT0fva6Q 第34张优惠券\n",
      "jdR69VC4TY 第35张优惠券\n",
      "HccmDTImgV 第36张优惠券\n",
      "FVcP5LWy7v 第37张优惠券\n",
      "O0Pud5unui 第38张优惠券\n",
      "bIK9ldvd3v 第39张优惠券\n",
      "uUhjqm8Pza 第40张优惠券\n",
      "iOTrkki87N 第41张优惠券\n",
      "caxzxAThA1 第42张优惠券\n",
      "tsy4lyaZdL 第43张优惠券\n",
      "5llZw0CYBm 第44张优惠券\n",
      "FyGzlCI5ay 第45张优惠券\n",
      "ncqTpQHQnw 第46张优惠券\n",
      "jvZHLEpKcx 第47张优惠券\n",
      "qBRyRY9W92 第48张优惠券\n",
      "AX1yBsWUoc 第49张优惠券\n",
      "qbpK53G7bs 第50张优惠券\n",
      "Yg1YoYxh60 第51张优惠券\n",
      "KwBSpnZPcJ 第52张优惠券\n",
      "l4QbQd5UaB 第53张优惠券\n",
      "VGu3PDgyhA 第54张优惠券\n",
      "wqbNgwjFSe 第55张优惠券\n",
      "qKO7Bqr6eS 第56张优惠券\n",
      "ZXgS7kNMll 第57张优惠券\n",
      "u82beGjuDr 第58张优惠券\n",
      "A1KXKpp0cK 第59张优惠券\n",
      "6Laa0Pt1x6 第60张优惠券\n",
      "litMj5ZKGb 第61张优惠券\n",
      "NSntbXjEvb 第62张优惠券\n",
      "qcEKofogxx 第63张优惠券\n",
      "YarD2bsrLk 第64张优惠券\n",
      "PRASE3GWFg 第65张优惠券\n",
      "xyCxBrDllM 第66张优惠券\n",
      "vLadVC2CC2 第67张优惠券\n",
      "uTMmMNNXgr 第68张优惠券\n",
      "67EDbToziy 第69张优惠券\n",
      "R3ZM2U0bwx 第70张优惠券\n",
      "2EfskrbpA3 第71张优惠券\n",
      "yz4xWMc7uZ 第72张优惠券\n",
      "DizsFC9fSZ 第73张优惠券\n",
      "GsMd3ZNhRr 第74张优惠券\n",
      "BTSO0Quc2T 第75张优惠券\n",
      "mklPoDuwFP 第76张优惠券\n",
      "1C9AopiE3Z 第77张优惠券\n",
      "yo1EYrtMFj 第78张优惠券\n",
      "WYjIKVYAPo 第79张优惠券\n",
      "ZyYb4UDjLI 第80张优惠券\n",
      "NaXZsXnHKf 第81张优惠券\n",
      "LLRgeVQdwp 第82张优惠券\n",
      "EcdfN45JWC 第83张优惠券\n",
      "h25gl7lIYw 第84张优惠券\n",
      "vBbkCLPDiB 第85张优惠券\n",
      "zcJvnUridG 第86张优惠券\n",
      "yhC0la85ON 第87张优惠券\n",
      "ae0um0Ic47 第88张优惠券\n",
      "NSFQ2iUYiN 第89张优惠券\n",
      "IjqLwiD87U 第90张优惠券\n",
      "20BrCx4gyT 第91张优惠券\n",
      "qRgAxcEbvY 第92张优惠券\n",
      "rROhctbA1s 第93张优惠券\n",
      "6CPCxwVJnX 第94张优惠券\n",
      "xuKdw7zUUf 第95张优惠券\n",
      "qLZ7slfN26 第96张优惠券\n",
      "ZyWFBlRwij 第97张优惠券\n",
      "qQAQntxZ7V 第98张优惠券\n",
      "F881eEv0KY 第99张优惠券\n",
      "lZh92NdEks 第100张优惠券\n",
      "LR6k9Wclt7 第101张优惠券\n",
      "2p7TtRKJMR 第102张优惠券\n",
      "1VmEkUHrD0 第103张优惠券\n",
      "AlHieDjd1j 第104张优惠券\n",
      "muC5q8AiwX 第105张优惠券\n",
      "aVUiRanHvu 第106张优惠券\n",
      "yV7VkXsY1U 第107张优惠券\n",
      "36fP0LVXho 第108张优惠券\n",
      "AhlSERgIYR 第109张优惠券\n",
      "tgtqq8LGJz 第110张优惠券\n",
      "GtxUGHC0AP 第111张优惠券\n",
      "tjcImOGVGt 第112张优惠券\n",
      "xAMsAxPf9c 第113张优惠券\n",
      "MP3nQZhPJX 第114张优惠券\n",
      "1RJHbB66HY 第115张优惠券\n",
      "97JWFR0fmL 第116张优惠券\n",
      "lf2SqbAE7r 第117张优惠券\n",
      "mVOOO0Xl3b 第118张优惠券\n",
      "OkhaNHlKCD 第119张优惠券\n",
      "NvqPOv1vWe 第120张优惠券\n",
      "UWiLZ8Mymu 第121张优惠券\n",
      "OC3nn4XRZC 第122张优惠券\n",
      "X9TCu61wRb 第123张优惠券\n",
      "yKhNjZ0sR0 第124张优惠券\n",
      "jFqFasTSqy 第125张优惠券\n",
      "QrWZaDlYVZ 第126张优惠券\n",
      "3guTtMzfXw 第127张优惠券\n",
      "7MJF6SKPzH 第128张优惠券\n",
      "IYcL7XKUf7 第129张优惠券\n",
      "DLRM3qMACg 第130张优惠券\n",
      "YbLO79Vqbw 第131张优惠券\n",
      "r2vZlHC64x 第132张优惠券\n",
      "SCIrqZq9vO 第133张优惠券\n",
      "c5rR8oDZ6u 第134张优惠券\n",
      "PZVApwAwGF 第135张优惠券\n",
      "EiUuf6SRT8 第136张优惠券\n",
      "2mgju8UDYd 第137张优惠券\n",
      "6q8rcx0Uho 第138张优惠券\n",
      "bEMn3eD4tG 第139张优惠券\n",
      "E2HP2NpefR 第140张优惠券\n",
      "ZbrmGb6wTn 第141张优惠券\n",
      "PbVreW9YLi 第142张优惠券\n",
      "9GZtzIsahk 第143张优惠券\n",
      "QKhAz6kKr6 第144张优惠券\n",
      "5RKL2PdzqW 第145张优惠券\n",
      "n3Lixw97WC 第146张优惠券\n",
      "G3bOJ8sV3S 第147张优惠券\n",
      "PjqoH7gXhk 第148张优惠券\n",
      "ijOmrlKApQ 第149张优惠券\n",
      "kMiq5MDd7k 第150张优惠券\n",
      "7QtsTIXIAQ 第151张优惠券\n",
      "mupIgl9DvB 第152张优惠券\n",
      "gxEyfYK4h0 第153张优惠券\n",
      "ZvtxUpGWjQ 第154张优惠券\n",
      "kGa3av6zUn 第155张优惠券\n",
      "FPMNB7leYp 第156张优惠券\n",
      "IPefBvkI38 第157张优惠券\n",
      "SvMy1nDQTy 第158张优惠券\n",
      "aeTOqeyMQB 第159张优惠券\n",
      "guxcYDuHcF 第160张优惠券\n",
      "qejAJXl8N9 第161张优惠券\n",
      "wq21CPPFec 第162张优惠券\n",
      "MJIjYTDJbl 第163张优惠券\n",
      "ua6k9NEPTO 第164张优惠券\n",
      "LOQdE1zXL1 第165张优惠券\n",
      "VMVevW8L6H 第166张优惠券\n",
      "O6I7MNUGNQ 第167张优惠券\n",
      "bb1TGtyFHQ 第168张优惠券\n",
      "tYpmvztO2z 第169张优惠券\n",
      "7LHYfBRIsz 第170张优惠券\n",
      "VpBtYphyGs 第171张优惠券\n",
      "cd8tt0Rd5I 第172张优惠券\n",
      "MnuEIw8qwr 第173张优惠券\n",
      "a24S6XwJju 第174张优惠券\n",
      "RXWPfwWPpM 第175张优惠券\n",
      "QCpXdffICc 第176张优惠券\n",
      "ALx5ZicNRF 第177张优惠券\n",
      "NSj6Cw6zt2 第178张优惠券\n",
      "8lCyHcz4ZY 第179张优惠券\n",
      "ODdxiieD7L 第180张优惠券\n",
      "SfUc1i5uT1 第181张优惠券\n",
      "73Svgun4sr 第182张优惠券\n",
      "afnxRXXUEX 第183张优惠券\n",
      "esH06MzPsk 第184张优惠券\n",
      "aOwBb9wR6o 第185张优惠券\n",
      "vZWywX8mFu 第186张优惠券\n",
      "zfV13cRp9u 第187张优惠券\n",
      "HjcveqSVuX 第188张优惠券\n",
      "vRvJf6ReQt 第189张优惠券\n",
      "41E1HUOCLN 第190张优惠券\n",
      "STrm2ug9y8 第191张优惠券\n",
      "oTeY4OfRs3 第192张优惠券\n",
      "F3v4tcydTZ 第193张优惠券\n",
      "wXlI45MfZ8 第194张优惠券\n",
      "aUgujUXlm9 第195张优惠券\n",
      "Rh3laJcFNS 第196张优惠券\n",
      "QYYEuymd5z 第197张优惠券\n",
      "iZbDGcjJmq 第198张优惠券\n",
      "uMCtlUZCAO 第199张优惠券\n",
      "7PPBIH3ayb 第200张优惠券\n"
     ]
    }
   ],
   "source": [
    "import string\n",
    "import random\n",
    "import json\n",
    "\n",
    "q=string.digits+string.ascii_letters #生成数字与字母，其中字母区分大小写\n",
    "l=int(input('请输入优惠卷代码长度：'))\n",
    "coupons=[]\n",
    "for i in range(1,201):\n",
    "    coupon = ''\n",
    "    for j in range(1,l+1):\n",
    "        coupon=random.choice(q)+coupon #根据输入优惠码位数进行字符串相加\n",
    "    if coupon not in coupons:    #判断是否有重复的优惠码\n",
    "        coupons.append(coupon)\n",
    "for k in range(0,len(coupons)):\n",
    "    print(coupons[k],f'第{k+1}张优惠券')\n",
    "\n",
    "with open('生成的优惠券.json','a') as f:\n",
    "    json.dump(coupons,f)"
   ]
  },
  {
   "cell_type": "markdown",
   "metadata": {},
   "source": [
    "首先获取生成随机字符串的长度，然后引入所有大小写字母以及数字，根据给定的长度逐一生成再将其相加，此处需要注意要判断是否有重复的字符串，如果有重复的就不能存入优惠券，最后生成一个.json文件进行保存。"
   ]
  },
  {
   "cell_type": "markdown",
   "metadata": {},
   "source": [
    "## (9)应用2\n",
    "需要把某个目录下面所有的某种类型的文件找到。  \n",
    "例如把`c:`下面所有的`.dll`文件找到。*需要注意的是，需要递归到每一个目录去查找。*"
   ]
  },
  {
   "cell_type": "code",
   "execution_count": 9,
   "metadata": {},
   "outputs": [
    {
     "name": "stdout",
     "output_type": "stream",
     "text": [
      "请输入搜索路径：/Users/rockyy/machinelearning_homework/homework_01_python\n",
      "请输入搜索文件类型(如py或md)：py\n",
      "文件名：算法.py     路径：/Users/rockyy/machinelearning_homework/homework_01_python\n",
      "文件名：应用3.py     路径：/Users/rockyy/machinelearning_homework/homework_01_python\n",
      "文件名：循环.py     路径：/Users/rockyy/machinelearning_homework/homework_01_python\n",
      "文件名：2-3+4-5+6.....+100的和.py     路径：/Users/rockyy/machinelearning_homework/homework_01_python\n",
      "文件名：test.py     路径：/Users/rockyy/machinelearning_homework/homework_01_python\n",
      "文件名：应用2.py     路径：/Users/rockyy/machinelearning_homework/homework_01_python\n",
      "文件名：字符串.py     路径：/Users/rockyy/machinelearning_homework/homework_01_python\n",
      "文件名：应用1.py     路径：/Users/rockyy/machinelearning_homework/homework_01_python\n",
      "文件名：组合.py     路径：/Users/rockyy/machinelearning_homework/homework_01_python\n",
      "文件名：算法2.py     路径：/Users/rockyy/machinelearning_homework/homework_01_python\n",
      "文件名：判断.py     路径：/Users/rockyy/machinelearning_homework/homework_01_python\n",
      "共搜寻到文件11个\n"
     ]
    }
   ],
   "source": [
    "import os\n",
    "def findfiles(path,all,paths,filetype):\n",
    "    filelist = os.listdir(path) #列出所有的文件及文件夹\n",
    "    # 判断每个filelist里是否为文件夹，若为文件夹则进行递归处理\n",
    "    for file in filelist:\n",
    "        name= os.path.join(path,file)   #获得文件或文件夹全名\n",
    "        if os.path.isdir(name):         # 判断是否是文件夹并进行循环\n",
    "            findfiles(name,all,paths,filetype)\n",
    "        elif file.endswith(filetype):   #如果是文件，则判断文件类型是否与寻找的文件类型一致\n",
    "            all.append(file)    #添加符合类型的文件\n",
    "            paths.append(path)  #同时记录该文件的路径\n",
    "    return all,paths\n",
    "\n",
    "if __name__=='__main__':\n",
    "    searchpath=input('请输入搜索路径：')\n",
    "    filetype=input('请输入搜索文件类型(如py或md)：')\n",
    "    files,paths=findfiles(searchpath, [],[],filetype)\n",
    "    if len(files)!=0:\n",
    "        for f in range(0,len(files)):\n",
    "            print(f'文件名：{files[f]}     路径：{paths[f]}')  #输出符合类型的文件以及文件的路径\n",
    "        print(f'共搜寻到文件{len(files)}个')\n",
    "    else:print('提示：未搜索到该类型文件！')"
   ]
  },
  {
   "cell_type": "markdown",
   "metadata": {},
   "source": [
    "此处因为代码较长，所以在每一句语句后面进行了注释。主要是引入了os函数，进行文件列出、类型的判断等操作。"
   ]
  },
  {
   "cell_type": "markdown",
   "metadata": {},
   "source": [
    "## (10)应用3\n",
    "你有个目录，里面是程序（假如是C或者是Python），统计一下你写过多少行代码。包括空行和注释，但是要分别（例如C程序多少行，Python程序多少行，等等）列出来。"
   ]
  },
  {
   "cell_type": "code",
   "execution_count": 10,
   "metadata": {},
   "outputs": [
    {
     "name": "stdout",
     "output_type": "stream",
     "text": [
      "请输入搜索路径：/Users/rockyy/machinelearning_homework/homework_01_python\n",
      "请输入搜索文件类型(如py或cpp)：py\n",
      "文件名：算法.py     路径：/Users/rockyy/machinelearning_homework/homework_01_python\n",
      "共有代码行：5,共有注释行:12,共有空格行:1\n",
      "\n",
      "文件名：应用3.py     路径：/Users/rockyy/machinelearning_homework/homework_01_python\n",
      "共有代码行：43,共有注释行:5,共有空格行:3\n",
      "\n",
      "文件名：循环.py     路径：/Users/rockyy/machinelearning_homework/homework_01_python\n",
      "共有代码行：8,共有注释行:0,共有空格行:0\n",
      "\n",
      "文件名：2-3+4-5+6.....+100的和.py     路径：/Users/rockyy/machinelearning_homework/homework_01_python\n",
      "共有代码行：14,共有注释行:3,共有空格行:2\n",
      "\n",
      "文件名：test.py     路径：/Users/rockyy/machinelearning_homework/homework_01_python\n",
      "共有代码行：3,共有注释行:6,共有空格行:0\n",
      "\n",
      "文件名：应用2.py     路径：/Users/rockyy/machinelearning_homework/homework_01_python\n",
      "共有代码行：20,共有注释行:1,共有空格行:1\n",
      "\n",
      "文件名：字符串.py     路径：/Users/rockyy/machinelearning_homework/homework_01_python\n",
      "共有代码行：7,共有注释行:5,共有空格行:1\n",
      "\n",
      "文件名：应用1.py     路径：/Users/rockyy/machinelearning_homework/homework_01_python\n",
      "共有代码行：16,共有注释行:0,共有空格行:7\n",
      "\n",
      "文件名：组合.py     路径：/Users/rockyy/machinelearning_homework/homework_01_python\n",
      "共有代码行：10,共有注释行:1,共有空格行:1\n",
      "\n",
      "文件名：算法2.py     路径：/Users/rockyy/machinelearning_homework/homework_01_python\n",
      "共有代码行：17,共有注释行:2,共有空格行:2\n",
      "\n",
      "文件名：判断.py     路径：/Users/rockyy/machinelearning_homework/homework_01_python\n",
      "共有代码行：10,共有注释行:0,共有空格行:0\n",
      "\n",
      "总共搜索到11个py文件,共计代码行：153,共计注释行：35，共计空格行：18\n"
     ]
    }
   ],
   "source": [
    "import string\n",
    "import 应用2 # 用于搜寻所有py或cpp文件\n",
    "\n",
    "def count_lines(file):\n",
    "    #打开文件并初始化参数\n",
    "    with open(file,'r', encoding='utf8') as f:\n",
    "        lines=f.readlines()\n",
    "        lines_zhushi=0\n",
    "        lines_code=0\n",
    "        n=0\n",
    "        f.seek(0)\n",
    "    #统计总代码行数量，因为readlines不会读取空格行，所以需用readline读取\n",
    "        while True:\n",
    "            total=f.readline()\n",
    "            if total:\n",
    "                n+=1\n",
    "            else:\n",
    "                break\n",
    "    #开始统计每种类型数量\n",
    "        for i in range(0,len(lines)):\n",
    "            ls=lines[i]\n",
    "            for j in range(0,len(ls)):  #判断第j行类型\n",
    "                if ls[j]=='#':\n",
    "                    lines_zhushi+=1\n",
    "                    break\n",
    "                if ls[j] in string.digits+string.ascii_letters:\n",
    "                    lines_code +=1\n",
    "                    break\n",
    "        return_lines=[lines_code, lines_zhushi, n-lines_code-lines_zhushi]  # 返回计算值\n",
    "    return return_lines\n",
    "\n",
    "if __name__=='__main__':\n",
    "    searchpath = input('请输入搜索路径：')\n",
    "    filetype = input('请输入搜索文件类型(如py或cpp)：')\n",
    "    files, paths = 应用2.findfiles(searchpath, [], [], filetype)  #利用应用2的文件类型匹配函数\n",
    "    total_code,total_zhushi,total_block=0,0,0\n",
    "    lines = [total_code, total_zhushi, total_block]\n",
    "    if len(files) != 0:\n",
    "        for f in range(0, len(files)):\n",
    "            return_lines=count_lines(files[f])\n",
    "            lines[0]=lines[0]+return_lines[0]\n",
    "            lines[1]=lines[1]+return_lines[1]\n",
    "            lines[2]=lines[2]+return_lines[2]\n",
    "            print(f'文件名：{files[f]}     路径：{paths[f]}')\n",
    "            print(f'共有代码行：{return_lines[0]},共有注释行:{return_lines[1]},共有空格行:{return_lines[2]}')\n",
    "            print()\n",
    "        print(f'总共搜索到{len(files)}个{filetype}文件,共计代码行：{lines[0]},共计注释行：{lines[1]}，共计空格行：{lines[2]}')\n",
    "    else:print('提示：未搜索到该类型文件！')\n"
   ]
  },
  {
   "cell_type": "markdown",
   "metadata": {},
   "source": [
    "此处，我引入了(9)题的部分代码，先进行对py或者cpp文件进行查找，所以import 应用2。另外，要判断文件内容则先用readline将代码逐一读入，注意此处不能用readlines，不然空行会被直接忽略，所以要用While和readline进行读取并存放。然后再通过有无'#'进行判断每一行的类型，但是有一点不足的是，这样的话，如果代码后跟上注释，则会被当作代码行。"
   ]
  }
 ],
 "metadata": {
  "kernelspec": {
   "display_name": "Python 3",
   "language": "python",
   "name": "python3"
  },
  "language_info": {
   "codemirror_mode": {
    "name": "ipython",
    "version": 3
   },
   "file_extension": ".py",
   "mimetype": "text/x-python",
   "name": "python",
   "nbconvert_exporter": "python",
   "pygments_lexer": "ipython3",
   "version": "3.8.8"
  }
 },
 "nbformat": 4,
 "nbformat_minor": 1
}
