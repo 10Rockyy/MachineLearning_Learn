{
 "cells": [
  {
   "cell_type": "markdown",
   "id": "ebf46296",
   "metadata": {},
   "source": [
    "# Report 01- Accident_claims\n",
    "\n",
    "* 姓名：石宇洋\n",
    "* 学号：2019301660\n",
    "\n",
    "## 任务简介\n",
    "* 任务类型：二元分类\n",
    "\n",
    "* 背景介绍：在交通摩擦（事故）发生后，理赔员会前往现场勘察、采集信息，这些信息往往影响着车主是否能够得到保险公司的理赔。训练集数据包括理赔人员在现场对该事故方采集的36条信息，信息已经被编码，以及该事故方最终是否获得理赔。我们的任务是根据这36条信息预测该事故方没有被理赔的概率。\n",
    "\n",
    "* 数据介绍：训练集中共有200000条样本，预测集中有80000条样本。\n",
    "\n",
    "<img src=\"images/data_description.png\" style=\"zoom:90%\" />  \n",
    "\n",
    "* 评价方法：Precision-Recall, AUC\n",
    "\n",
    "## 解决途径\n",
    "### 一.问题的思考，整体的思路\n",
    "### 1.分析理解题意，解析使用方法及模型\n",
    "* 首先，进入竞赛官网查看题目详细要求，发现这实际上是一个**有监督的二分类问题**。所以，第一时间我便想到了使用时间作业时构建的**逻辑回归**与**全连接神经网络**两种模型进行求解。另外，在竞赛网站上发现了其给出的示范模型中包含正确度很高的**随机森林模型**，所以我也打算先了解该模型的具体内容，然后再用此模型具体实践。\n",
    "\n",
    "* 然后，分析题目给出的数据集，分为包含200000个样本的训练集、80000个样本的预测集。其中，每个样本包含36个维度的特征，训练集的样本分别有标签0(通过),1(未通过)，典型的二分类。\n",
    "\n",
    "### 2.了解评价规则，解析评价方法\n",
    "* 首先，我们需要提交的结果为每个测试样本未通过审核的概率，也就是Evaluation为1的概率。\n",
    "* 评价方法为精度-召回曲线下面积(Precision-Recall AUC)，以下简称PR-AUC。PR-AUC的取值范围是0到1。越接近1，说明模型预测的结果越接近真实结果。\n",
    "\n",
    "#### （1）混淆矩阵(Confusion matrix)\n",
    "* 首先，需要了解评价方法中的“精度”、“召回”等概念。这些没见过的新名词是由“混淆矩阵”中的数据得来的。所以，我们先来了解什么是混淆矩阵。\n",
    "* 对于一个二分类的模型，它的混淆矩阵是这样的：\n",
    "<img src=\"images/2.png\" style=\"zoom:60%\" />  \n",
    "* 所以通过该表格我们就可以得到““精度”、“召回”等数值。  \n",
    "准确度(Accuracy) = (TP+TN) / (TP+TN+FN+TN)  \n",
    "精度(Precision) = TP / (TP + FP)  \n",
    "召回(Recall) = TP / (TP + FN)  \n",
    "特异度(Specificity) = TN / (TN + FP)\n",
    "\n",
    "#### （2）ROC曲线与AUC值  \n",
    "* 模型训练完成之后，每个样本都会获得对应的两个概率值，一个是样本为1的概率，一个是样本为0的概率。把每个样本为1的概率取出来，进行排序，然后选定一个阈值，将大于这个阈值的样本判定为1，小于阈值的样本判定为0，然后可以得到两个值，一个是**精度**，一个是**召回**。\n",
    "* 每选定一个阈值，就能得到一对精度和召回，由于判定为1的概率值区间为[0,1]，那么阈值必然在这个区间内选择，因此在此区间内不停地选择不同的阈值，重复这个过程，就能得到一系列的真正率和假正率，以这两个序列作为横纵坐标，即可得到ROC曲线了。而ROC曲线下方的面积，即为AUC值。\n",
    "<img src=\"images/3.png\" style=\"zoom:45%\" /> \n",
    "\n",
    "#### （3）计算AUC值\n",
    "* Python中可直接Sklearn库函数进行计算。\n",
    "\n",
    "### 3.了解数据集组成\n",
    "* 了解数据集的数据组成，可以帮助后续预处理数据时更高效完成任务\n",
    "\n",
    "### <big>二. Go Code Writing</big>\n",
    "* <big>为了使代码看起来更清晰，我在每一句命令后面基本上都添加了注释</big>\n",
    "\n",
    "### <big>1.逻辑回归</big>\n",
    "* 思路  \n",
    "1）先利用pandas对数据集进行预处理  \n",
    "2）利用sklearn的逻辑回归库对数据进行学习  \n",
    "3）对数据进行预测  \n",
    "4）绘制ROC曲线，计算预测准确度、AUC值等\n",
    "\n",
    "### (1)导入第三方库"
   ]
  },
  {
   "cell_type": "code",
   "execution_count": 1,
   "id": "ed2f8077",
   "metadata": {},
   "outputs": [],
   "source": [
    "import numpy as np\n",
    "import pandas as pd\n",
    "from sklearn.linear_model import LogisticRegression\n",
    "from sklearn.metrics import accuracy_score\n",
    "from sklearn.metrics import roc_auc_score\n",
    "from sklearn.metrics import roc_curve\n",
    "from sklearn.metrics import precision_recall_curve\n",
    "from matplotlib import pyplot as plt\n",
    "import time"
   ]
  },
  {
   "cell_type": "markdown",
   "id": "a13a6901",
   "metadata": {},
   "source": [
    "### (2)预处理数据"
   ]
  },
  {
   "cell_type": "code",
   "execution_count": 2,
   "id": "6d831363",
   "metadata": {},
   "outputs": [],
   "source": [
    "train_dataset=pd.read_csv('data/train.csv') #导入训练数据集\n",
    "predict_dataset=pd.read_csv('data/test.csv') #导入测试数据集\n",
    "train_labels=train_dataset['Evaluation'] #保存测试训练集样本标签\n",
    "# print(type(train_labels))\n",
    "train_dataset=train_dataset.drop(['CaseId','Evaluation'],axis=1) #预处理，去掉不需要的CaseId和Evaluation列\n",
    "predict_dataset=predict_dataset.drop(['CaseId'],axis=1) #预处理，去掉不需要的CaseId列"
   ]
  },
  {
   "cell_type": "markdown",
   "id": "9838fb0e",
   "metadata": {},
   "source": [
    "### (3)逻辑回归算法"
   ]
  },
  {
   "cell_type": "code",
   "execution_count": 3,
   "id": "d259ae66",
   "metadata": {},
   "outputs": [
    {
     "name": "stdout",
     "output_type": "stream",
     "text": [
      "训练用时4.69343900680542s\n",
      "预测训练集的样本用时0.009878873825073242s\n",
      "使用训练数据集测试LR模型，正确率为88.5155%\n"
     ]
    }
   ],
   "source": [
    "time_start=time.time()\n",
    "LR=LogisticRegression(max_iter=5000) #生成逻辑回归实例\n",
    "LR.fit(train_dataset,train_labels) #训练\n",
    "print(f'训练用时{time.time()-time_start}s')\n",
    "# 用训练数据集预测\n",
    "time_start=time.time()\n",
    "train_dataset_predictlabels=LR.predict(train_dataset) #得到训练数据集的预测标签\n",
    "print(f'预测训练集的样本用时{time.time()-time_start}s')\n",
    "train_dataset_accuracy=accuracy_score(train_labels,train_dataset_predictlabels) #得到训练数据集的预测正确率\n",
    "print(f'使用训练数据集测试LR模型，正确率为{train_dataset_accuracy*100}%')\n",
    "# 用测试数据集预测\n",
    "predict_dataset_predictlabels=LR.predict(predict_dataset) #预测\n",
    "# 保存测试数据集的预测结果\n",
    "Caseid=pd.DataFrame(np.array(np.arange(80000)+200001),columns=['Caseid']) #生成id数组，并且生成文件类型的列\n",
    "predictlabels=pd.DataFrame(predict_dataset_predictlabels,columns=['Evaluation']) #将预测的标签生成文件类型的列\n",
    "submit_data_LR=pd.concat([Caseid,predictlabels],axis=1) #将id与预测标签合并\n",
    "submit_data_LR.to_csv(\"submit_data/submit_data_LR\",index=False) #生成的文件保存"
   ]
  },
  {
   "cell_type": "markdown",
   "id": "6caed811",
   "metadata": {},
   "source": [
    "### (4)绘制ROC曲线(因为没有测试数据集的真正标签，所以用训练数据集的数据进行ROC曲线绘制，并且计算AUC)"
   ]
  },
  {
   "cell_type": "code",
   "execution_count": 4,
   "id": "255d1cf4",
   "metadata": {
    "scrolled": true
   },
   "outputs": [
    {
     "data": {
      "image/png": "[encoded data removed]",
      "text/plain": [
       "<Figure size 432x288 with 1 Axes>"
      ]
     },
     "metadata": {
      "needs_background": "light"
     },
     "output_type": "display_data"
    }
   ],
   "source": [
    "predictlabels_to_one=LR.predict_proba(train_dataset)[:,1] #得到训练数据集预测标签为1的概率\n",
    "false_positive_rate,true_positive_rate,thresholds=roc_curve(train_labels,predictlabels_to_one) #获得真正率或假正率\n",
    "plt.figure(1) #绘图\n",
    "plt.plot(false_positive_rate,true_positive_rate) #绘制ROC曲线\n",
    "plt.xlim([0,1]) #x范围\n",
    "plt.ylim([0,1]) #y范围\n",
    "plt.plot([0,1],[0,1],'--') #随机分布曲线\n",
    "plt.title('ROC Curve') #标题\n",
    "plt.grid() #网格（更好看）\n",
    "plt.xlabel('FPR') #横坐标\n",
    "plt.ylabel('TPR') #纵坐标\n",
    "plt.show() #show"
   ]
  },
  {
   "cell_type": "markdown",
   "id": "9d09441d",
   "metadata": {},
   "source": [
    "### (5)绘制PR曲线"
   ]
  },
  {
   "cell_type": "code",
   "execution_count": 5,
   "id": "8534502c",
   "metadata": {},
   "outputs": [
    {
     "data": {
      "image/png": "[encoded data removed]",
      "text/plain": [
       "<Figure size 432x288 with 1 Axes>"
      ]
     },
     "metadata": {
      "needs_background": "light"
     },
     "output_type": "display_data"
    }
   ],
   "source": [
    "Precision,Recall,thresholds=precision_recall_curve(train_labels,predictlabels_to_one) #通过调用函数获得精确和召回\n",
    "plt.figure(2) #绘图\n",
    "plt.plot(Precision,Recall) #绘制PR曲线\n",
    "plt.xlim([0,1]) #x范围\n",
    "plt.ylim([0,1]) #y范围\n",
    "plt.title('PR Curve') #标题\n",
    "plt.title('PR Curve') \n",
    "plt.grid()#网格（更好看）\n",
    "plt.xlabel('Recall') #横坐标\n",
    "plt.ylabel('Precision') #纵坐标\n",
    "plt.show() #show"
   ]
  },
  {
   "cell_type": "markdown",
   "id": "b1147c15",
   "metadata": {},
   "source": [
    "### (5)计算AUC值"
   ]
  },
  {
   "cell_type": "code",
   "execution_count": 6,
   "id": "ee6b1a43",
   "metadata": {},
   "outputs": [
    {
     "name": "stdout",
     "output_type": "stream",
     "text": [
      "LR模型的AUC值为0.6903555164684188\n"
     ]
    }
   ],
   "source": [
    "AUC=roc_auc_score(train_labels,train_dataset_predictlabels) #直接调用函数计算\n",
    "print(f'LR模型的AUC值为{AUC}')"
   ]
  },
  {
   "cell_type": "markdown",
   "id": "772e16a4",
   "metadata": {},
   "source": [
    "### 总结\n",
    "<big>从结果来看，预测的正确还是比较好的，运行时间也比较可观，但是计算出的AUC结果并不是很理想(Plus:这里需要指出，计算的AUC并不是ROC曲线下的面积，而是PR曲线下的面积），所以接下来使用之前用过的NN来试一试。"
   ]
  },
  {
   "cell_type": "markdown",
   "id": "f116a27c",
   "metadata": {},
   "source": [
    "### <big>2.自己写的神经网络</big>\n",
    "<big>这里我打算先用自己之前在作业中写的NN来试一试（虽然知道会被sklearn吊打，但还是很期待自己程序的正确率和用时等情况）</big>\n",
    "### (1)导入自己写的NN库和第三方库"
   ]
  },
  {
   "cell_type": "code",
   "execution_count": 7,
   "id": "2786be51",
   "metadata": {},
   "outputs": [],
   "source": [
    "import NN #自己之前写的NN\n",
    "import pandas as pd\n",
    "import time\n",
    "from sklearn.metrics import roc_auc_score"
   ]
  },
  {
   "cell_type": "markdown",
   "id": "91033b64",
   "metadata": {},
   "source": [
    "### (2)预处理数据(基本和前面的LR处理一致，只是为了匹配写的算法，需要将Dataframe格式转为ndarray格式）"
   ]
  },
  {
   "cell_type": "code",
   "execution_count": 8,
   "id": "faa3281d",
   "metadata": {},
   "outputs": [],
   "source": [
    "train_dataset=pd.read_csv('data/train.csv') #导入训练数据集\n",
    "predict_dataset=pd.read_csv('data/test.csv') #导入测试数据集\n",
    "train_labels=train_dataset['Evaluation'] #保存测试训练集样本标签\n",
    "# print(type(train_labels))\n",
    "train_dataset=train_dataset.drop(['CaseId','Evaluation'],axis=1) #预处理，去掉不需要的CaseId和Evaluation列\n",
    "predict_dataset=predict_dataset.drop(['CaseId'],axis=1) #预处理，去掉不需要的CaseId列\n",
    "train_labels=train_labels.to_numpy() #从Dataframe格式转为ndarray格式\n",
    "train_dataset=train_dataset.to_numpy() #从Dataframe格式转为ndarray格式\n",
    "# train_dataset=np.array(train_dataset)\n",
    "# train_labels=np.array(train_labels)\n",
    "# print(np.shape(train_dataset))"
   ]
  },
  {
   "cell_type": "markdown",
   "id": "ec40107f",
   "metadata": {},
   "source": [
    "### (3)NN开始吧！\n",
    "**Plus：由于自己的算法实在不太行，所以这里只在200000个样本中训练了2000个样本，多了属实用时太长。**"
   ]
  },
  {
   "cell_type": "code",
   "execution_count": 9,
   "id": "70c3174a",
   "metadata": {
    "scrolled": true
   },
   "outputs": [
    {
     "name": "stdout",
     "output_type": "stream",
     "text": [
      "这是第1次训练,正确率为37.95%\n",
      "这是第2次训练,正确率为84.2%\n",
      "这是第3次训练,正确率为84.2%\n",
      "这是第4次训练,正确率为84.2%\n",
      "这是第5次训练,正确率为84.2%\n",
      "这是第6次训练,正确率为84.2%\n",
      "这是第7次训练,正确率为84.2%\n",
      "这是第8次训练,正确率为84.2%\n",
      "这是第9次训练,正确率为84.2%\n",
      "这是第10次训练,正确率为84.2%\n",
      "这是第11次训练,正确率为84.2%\n",
      "这是第12次训练,正确率为84.2%\n",
      "这是第13次训练,正确率为84.2%\n",
      "这是第14次训练,正确率为84.2%\n",
      "这是第15次训练,正确率为84.2%\n",
      "这是第16次训练,正确率为84.2%\n",
      "这是第17次训练,正确率为84.2%\n",
      "这是第18次训练,正确率为84.2%\n",
      "这是第19次训练,正确率为84.2%\n",
      "这是第20次训练,正确率为84.2%\n",
      "这是第21次训练,正确率为84.2%\n",
      "这是第22次训练,正确率为84.2%\n",
      "这是第23次训练,正确率为84.2%\n",
      "这是第24次训练,正确率为84.2%\n",
      "这是第25次训练,正确率为84.2%\n",
      "这是第26次训练,正确率为84.2%\n",
      "这是第27次训练,正确率为84.2%\n",
      "这是第28次训练,正确率为84.2%\n",
      "这是第29次训练,正确率为84.2%\n",
      "这是第30次训练,正确率为84.2%\n",
      "这是第31次训练,正确率为84.2%\n",
      "这是第32次训练,正确率为84.2%\n",
      "这是第33次训练,正确率为84.2%\n",
      "这是第34次训练,正确率为84.2%\n",
      "这是第35次训练,正确率为84.2%\n",
      "这是第36次训练,正确率为84.2%\n",
      "这是第37次训练,正确率为84.2%\n",
      "这是第38次训练,正确率为84.2%\n",
      "这是第39次训练,正确率为84.2%\n",
      "这是第40次训练,正确率为84.2%\n",
      "这是第41次训练,正确率为84.2%\n",
      "这是第42次训练,正确率为84.2%\n",
      "这是第43次训练,正确率为84.2%\n",
      "这是第44次训练,正确率为84.2%\n",
      "这是第45次训练,正确率为84.2%\n",
      "这是第46次训练,正确率为84.2%\n",
      "这是第47次训练,正确率为84.2%\n",
      "这是第48次训练,正确率为84.2%\n",
      "这是第49次训练,正确率为84.2%\n",
      "这是第50次训练,正确率为84.2%\n",
      "这是第51次训练,正确率为84.2%\n",
      "这是第52次训练,正确率为84.2%\n",
      "这是第53次训练,正确率为84.2%\n",
      "这是第54次训练,正确率为84.2%\n",
      "这是第55次训练,正确率为84.2%\n",
      "这是第56次训练,正确率为84.2%\n",
      "这是第57次训练,正确率为84.2%\n",
      "这是第58次训练,正确率为84.2%\n",
      "这是第59次训练,正确率为84.2%\n",
      "这是第60次训练,正确率为84.2%\n",
      "这是第61次训练,正确率为84.2%\n",
      "这是第62次训练,正确率为84.2%\n",
      "这是第63次训练,正确率为84.2%\n",
      "这是第64次训练,正确率为84.2%\n",
      "这是第65次训练,正确率为84.2%\n",
      "这是第66次训练,正确率为84.2%\n",
      "这是第67次训练,正确率为84.2%\n",
      "这是第68次训练,正确率为84.2%\n",
      "这是第69次训练,正确率为84.2%\n",
      "这是第70次训练,正确率为84.2%\n",
      "这是第71次训练,正确率为84.2%\n",
      "这是第72次训练,正确率为84.2%\n",
      "这是第73次训练,正确率为84.2%\n",
      "这是第74次训练,正确率为84.2%\n",
      "这是第75次训练,正确率为84.2%\n",
      "这是第76次训练,正确率为84.2%\n",
      "这是第77次训练,正确率为84.2%\n",
      "这是第78次训练,正确率为84.2%\n",
      "这是第79次训练,正确率为84.2%\n",
      "这是第80次训练,正确率为84.2%\n",
      "这是第81次训练,正确率为84.2%\n",
      "这是第82次训练,正确率为84.2%\n",
      "这是第83次训练,正确率为84.2%\n",
      "这是第84次训练,正确率为84.2%\n",
      "这是第85次训练,正确率为84.2%\n",
      "这是第86次训练,正确率为84.2%\n",
      "这是第87次训练,正确率为84.2%\n",
      "这是第88次训练,正确率为84.2%\n",
      "这是第89次训练,正确率为84.2%\n",
      "这是第90次训练,正确率为84.2%\n",
      "这是第91次训练,正确率为84.2%\n",
      "这是第92次训练,正确率为84.2%\n",
      "这是第93次训练,正确率为84.2%\n",
      "这是第94次训练,正确率为84.2%\n",
      "这是第95次训练,正确率为84.2%\n",
      "这是第96次训练,正确率为84.2%\n",
      "这是第97次训练,正确率为84.2%\n",
      "这是第98次训练,正确率为84.2%\n",
      "这是第99次训练,正确率为84.2%\n",
      "这是第100次训练,正确率为84.2%\n",
      "这是第101次训练,正确率为84.2%\n",
      "这是第102次训练,正确率为84.2%\n",
      "这是第103次训练,正确率为84.2%\n",
      "这是第104次训练,正确率为84.2%\n",
      "这是第105次训练,正确率为84.2%\n",
      "这是第106次训练,正确率为84.2%\n",
      "这是第107次训练,正确率为84.2%\n",
      "这是第108次训练,正确率为84.2%\n",
      "这是第109次训练,正确率为84.2%\n",
      "这是第110次训练,正确率为84.2%\n",
      "这是第111次训练,正确率为84.2%\n",
      "这是第112次训练,正确率为84.2%\n",
      "这是第113次训练,正确率为84.2%\n",
      "这是第114次训练,正确率为84.2%\n",
      "这是第115次训练,正确率为84.2%\n",
      "这是第116次训练,正确率为84.2%\n",
      "这是第117次训练,正确率为84.2%\n",
      "这是第118次训练,正确率为84.2%\n",
      "这是第119次训练,正确率为84.2%\n",
      "这是第120次训练,正确率为84.2%\n",
      "这是第121次训练,正确率为84.2%\n",
      "这是第122次训练,正确率为84.2%\n",
      "这是第123次训练,正确率为84.2%\n",
      "这是第124次训练,正确率为84.2%\n",
      "这是第125次训练,正确率为84.2%\n",
      "这是第126次训练,正确率为84.2%\n",
      "这是第127次训练,正确率为84.2%\n",
      "这是第128次训练,正确率为84.2%\n",
      "这是第129次训练,正确率为84.2%\n",
      "这是第130次训练,正确率为84.2%\n",
      "这是第131次训练,正确率为84.2%\n",
      "这是第132次训练,正确率为84.2%\n",
      "这是第133次训练,正确率为84.2%\n",
      "这是第134次训练,正确率为84.2%\n",
      "这是第135次训练,正确率为84.2%\n",
      "这是第136次训练,正确率为84.2%\n",
      "这是第137次训练,正确率为84.2%\n",
      "这是第138次训练,正确率为84.2%\n",
      "这是第139次训练,正确率为84.2%\n",
      "这是第140次训练,正确率为84.2%\n",
      "这是第141次训练,正确率为84.2%\n",
      "这是第142次训练,正确率为84.2%\n",
      "这是第143次训练,正确率为84.2%\n",
      "这是第144次训练,正确率为84.2%\n",
      "这是第145次训练,正确率为84.2%\n",
      "这是第146次训练,正确率为84.2%\n",
      "这是第147次训练,正确率为84.2%\n",
      "这是第148次训练,正确率为84.2%\n",
      "这是第149次训练,正确率为84.2%\n",
      "这是第150次训练,正确率为84.2%\n",
      "这是第151次训练,正确率为84.2%\n",
      "这是第152次训练,正确率为84.2%\n",
      "这是第153次训练,正确率为84.2%\n",
      "这是第154次训练,正确率为84.2%\n",
      "这是第155次训练,正确率为84.2%\n",
      "这是第156次训练,正确率为84.2%\n",
      "这是第157次训练,正确率为84.2%\n",
      "这是第158次训练,正确率为85.2%\n",
      "这是第159次训练,正确率为85.15%\n",
      "这是第160次训练,正确率为85.9%\n",
      "这是第161次训练,正确率为84.2%\n",
      "这是第162次训练,正确率为84.2%\n",
      "这是第163次训练,正确率为84.2%\n",
      "这是第164次训练,正确率为84.2%\n",
      "这是第165次训练,正确率为85.3%\n",
      "这是第166次训练,正确率为84.2%\n",
      "这是第167次训练,正确率为86.95%\n",
      "这是第168次训练,正确率为84.2%\n",
      "这是第169次训练,正确率为84.2%\n",
      "这是第170次训练,正确率为84.2%\n",
      "这是第171次训练,正确率为84.95%\n",
      "这是第172次训练,正确率为85.15%\n",
      "这是第173次训练,正确率为85.05%\n",
      "这是第174次训练,正确率为84.8%\n",
      "这是第175次训练,正确率为84.6%\n",
      "这是第176次训练,正确率为85.1%\n",
      "这是第177次训练,正确率为85.45%\n",
      "这是第178次训练,正确率为86.45%\n",
      "这是第179次训练,正确率为85.45%\n",
      "这是第180次训练,正确率为85.39999999999999%\n",
      "这是第181次训练,正确率为84.95%\n",
      "这是第182次训练,正确率为84.2%\n",
      "这是第183次训练,正确率为85.2%\n",
      "这是第184次训练,正确率为85.0%\n",
      "这是第185次训练,正确率为84.75%\n",
      "这是第186次训练,正确率为85.1%\n",
      "这是第187次训练,正确率为86.05000000000001%\n",
      "这是第188次训练,正确率为86.3%\n",
      "这是第189次训练,正确率为85.25%\n",
      "这是第190次训练,正确率为85.45%\n",
      "这是第191次训练,正确率为86.6%\n",
      "这是第192次训练,正确率为84.75%\n",
      "这是第193次训练,正确率为85.15%\n",
      "这是第194次训练,正确率为85.05%\n",
      "这是第195次训练,正确率为84.95%\n",
      "这是第196次训练,正确率为84.85000000000001%\n",
      "这是第197次训练,正确率为84.55%\n",
      "这是第198次训练,正确率为84.85000000000001%\n",
      "这是第199次训练,正确率为86.1%\n",
      "这是第200次训练,正确率为86.45%\n",
      "这是第201次训练,正确率为87.35000000000001%\n",
      "这是第202次训练,正确率为85.7%\n",
      "这是第203次训练,正确率为87.8%\n",
      "这是第204次训练,正确率为85.05%\n",
      "这是第205次训练,正确率为84.75%\n",
      "这是第206次训练,正确率为85.35000000000001%\n",
      "这是第207次训练,正确率为87.1%\n",
      "这是第208次训练,正确率为86.2%\n",
      "这是第209次训练,正确率为85.55%\n",
      "这是第210次训练,正确率为86.75%\n",
      "这是第211次训练,正确率为85.0%\n",
      "这是第212次训练,正确率为85.05%\n",
      "这是第213次训练,正确率为85.2%\n",
      "这是第214次训练,正确率为87.9%\n",
      "这是第215次训练,正确率为85.05%\n",
      "这是第216次训练,正确率为85.25%\n",
      "这是第217次训练,正确率为87.64999999999999%\n",
      "这是第218次训练,正确率为85.5%\n",
      "这是第219次训练,正确率为86.95%\n",
      "这是第220次训练,正确率为85.45%\n",
      "这是第221次训练,正确率为85.7%\n",
      "这是第222次训练,正确率为85.2%\n",
      "这是第223次训练,正确率为85.15%\n",
      "这是第224次训练,正确率为85.15%\n",
      "这是第225次训练,正确率为85.05%\n",
      "这是第226次训练,正确率为84.95%\n",
      "这是第227次训练,正确率为84.89999999999999%\n",
      "这是第228次训练,正确率为84.6%\n",
      "这是第229次训练,正确率为84.85000000000001%\n",
      "这是第230次训练,正确率为84.8%\n",
      "这是第231次训练,正确率为85.45%\n",
      "这是第232次训练,正确率为86.0%\n",
      "这是第233次训练,正确率为86.4%\n",
      "这是第234次训练,正确率为86.9%\n",
      "这是第235次训练,正确率为86.5%\n",
      "这是第236次训练,正确率为87.55%\n",
      "这是第237次训练,正确率为87.15%\n",
      "这是第238次训练,正确率为86.8%\n",
      "这是第239次训练,正确率为85.1%\n",
      "这是第240次训练,正确率为84.95%\n",
      "这是第241次训练,正确率为84.89999999999999%\n",
      "这是第242次训练,正确率为84.55%\n",
      "这是第243次训练,正确率为84.85000000000001%\n",
      "这是第244次训练,正确率为86.45%\n",
      "这是第245次训练,正确率为86.9%\n",
      "这是第246次训练,正确率为86.75%\n",
      "这是第247次训练,正确率为87.6%\n",
      "这是第248次训练,正确率为86.3%\n",
      "这是第249次训练,正确率为87.7%\n",
      "这是第250次训练,正确率为84.65%\n",
      "这是第251次训练,正确率为85.39999999999999%\n",
      "这是第252次训练,正确率为87.3%\n",
      "这是第253次训练,正确率为86.85000000000001%\n",
      "这是第254次训练,正确率为84.95%\n",
      "这是第255次训练,正确率为84.8%\n",
      "这是第256次训练,正确率为84.6%\n",
      "这是第257次训练,正确率为86.0%\n",
      "这是第258次训练,正确率为86.75%\n",
      "这是第259次训练,正确率为86.95%\n",
      "这是第260次训练,正确率为87.75%\n",
      "这是第261次训练,正确率为86.9%\n",
      "这是第262次训练,正确率为85.8%\n",
      "这是第263次训练,正确率为85.1%\n",
      "这是第264次训练,正确率为85.05%\n",
      "这是第265次训练,正确率为85.0%\n",
      "这是第266次训练,正确率为84.75%\n",
      "这是第267次训练,正确率为84.65%\n",
      "这是第268次训练,正确率为84.7%\n",
      "这是第269次训练,正确率为85.35000000000001%\n",
      "这是第270次训练,正确率为85.75%\n",
      "这是第271次训练,正确率为86.3%\n",
      "这是第272次训练,正确率为87.0%\n",
      "这是第273次训练,正确率为86.55000000000001%\n",
      "这是第274次训练,正确率为86.5%\n",
      "这是第275次训练,正确率为87.45%\n",
      "这是第276次训练,正确率为87.64999999999999%\n",
      "这是第277次训练,正确率为87.1%\n",
      "这是第278次训练,正确率为87.5%\n",
      "这是第279次训练,正确率为84.95%\n",
      "这是第280次训练,正确率为84.85000000000001%\n",
      "这是第281次训练,正确率为86.25%\n",
      "这是第282次训练,正确率为87.4%\n",
      "这是第283次训练,正确率为87.5%\n",
      "这是第284次训练,正确率为85.0%\n",
      "这是第285次训练,正确率为86.2%\n",
      "这是第286次训练,正确率为87.3%\n",
      "这是第287次训练,正确率为86.5%\n",
      "这是第288次训练,正确率为84.8%\n",
      "这是第289次训练,正确率为84.6%\n",
      "这是第290次训练,正确率为85.9%\n",
      "这是第291次训练,正确率为86.9%\n",
      "这是第292次训练,正确率为87.0%\n",
      "这是第293次训练,正确率为87.1%\n",
      "这是第294次训练,正确率为85.15%\n",
      "这是第295次训练,正确率为86.85000000000001%\n",
      "这是第296次训练,正确率为88.0%\n",
      "这是第297次训练,正确率为87.15%\n",
      "这是第298次训练,正确率为85.95%\n",
      "这是第299次训练,正确率为84.95%\n",
      "这是第300次训练,正确率为84.8%\n",
      "这是第301次训练,正确率为84.6%\n",
      "这是第302次训练,正确率为84.8%\n",
      "这是第303次训练,正确率为86.45%\n",
      "这是第304次训练,正确率为87.15%\n",
      "这是第305次训练,正确率为86.6%\n",
      "这是第306次训练,正确率为87.25%\n",
      "这是第307次训练,正确率为87.4%\n",
      "这是第308次训练,正确率为87.5%\n",
      "这是第309次训练,正确率为85.15%\n",
      "这是第310次训练,正确率为87.35000000000001%\n",
      "这是第311次训练,正确率为88.14999999999999%\n",
      "这是第312次训练,正确率为86.1%\n",
      "这是第313次训练,正确率为87.55%\n",
      "这是第314次训练,正确率为88.4%\n",
      "这是第315次训练,正确率为86.8%\n",
      "这是第316次训练,正确率为85.2%\n",
      "这是第317次训练,正确率为85.1%\n",
      "这是第318次训练,正确率为85.0%\n",
      "这是第319次训练,正确率为84.8%\n",
      "这是第320次训练,正确率为84.7%\n",
      "这是第321次训练,正确率为84.75%\n",
      "这是第322次训练,正确率为85.45%\n",
      "这是第323次训练,正确率为86.2%\n",
      "这是第324次训练,正确率为86.5%\n",
      "这是第325次训练,正确率为86.75%\n",
      "这是第326次训练,正确率为86.1%\n",
      "这是第327次训练,正确率为87.0%\n",
      "这是第328次训练,正确率为87.15%\n",
      "这是第329次训练,正确率为87.1%\n",
      "这是第330次训练,正确率为85.0%\n",
      "这是第331次训练,正确率为86.65%\n",
      "这是第332次训练,正确率为87.3%\n",
      "这是第333次训练,正确率为86.85000000000001%\n",
      "这是第334次训练,正确率为85.0%\n",
      "这是第335次训练,正确率为86.35000000000001%\n",
      "这是第336次训练,正确率为87.35000000000001%\n",
      "这是第337次训练,正确率为86.95%\n",
      "这是第338次训练,正确率为85.0%\n",
      "这是第339次训练,正确率为86.6%\n",
      "这是第340次训练,正确率为87.75%\n",
      "这是第341次训练,正确率为87.6%\n",
      "这是第342次训练,正确率为85.7%\n",
      "这是第343次训练,正确率为87.1%\n",
      "这是第344次训练,正确率为85.85000000000001%\n",
      "这是第345次训练,正确率为84.85000000000001%\n",
      "这是第346次训练,正确率为84.7%\n",
      "这是第347次训练,正确率为84.75%\n",
      "这是第348次训练,正确率为85.85000000000001%\n",
      "这是第349次训练,正确率为86.9%\n",
      "这是第350次训练,正确率为87.05000000000001%\n",
      "这是第351次训练,正确率为87.35000000000001%\n",
      "这是第352次训练,正确率为87.75%\n",
      "这是第353次训练,正确率为88.3%\n",
      "这是第354次训练,正确率为87.5%\n",
      "这是第355次训练,正确率为86.6%\n",
      "这是第356次训练,正确率为84.65%\n",
      "这是第357次训练,正确率为85.0%\n",
      "这是第358次训练,正确率为86.8%\n",
      "这是第359次训练,正确率为87.15%\n",
      "这是第360次训练,正确率为85.5%\n",
      "这是第361次训练,正确率为84.95%\n",
      "这是第362次训练,正确率为86.65%\n",
      "这是第363次训练,正确率为87.4%\n",
      "这是第364次训练,正确率为87.8%\n",
      "这是第365次训练,正确率为87.35000000000001%\n",
      "这是第366次训练,正确率为87.64999999999999%\n",
      "这是第367次训练,正确率为86.7%\n",
      "这是第368次训练,正确率为88.4%\n",
      "这是第369次训练,正确率为87.6%\n",
      "这是第370次训练,正确率为86.95%\n",
      "这是第371次训练,正确率为85.0%\n",
      "这是第372次训练,正确率为86.3%\n",
      "这是第373次训练,正确率为87.4%\n",
      "这是第374次训练,正确率为87.55%\n",
      "这是第375次训练,正确率为86.85000000000001%\n",
      "这是第376次训练,正确率为88.4%\n",
      "这是第377次训练,正确率为87.6%\n",
      "这是第378次训练,正确率为86.75%\n",
      "这是第379次训练,正确率为84.89999999999999%\n",
      "这是第380次训练,正确率为86.15%\n",
      "这是第381次训练,正确率为87.35000000000001%\n",
      "这是第382次训练,正确率为87.8%\n",
      "这是第383次训练,正确率为87.25%\n",
      "这是第384次训练,正确率为85.1%\n",
      "这是第385次训练,正确率为84.85000000000001%\n",
      "这是第386次训练,正确率为84.65%\n",
      "这是第387次训练,正确率为84.7%\n",
      "这是第388次训练,正确率为85.8%\n",
      "这是第389次训练,正确率为87.15%\n"
     ]
    },
    {
     "name": "stdout",
     "output_type": "stream",
     "text": [
      "这是第390次训练,正确率为86.75%\n",
      "这是第391次训练,正确率为87.6%\n",
      "这是第392次训练,正确率为87.45%\n",
      "这是第393次训练,正确率为88.0%\n",
      "这是第394次训练,正确率为88.35%\n",
      "这是第395次训练,正确率为87.9%\n",
      "这是第396次训练,正确率为88.6%\n",
      "这是第397次训练,正确率为87.05000000000001%\n",
      "这是第398次训练,正确率为86.65%\n",
      "这是第399次训练,正确率为84.95%\n",
      "这是第400次训练,正确率为86.3%\n",
      "这是第401次训练,正确率为87.35000000000001%\n",
      "这是第402次训练,正确率为87.64999999999999%\n",
      "这是第403次训练,正确率为87.3%\n",
      "这是第404次训练,正确率为85.15%\n",
      "这是第405次训练,正确率为84.8%\n",
      "这是第406次训练,正确率为84.75%\n",
      "这是第407次训练,正确率为84.8%\n",
      "这是第408次训练,正确率为86.3%\n",
      "这是第409次训练,正确率为87.15%\n",
      "这是第410次训练,正确率为87.0%\n",
      "这是第411次训练,正确率为87.1%\n",
      "这是第412次训练,正确率为87.7%\n",
      "这是第413次训练,正确率为87.05000000000001%\n",
      "这是第414次训练,正确率为86.85000000000001%\n",
      "这是第415次训练,正确率为87.2%\n",
      "这是第416次训练,正确率为85.2%\n",
      "这是第417次训练,正确率为84.75%\n",
      "这是第418次训练,正确率为84.95%\n",
      "这是第419次训练,正确率为86.5%\n",
      "这是第420次训练,正确率为87.25%\n",
      "这是第421次训练,正确率为86.85000000000001%\n",
      "这是第422次训练,正确率为86.4%\n",
      "这是第423次训练,正确率为87.0%\n",
      "这是第424次训练,正确率为87.8%\n",
      "这是第425次训练,正确率为86.4%\n",
      "这是第426次训练,正确率为86.25%\n",
      "这是第427次训练,正确率为87.35000000000001%\n",
      "这是第428次训练,正确率为88.6%\n",
      "这是第429次训练,正确率为87.7%\n",
      "这是第430次训练,正确率为86.15%\n",
      "这是第431次训练,正确率为85.0%\n",
      "这是第432次训练,正确率为86.75%\n",
      "这是第433次训练,正确率为87.55%\n",
      "这是第434次训练,正确率为87.64999999999999%\n",
      "这是第435次训练,正确率为87.3%\n",
      "这是第436次训练,正确率为85.15%\n",
      "这是第437次训练,正确率为84.65%\n",
      "这是第438次训练,正确率为84.95%\n",
      "这是第439次训练,正确率为86.55000000000001%\n",
      "这是第440次训练,正确率为87.2%\n",
      "这是第441次训练,正确率为87.45%\n",
      "这是第442次训练,正确率为86.85000000000001%\n",
      "这是第443次训练,正确率为87.3%\n",
      "这是第444次训练,正确率为88.55%\n",
      "这是第445次训练,正确率为87.94999999999999%\n",
      "这是第446次训练,正确率为87.5%\n",
      "这是第447次训练,正确率为86.7%\n",
      "这是第448次训练,正确率为87.94999999999999%\n",
      "这是第449次训练,正确率为86.4%\n",
      "这是第450次训练,正确率为85.05%\n",
      "这是第451次训练,正确率为86.85000000000001%\n",
      "这是第452次训练,正确率为87.4%\n",
      "这是第453次训练,正确率为85.7%\n",
      "这是第454次训练,正确率为86.65%\n",
      "这是第455次训练,正确率为87.5%\n",
      "这是第456次训练,正确率为87.2%\n",
      "这是第457次训练,正确率为87.35000000000001%\n",
      "这是第458次训练,正确率为88.5%\n",
      "这是第459次训练,正确率为87.9%\n",
      "这是第460次训练,正确率为86.5%\n",
      "这是第461次训练,正确率为85.15%\n",
      "这是第462次训练,正确率为87.05000000000001%\n",
      "这是第463次训练,正确率为87.3%\n",
      "这是第464次训练,正确率为85.6%\n",
      "这是第465次训练,正确率为85.05%\n",
      "这是第466次训练,正确率为87.0%\n",
      "这是第467次训练,正确率为87.25%\n",
      "这是第468次训练,正确率为86.35000000000001%\n",
      "这是第469次训练,正确率为86.95%\n",
      "这是第470次训练,正确率为88.35%\n",
      "这是第471次训练,正确率为87.85%\n",
      "这是第472次训练,正确率为87.5%\n",
      "这是第473次训练,正确率为87.75%\n",
      "这是第474次训练,正确率为87.25%\n",
      "这是第475次训练,正确率为88.75%\n",
      "这是第476次训练,正确率为87.25%\n",
      "这是第477次训练,正确率为85.2%\n",
      "这是第478次训练,正确率为84.89999999999999%\n",
      "这是第479次训练,正确率为84.7%\n",
      "这是第480次训练,正确率为85.35000000000001%\n",
      "这是第481次训练,正确率为86.45%\n",
      "这是第482次训练,正确率为87.2%\n",
      "这是第483次训练,正确率为86.55000000000001%\n",
      "这是第484次训练,正确率为87.3%\n",
      "这是第485次训练,正确率为87.4%\n",
      "这是第486次训练,正确率为85.55%\n",
      "这是第487次训练,正确率为86.95%\n",
      "这是第488次训练,正确率为87.45%\n",
      "这是第489次训练,正确率为86.6%\n",
      "这是第490次训练,正确率为87.0%\n",
      "这是第491次训练,正确率为88.3%\n",
      "这是第492次训练,正确率为87.94999999999999%\n",
      "这是第493次训练,正确率为87.5%\n",
      "这是第494次训练,正确率为86.45%\n",
      "这是第495次训练,正确率为85.2%\n",
      "这是第496次训练,正确率为87.0%\n",
      "这是第497次训练,正确率为88.35%\n",
      "这是第498次训练,正确率为87.25%\n",
      "这是第499次训练,正确率为87.4%\n",
      "这是第500次训练,正确率为88.44999999999999%\n",
      "这是第501次训练,正确率为87.64999999999999%\n",
      "这是第502次训练,正确率为86.1%\n",
      "这是第503次训练,正确率为85.0%\n",
      "这是第504次训练,正确率为86.35000000000001%\n",
      "这是第505次训练,正确率为87.35000000000001%\n",
      "这是第506次训练,正确率为87.8%\n",
      "这是第507次训练,正确率为88.1%\n",
      "这是第508次训练,正确率为87.45%\n",
      "这是第509次训练,正确率为85.05%\n",
      "这是第510次训练,正确率为84.85000000000001%\n",
      "这是第511次训练,正确率为86.1%\n",
      "这是第512次训练,正确率为87.35000000000001%\n",
      "这是第513次训练,正确率为87.15%\n",
      "这是第514次训练,正确率为86.6%\n",
      "这是第515次训练,正确率为87.64999999999999%\n",
      "这是第516次训练,正确率为88.05%\n",
      "这是第517次训练,正确率为87.25%\n",
      "这是第518次训练,正确率为85.39999999999999%\n",
      "这是第519次训练,正确率为85.0%\n",
      "这是第520次训练,正确率为86.65%\n",
      "这是第521次训练,正确率为87.4%\n",
      "这是第522次训练,正确率为87.8%\n",
      "这是第523次训练,正确率为88.05%\n",
      "这是第524次训练,正确率为88.05%\n",
      "这是第525次训练,正确率为86.05000000000001%\n",
      "这是第526次训练,正确率为86.25%\n",
      "这是第527次训练,正确率为87.4%\n",
      "这是第528次训练,正确率为88.3%\n",
      "这是第529次训练,正确率为88.55%\n",
      "这是第530次训练,正确率为88.1%\n",
      "这是第531次训练,正确率为86.4%\n",
      "这是第532次训练,正确率为85.05%\n",
      "这是第533次训练,正确率为87.05000000000001%\n",
      "这是第534次训练,正确率为87.35000000000001%\n",
      "这是第535次训练,正确率为85.6%\n",
      "这是第536次训练,正确率为86.75%\n",
      "这是第537次训练,正确率为87.64999999999999%\n",
      "这是第538次训练,正确率为88.1%\n",
      "这是第539次训练,正确率为88.5%\n",
      "这是第540次训练,正确率为86.75%\n",
      "这是第541次训练,正确率为87.1%\n",
      "这是第542次训练,正确率为88.55%\n",
      "这是第543次训练,正确率为86.85000000000001%\n",
      "这是第544次训练,正确率为87.1%\n",
      "这是第545次训练,正确率为88.5%\n",
      "这是第546次训练,正确率为86.45%\n",
      "这是第547次训练,正确率为86.45%\n",
      "这是第548次训练,正确率为87.64999999999999%\n",
      "这是第549次训练,正确率为87.75%\n",
      "这是第550次训练,正确率为87.35000000000001%\n",
      "这是第551次训练,正确率为85.75%\n",
      "这是第552次训练,正确率为85.1%\n",
      "这是第553次训练,正确率为87.05000000000001%\n",
      "这是第554次训练,正确率为87.55%\n",
      "这是第555次训练,正确率为87.6%\n",
      "这是第556次训练,正确率为88.64999999999999%\n",
      "这是第557次训练,正确率为86.9%\n",
      "这是第558次训练,正确率为87.85%\n",
      "这是第559次训练,正确率为88.6%\n",
      "这是第560次训练,正确率为87.7%\n",
      "这是第561次训练,正确率为85.3%\n",
      "这是第562次训练,正确率为84.89999999999999%\n",
      "这是第563次训练,正确率为85.85000000000001%\n",
      "这是第564次训练,正确率为87.1%\n",
      "这是第565次训练,正确率为87.45%\n",
      "这是第566次训练,正确率为87.1%\n",
      "这是第567次训练,正确率为87.55%\n",
      "这是第568次训练,正确率为85.7%\n",
      "这是第569次训练,正确率为87.15%\n",
      "这是第570次训练,正确率为87.6%\n",
      "这是第571次训练,正确率为85.6%\n",
      "这是第572次训练,正确率为86.55000000000001%\n",
      "这是第573次训练,正确率为87.55%\n",
      "这是第574次训练,正确率为88.05%\n",
      "这是第575次训练,正确率为88.55%\n",
      "这是第576次训练,正确率为87.85%\n",
      "这是第577次训练,正确率为87.7%\n",
      "这是第578次训练,正确率为86.5%\n",
      "这是第579次训练,正确率为87.1%\n",
      "这是第580次训练,正确率为87.75%\n",
      "这是第581次训练,正确率为86.15%\n",
      "这是第582次训练,正确率为85.15%\n",
      "这是第583次训练,正确率为87.1%\n",
      "这是第584次训练,正确率为87.6%\n",
      "这是第585次训练,正确率为86.4%\n",
      "这是第586次训练,正确率为87.7%\n",
      "这是第587次训练,正确率为88.3%\n",
      "这是第588次训练,正确率为88.6%\n",
      "这是第589次训练,正确率为86.6%\n",
      "这是第590次训练,正确率为87.05000000000001%\n",
      "这是第591次训练,正确率为87.6%\n",
      "这是第592次训练,正确率为85.55%\n",
      "这是第593次训练,正确率为85.25%\n",
      "这是第594次训练,正确率为87.1%\n",
      "这是第595次训练,正确率为87.7%\n",
      "这是第596次训练,正确率为87.25%\n",
      "这是第597次训练,正确率为88.2%\n",
      "这是第598次训练,正确率为86.35000000000001%\n",
      "这是第599次训练,正确率为87.25%\n",
      "这是第600次训练,正确率为88.6%\n",
      "这是第601次训练,正确率为89.14999999999999%\n",
      "这是第602次训练,正确率为87.75%\n",
      "这是第603次训练,正确率为85.3%\n",
      "这是第604次训练,正确率为84.75%\n",
      "这是第605次训练,正确率为85.6%\n",
      "这是第606次训练,正确率为87.05000000000001%\n",
      "这是第607次训练,正确率为87.5%\n",
      "这是第608次训练,正确率为87.2%\n",
      "这是第609次训练,正确率为88.3%\n",
      "这是第610次训练,正确率为88.5%\n",
      "这是第611次训练,正确率为87.4%\n",
      "这是第612次训练,正确率为85.15%\n",
      "这是第613次训练,正确率为85.1%\n",
      "这是第614次训练,正确率为86.55000000000001%\n",
      "这是第615次训练,正确率为87.6%\n",
      "这是第616次训练,正确率为88.05%\n",
      "这是第617次训练,正确率为87.0%\n",
      "这是第618次训练,正确率为87.45%\n",
      "这是第619次训练,正确率为86.6%\n",
      "这是第620次训练,正确率为87.9%\n",
      "这是第621次训练,正确率为88.4%\n",
      "这是第622次训练,正确率为87.64999999999999%\n",
      "这是第623次训练,正确率为85.95%\n",
      "这是第624次训练,正确率为85.3%\n",
      "这是第625次训练,正确率为87.15%\n",
      "这是第626次训练,正确率为87.75%\n",
      "这是第627次训练,正确率为87.05000000000001%\n",
      "这是第628次训练,正确率为87.75%\n",
      "这是第629次训练,正确率为87.05000000000001%\n",
      "这是第630次训练,正确率为87.7%\n",
      "这是第631次训练,正确率为87.5%\n",
      "这是第632次训练,正确率为87.9%\n",
      "这是第633次训练,正确率为87.45%\n",
      "这是第634次训练,正确率为87.6%\n",
      "这是第635次训练,正确率为86.35000000000001%\n",
      "这是第636次训练,正确率为85.85000000000001%\n",
      "这是第637次训练,正确率为87.6%\n",
      "这是第638次训练,正确率为88.35%\n",
      "这是第639次训练,正确率为88.8%\n",
      "这是第640次训练,正确率为88.85%\n",
      "这是第641次训练,正确率为88.85%\n",
      "这是第642次训练,正确率为89.05%\n",
      "这是第643次训练,正确率为87.94999999999999%\n",
      "这是第644次训练,正确率为84.85000000000001%\n",
      "这是第645次训练,正确率为84.95%\n",
      "这是第646次训练,正确率为85.25%\n",
      "这是第647次训练,正确率为86.6%\n",
      "这是第648次训练,正确率为87.6%\n",
      "这是第649次训练,正确率为87.94999999999999%\n",
      "这是第650次训练,正确率为87.64999999999999%\n",
      "这是第651次训练,正确率为87.45%\n",
      "这是第652次训练,正确率为86.3%\n",
      "这是第653次训练,正确率为87.55%\n",
      "这是第654次训练,正确率为88.9%\n",
      "这是第655次训练,正确率为88.8%\n",
      "这是第656次训练,正确率为89.2%\n",
      "这是第657次训练,正确率为88.14999999999999%\n",
      "这是第658次训练,正确率为85.35000000000001%\n",
      "这是第659次训练,正确率为84.95%\n",
      "这是第660次训练,正确率为85.65%\n",
      "这是第661次训练,正确率为87.2%\n",
      "这是第662次训练,正确率为87.8%\n",
      "这是第663次训练,正确率为87.15%\n",
      "这是第664次训练,正确率为88.64999999999999%\n",
      "这是第665次训练,正确率为86.9%\n",
      "这是第666次训练,正确率为88.0%\n",
      "这是第667次训练,正确率为87.85%\n",
      "这是第668次训练,正确率为87.5%\n",
      "这是第669次训练,正确率为85.95%\n",
      "这是第670次训练,正确率为85.25%\n",
      "这是第671次训练,正确率为86.95%\n",
      "这是第672次训练,正确率为87.7%\n",
      "这是第673次训练,正确率为87.4%\n",
      "这是第674次训练,正确率为88.9%\n",
      "这是第675次训练,正确率为87.64999999999999%\n",
      "这是第676次训练,正确率为88.0%\n",
      "这是第677次训练,正确率为87.25%\n",
      "这是第678次训练,正确率为87.9%\n",
      "这是第679次训练,正确率为87.7%\n",
      "这是第680次训练,正确率为87.75%\n",
      "这是第681次训练,正确率为86.2%\n",
      "这是第682次训练,正确率为85.3%\n",
      "这是第683次训练,正确率为87.1%\n",
      "这是第684次训练,正确率为87.85%\n",
      "这是第685次训练,正确率为87.45%\n",
      "这是第686次训练,正确率为88.8%\n",
      "这是第687次训练,正确率为87.1%\n",
      "这是第688次训练,正确率为87.9%\n",
      "这是第689次训练,正确率为88.3%\n",
      "这是第690次训练,正确率为88.0%\n",
      "这是第691次训练,正确率为86.15%\n",
      "这是第692次训练,正确率为85.25%\n",
      "这是第693次训练,正确率为87.1%\n",
      "这是第694次训练,正确率为87.94999999999999%\n",
      "这是第695次训练,正确率为87.55%\n",
      "这是第696次训练,正确率为88.75%\n",
      "这是第697次训练,正确率为87.0%\n",
      "这是第698次训练,正确率为87.7%\n",
      "这是第699次训练,正确率为88.35%\n",
      "这是第700次训练,正确率为88.0%\n",
      "这是第701次训练,正确率为86.15%\n",
      "这是第702次训练,正确率为85.3%\n",
      "这是第703次训练,正确率为87.15%\n",
      "这是第704次训练,正确率为88.14999999999999%\n",
      "这是第705次训练,正确率为87.8%\n",
      "这是第706次训练,正确率为87.9%\n",
      "这是第707次训练,正确率为86.45%\n",
      "这是第708次训练,正确率为87.6%\n",
      "这是第709次训练,正确率为88.9%\n",
      "这是第710次训练,正确率为88.44999999999999%\n",
      "这是第711次训练,正确率为86.45%\n",
      "这是第712次训练,正确率为86.05000000000001%\n",
      "这是第713次训练,正确率为87.7%\n",
      "这是第714次训练,正确率为88.2%\n",
      "这是第715次训练,正确率为88.3%\n",
      "这是第716次训练,正确率为86.65%\n",
      "这是第717次训练,正确率为87.3%\n",
      "这是第718次训练,正确率为89.0%\n",
      "这是第719次训练,正确率为87.25%\n",
      "这是第720次训练,正确率为87.64999999999999%\n",
      "这是第721次训练,正确率为89.0%\n",
      "这是第722次训练,正确率为88.1%\n",
      "这是第723次训练,正确率为86.15%\n",
      "这是第724次训练,正确率为85.3%\n",
      "这是第725次训练,正确率为86.75%\n",
      "这是第726次训练,正确率为87.64999999999999%\n",
      "这是第727次训练,正确率为87.85%\n",
      "这是第728次训练,正确率为89.0%\n",
      "这是第729次训练,正确率为88.64999999999999%\n",
      "这是第730次训练,正确率为87.8%\n",
      "这是第731次训练,正确率为85.75%\n",
      "这是第732次训练,正确率为85.15%\n",
      "这是第733次训练,正确率为86.65%\n",
      "这是第734次训练,正确率为87.7%\n",
      "这是第735次训练,正确率为88.2%\n",
      "这是第736次训练,正确率为87.85%\n",
      "这是第737次训练,正确率为88.05%\n",
      "这是第738次训练,正确率为86.2%\n",
      "这是第739次训练,正确率为87.64999999999999%\n",
      "这是第740次训练,正确率为88.85%\n",
      "这是第741次训练,正确率为88.9%\n",
      "这是第742次训练,正确率为86.95%\n",
      "这是第743次训练,正确率为87.15%\n",
      "这是第744次训练,正确率为87.9%\n",
      "这是第745次训练,正确率为86.35000000000001%\n",
      "这是第746次训练,正确率为87.25%\n",
      "这是第747次训练,正确率为88.2%\n",
      "这是第748次训练,正确率为87.5%\n",
      "这是第749次训练,正确率为87.9%\n",
      "这是第750次训练,正确率为87.3%\n",
      "这是第751次训练,正确率为87.94999999999999%\n",
      "这是第752次训练,正确率为87.9%\n"
     ]
    },
    {
     "name": "stdout",
     "output_type": "stream",
     "text": [
      "这是第753次训练,正确率为88.0%\n",
      "这是第754次训练,正确率为86.55000000000001%\n",
      "这是第755次训练,正确率为86.0%\n",
      "这是第756次训练,正确率为87.6%\n",
      "这是第757次训练,正确率为88.2%\n",
      "这是第758次训练,正确率为88.44999999999999%\n",
      "这是第759次训练,正确率为86.85000000000001%\n",
      "这是第760次训练,正确率为87.4%\n",
      "这是第761次训练,正确率为89.05%\n",
      "这是第762次训练,正确率为89.0%\n",
      "这是第763次训练,正确率为86.6%\n",
      "这是第764次训练,正确率为86.1%\n",
      "这是第765次训练,正确率为87.64999999999999%\n",
      "这是第766次训练,正确率为88.14999999999999%\n",
      "这是第767次训练,正确率为88.2%\n",
      "这是第768次训练,正确率为86.4%\n",
      "这是第769次训练,正确率为87.2%\n",
      "这是第770次训练,正确率为88.2%\n",
      "这是第771次训练,正确率为87.7%\n",
      "这是第772次训练,正确率为88.05%\n",
      "这是第773次训练,正确率为86.4%\n",
      "这是第774次训练,正确率为87.35000000000001%\n",
      "这是第775次训练,正确率为89.05%\n",
      "这是第776次训练,正确率为87.7%\n",
      "这是第777次训练,正确率为87.94999999999999%\n",
      "这是第778次训练,正确率为87.35000000000001%\n",
      "这是第779次训练,正确率为87.94999999999999%\n",
      "这是第780次训练,正确率为87.7%\n",
      "这是第781次训练,正确率为88.1%\n",
      "这是第782次训练,正确率为86.65%\n",
      "这是第783次训练,正确率为87.4%\n",
      "这是第784次训练,正确率为88.44999999999999%\n",
      "这是第785次训练,正确率为87.35000000000001%\n",
      "这是第786次训练,正确率为87.94999999999999%\n",
      "这是第787次训练,正确率为87.75%\n",
      "这是第788次训练,正确率为88.1%\n",
      "这是第789次训练,正确率为87.1%\n",
      "这是第790次训练,正确率为87.5%\n",
      "这是第791次训练,正确率为89.2%\n",
      "这是第792次训练,正确率为89.0%\n",
      "这是第793次训练,正确率为88.75%\n",
      "这是第794次训练,正确率为88.0%\n",
      "这是第795次训练,正确率为84.65%\n",
      "这是第796次训练,正确率为85.15%\n",
      "这是第797次训练,正确率为85.45%\n",
      "这是第798次训练,正确率为86.75%\n",
      "这是第799次训练,正确率为87.75%\n",
      "这是第800次训练,正确率为88.14999999999999%\n",
      "这是第801次训练,正确率为87.85%\n",
      "这是第802次训练,正确率为89.14999999999999%\n",
      "这是第803次训练,正确率为88.7%\n",
      "这是第804次训练,正确率为88.1%\n",
      "这是第805次训练,正确率为86.0%\n",
      "这是第806次训练,正确率为85.45%\n",
      "这是第807次训练,正确率为86.85000000000001%\n",
      "这是第808次训练,正确率为87.64999999999999%\n",
      "这是第809次训练,正确率为88.94999999999999%\n",
      "这是第810次训练,正确率为87.45%\n",
      "这是第811次训练,正确率为88.0%\n",
      "这是第812次训练,正确率为86.95%\n",
      "这是第813次训练,正确率为87.8%\n",
      "这是第814次训练,正确率为89.0%\n",
      "这是第815次训练,正确率为89.0%\n",
      "这是第816次训练,正确率为86.65%\n",
      "这是第817次训练,正确率为86.0%\n",
      "这是第818次训练,正确率为87.55%\n",
      "这是第819次训练,正确率为89.14999999999999%\n",
      "这是第820次训练,正确率为88.0%\n",
      "这是第821次训练,正确率为88.0%\n",
      "这是第822次训练,正确率为86.85000000000001%\n",
      "这是第823次训练,正确率为87.6%\n",
      "这是第824次训练,正确率为89.0%\n",
      "这是第825次训练,正确率为89.14999999999999%\n",
      "这是第826次训练,正确率为88.6%\n",
      "这是第827次训练,正确率为85.25%\n",
      "这是第828次训练,正确率为85.15%\n",
      "这是第829次训练,正确率为86.05000000000001%\n",
      "这是第830次训练,正确率为87.1%\n",
      "这是第831次训练,正确率为87.9%\n",
      "这是第832次训练,正确率为87.64999999999999%\n",
      "这是第833次训练,正确率为88.75%\n",
      "这是第834次训练,正确率为87.9%\n",
      "这是第835次训练,正确率为88.05%\n",
      "这是第836次训练,正确率为86.8%\n",
      "这是第837次训练,正确率为87.6%\n",
      "这是第838次训练,正确率为89.0%\n",
      "这是第839次训练,正确率为89.2%\n",
      "这是第840次训练,正确率为88.64999999999999%\n",
      "这是第841次训练,正确率为85.3%\n",
      "这是第842次训练,正确率为85.2%\n",
      "这是第843次训练,正确率为86.5%\n",
      "这是第844次训练,正确率为87.2%\n",
      "这是第845次训练,正确率为88.1%\n",
      "这是第846次训练,正确率为87.64999999999999%\n",
      "这是第847次训练,正确率为88.55%\n",
      "这是第848次训练,正确率为87.85%\n",
      "这是第849次训练,正确率为88.1%\n",
      "这是第850次训练,正确率为86.8%\n",
      "这是第851次训练,正确率为87.6%\n",
      "这是第852次训练,正确率为89.2%\n",
      "这是第853次训练,正确率为89.4%\n",
      "这是第854次训练,正确率为89.64999999999999%\n",
      "这是第855次训练,正确率为89.05%\n",
      "这是第856次训练,正确率为85.55%\n",
      "这是第857次训练,正确率为85.15%\n",
      "这是第858次训练,正确率为86.05000000000001%\n",
      "这是第859次训练,正确率为87.2%\n",
      "这是第860次训练,正确率为87.8%\n",
      "这是第861次训练,正确率为87.64999999999999%\n",
      "这是第862次训练,正确率为88.44999999999999%\n",
      "这是第863次训练,正确率为87.5%\n",
      "这是第864次训练,正确率为88.05%\n",
      "这是第865次训练,正确率为86.9%\n",
      "这是第866次训练,正确率为87.75%\n",
      "这是第867次训练,正确率为88.2%\n",
      "这是第868次训练,正确率为88.44999999999999%\n",
      "这是第869次训练,正确率为86.7%\n",
      "这是第870次训练,正确率为87.64999999999999%\n",
      "这是第871次训练,正确率为88.5%\n",
      "这是第872次训练,正确率为87.8%\n",
      "这是第873次训练,正确率为88.2%\n",
      "这是第874次训练,正确率为86.7%\n",
      "这是第875次训练,正确率为87.64999999999999%\n",
      "这是第876次训练,正确率为89.2%\n",
      "这是第877次训练,正确率为88.14999999999999%\n",
      "这是第878次训练,正确率为87.85%\n",
      "这是第879次训练,正确率为87.8%\n",
      "这是第880次训练,正确率为87.94999999999999%\n",
      "这是第881次训练,正确率为88.14999999999999%\n",
      "这是第882次训练,正确率为88.2%\n",
      "这是第883次训练,正确率为87.3%\n",
      "这是第884次训练,正确率为87.9%\n",
      "这是第885次训练,正确率为89.35%\n",
      "这是第886次训练,正确率为89.3%\n",
      "这是第887次训练,正确率为89.3%\n",
      "这是第888次训练,正确率为86.1%\n",
      "这是第889次训练,正确率为85.35000000000001%\n",
      "这是第890次训练,正确率为86.75%\n",
      "这是第891次训练,正确率为87.75%\n",
      "这是第892次训练,正确率为88.6%\n",
      "这是第893次训练,正确率为88.14999999999999%\n",
      "这是第894次训练,正确率为88.55%\n",
      "这是第895次训练,正确率为87.15%\n",
      "这是第896次训练,正确率为87.94999999999999%\n",
      "这是第897次训练,正确率为88.85%\n",
      "这是第898次训练,正确率为88.6%\n",
      "这是第899次训练,正确率为86.6%\n",
      "这是第900次训练,正确率为86.95%\n",
      "这是第901次训练,正确率为88.05%\n",
      "这是第902次训练,正确率为87.9%\n",
      "这是第903次训练,正确率为88.5%\n",
      "这是第904次训练,正确率为87.2%\n",
      "这是第905次训练,正确率为87.9%\n",
      "这是第906次训练,正确率为89.05%\n",
      "这是第907次训练,正确率为89.05%\n",
      "这是第908次训练,正确率为86.8%\n",
      "这是第909次训练,正确率为86.1%\n",
      "这是第910次训练,正确率为88.05%\n",
      "这是第911次训练,正确率为89.0%\n",
      "这是第912次训练,正确率为88.35%\n",
      "这是第913次训练,正确率为88.44999999999999%\n",
      "这是第914次训练,正确率为86.6%\n",
      "这是第915次训练,正确率为86.9%\n",
      "这是第916次训练,正确率为88.05%\n",
      "这是第917次训练,正确率为88.75%\n",
      "这是第918次训练,正确率为89.25%\n",
      "这是第919次训练,正确率为87.0%\n",
      "这是第920次训练,正确率为87.7%\n",
      "这是第921次训练,正确率为88.85%\n",
      "这是第922次训练,正确率为87.3%\n",
      "这是第923次训练,正确率为88.0%\n",
      "这是第924次训练,正确率为89.45%\n",
      "这是第925次训练,正确率为88.44999999999999%\n",
      "这是第926次训练,正确率为88.2%\n",
      "这是第927次训练,正确率为86.55000000000001%\n",
      "这是第928次训练,正确率为85.8%\n",
      "这是第929次训练,正确率为87.75%\n",
      "这是第930次训练,正确率为88.8%\n",
      "这是第931次训练,正确率为88.8%\n",
      "这是第932次训练,正确率为88.64999999999999%\n",
      "这是第933次训练,正确率为86.9%\n",
      "这是第934次训练,正确率为87.64999999999999%\n",
      "这是第935次训练,正确率为88.64999999999999%\n",
      "这是第936次训练,正确率为87.75%\n",
      "这是第937次训练,正确率为88.35%\n",
      "这是第938次训练,正确率为86.9%\n",
      "这是第939次训练,正确率为87.7%\n",
      "这是第940次训练,正确率为89.0%\n",
      "这是第941次训练,正确率为88.05%\n",
      "这是第942次训练,正确率为88.14999999999999%\n",
      "这是第943次训练,正确率为87.45%\n",
      "这是第944次训练,正确率为88.0%\n",
      "这是第945次训练,正确率为89.25%\n",
      "这是第946次训练,正确率为87.8%\n",
      "这是第947次训练,正确率为88.0%\n",
      "这是第948次训练,正确率为89.14999999999999%\n",
      "这是第949次训练,正确率为89.85%\n",
      "这是第950次训练,正确率为89.7%\n",
      "这是第951次训练,正确率为89.5%\n",
      "这是第952次训练,正确率为81.95%\n",
      "这是第953次训练,正确率为85.2%\n",
      "这是第954次训练,正确率为85.39999999999999%\n",
      "这是第955次训练,正确率为86.45%\n",
      "这是第956次训练,正确率为87.45%\n",
      "这是第957次训练,正确率为88.35%\n",
      "这是第958次训练,正确率为87.7%\n",
      "这是第959次训练,正确率为88.85%\n",
      "这是第960次训练,正确率为87.6%\n",
      "这是第961次训练,正确率为88.25%\n",
      "这是第962次训练,正确率为87.3%\n",
      "这是第963次训练,正确率为87.94999999999999%\n",
      "这是第964次训练,正确率为89.45%\n",
      "这是第965次训练,正确率为89.60000000000001%\n",
      "这是第966次训练,正确率为89.8%\n",
      "这是第967次训练,正确率为87.25%\n",
      "这是第968次训练,正确率为85.8%\n",
      "这是第969次训练,正确率为87.9%\n",
      "这是第970次训练,正确率为89.35%\n",
      "这是第971次训练,正确率为86.75%\n",
      "这是第972次训练,正确率为87.45%\n",
      "这是第973次训练,正确率为88.25%\n",
      "这是第974次训练,正确率为87.64999999999999%\n",
      "这是第975次训练,正确率为88.25%\n",
      "这是第976次训练,正确率为88.8%\n",
      "这是第977次训练,正确率为88.8%\n",
      "这是第978次训练,正确率为86.8%\n",
      "这是第979次训练,正确率为87.0%\n",
      "这是第980次训练,正确率为88.6%\n",
      "这是第981次训练,正确率为88.9%\n",
      "这是第982次训练,正确率为88.85%\n",
      "这是第983次训练,正确率为87.05000000000001%\n",
      "这是第984次训练,正确率为87.6%\n",
      "这是第985次训练,正确率为89.05%\n",
      "这是第986次训练,正确率为88.0%\n",
      "这是第987次训练,正确率为88.2%\n",
      "这是第988次训练,正确率为87.7%\n",
      "这是第989次训练,正确率为88.0%\n",
      "这是第990次训练,正确率为89.64999999999999%\n",
      "这是第991次训练,正确率为89.75%\n",
      "这是第992次训练,正确率为89.14999999999999%\n",
      "这是第993次训练,正确率为85.39999999999999%\n",
      "这是第994次训练,正确率为85.2%\n",
      "这是第995次训练,正确率为85.39999999999999%\n",
      "这是第996次训练,正确率为87.1%\n",
      "这是第997次训练,正确率为88.0%\n",
      "这是第998次训练,正确率为88.25%\n",
      "这是第999次训练,正确率为88.25%\n",
      "这是第1000次训练,正确率为89.55%\n"
     ]
    }
   ],
   "source": [
    "nn=NN.NN(train_dataset[:2000],train_labels[:2000]) #此处因为自己写的NN网络过于菜，所以这里只训练了2000个样本，多了属实用时太长\n",
    "nn.change_Parameters(input_num=36,hide_num=2,output_num=2,alpha=0.0026,times=1000) #这里是输入36个维度，隐层2个维度，输出2个维度，alpha为试出来感觉比较好的值，计算1000次\n",
    "time_start=time.time()# 计时\n",
    "nn.init_wb() #初始化\n",
    "nn.back_calculate() #反向传播计算\n",
    "time_end=time.time() #结束计时"
   ]
  },
  {
   "cell_type": "markdown",
   "id": "04023e45",
   "metadata": {},
   "source": [
    "### (4)查看训练用时"
   ]
  },
  {
   "cell_type": "code",
   "execution_count": 10,
   "id": "9b9b63f9",
   "metadata": {},
   "outputs": [
    {
     "name": "stdout",
     "output_type": "stream",
     "text": [
      "训练用时48.95045709609985s\n"
     ]
    }
   ],
   "source": [
    "print(f'训练用时{time_end-time_start}s')"
   ]
  },
  {
   "cell_type": "markdown",
   "id": "438057ba",
   "metadata": {},
   "source": [
    "### (5)预测训练集中的样本"
   ]
  },
  {
   "cell_type": "code",
   "execution_count": 11,
   "id": "b5e46d7e",
   "metadata": {},
   "outputs": [
    {
     "name": "stdout",
     "output_type": "stream",
     "text": [
      "使用自己写的NN模型，正确率为87.345%\n"
     ]
    }
   ],
   "source": [
    "train_dataset_predictlabels=nn.predict_no_orgin_labels(train_dataset,train_labels) #预测训练集\n",
    "train_dataset_accuracy=accuracy_score(train_labels,train_dataset_predictlabels) #得到训练数据集的预测正确率\n",
    "print(f'使用自己写的NN模型，正确率为{train_dataset_accuracy*100}%')"
   ]
  },
  {
   "cell_type": "markdown",
   "id": "7a6bb4a3",
   "metadata": {},
   "source": [
    "### (6)计算AUC值"
   ]
  },
  {
   "cell_type": "code",
   "execution_count": 12,
   "id": "8027633f",
   "metadata": {},
   "outputs": [
    {
     "name": "stdout",
     "output_type": "stream",
     "text": [
      "自己写的NN模型的AUC值为0.8095969434866743\n"
     ]
    }
   ],
   "source": [
    "AUC=roc_auc_score(train_labels,train_dataset_predictlabels) #直接调用函数计算\n",
    "print(f'自己写的NN模型的AUC值为{AUC}')"
   ]
  },
  {
   "cell_type": "markdown",
   "id": "b3a5ae47",
   "metadata": {},
   "source": [
    "### 保存测试数据集的预测结果"
   ]
  },
  {
   "cell_type": "code",
   "execution_count": 13,
   "id": "4ce0fc0c",
   "metadata": {},
   "outputs": [],
   "source": [
    "predict_dataset_predictlabels=nn.predict_no_orgin_labels(predict_dataset,[0]) #预测测试数据集样本\n",
    "Caseid=pd.DataFrame(np.array(np.arange(80000)+200001),columns=['Caseid']) #生成id数组，并且生成文件类型的列\n",
    "predictlabels=pd.DataFrame(predict_dataset_predictlabels,columns=['Evaluation']) #将预测的标签生成文件类型的列\n",
    "submit_data_LR=pd.concat([Caseid,predictlabels],axis=1) #将id与预测标签合并\n",
    "submit_data_LR.to_csv(\"submit_data/submit_data_自己写的NN\",index=False) #生成的文件保存"
   ]
  },
  {
   "cell_type": "markdown",
   "id": "fb04bf10",
   "metadata": {},
   "source": [
    "### 总结\n",
    "<big>不错不错，对于结果我还是比较满意的，在只学习了2000个样本的条件下，预测的正确率为87.345%，AUC值为0.80，与之前的LR模型相仿，在正确率与AUC值这一块我还是相当惊喜的。不过就是这训练的时间......虽然只训练了2000个样本，但是时间基本上是LR的接近10倍之多！或许优化隐层的层数，计算的次数，alpha值会减少些时间，但是花费时间确实还是太长了。不过，总的来说在自己写的代码下还能达到比LR更高的正确率和AUC值，我还是相当满意了！"
   ]
  },
  {
   "cell_type": "markdown",
   "id": "3f44e2b6",
   "metadata": {},
   "source": [
    "### <big>3.Sklearn_MLPClassifier分类</big>"
   ]
  },
  {
   "cell_type": "markdown",
   "id": "3cd7a0d1",
   "metadata": {},
   "source": [
    "### (1)导入第三方库"
   ]
  },
  {
   "cell_type": "code",
   "execution_count": 14,
   "id": "5f730be4",
   "metadata": {},
   "outputs": [],
   "source": [
    "# 导入第三方库\n",
    "import pandas as pd\n",
    "from sklearn.neural_network import MLPClassifier\n",
    "from sklearn.metrics import accuracy_score\n",
    "from sklearn.metrics import roc_auc_score\n",
    "import time\n",
    "import numpy as np"
   ]
  },
  {
   "cell_type": "markdown",
   "id": "7a24ad34",
   "metadata": {},
   "source": [
    "### (2)预处理数据(与前面两个一致)"
   ]
  },
  {
   "cell_type": "code",
   "execution_count": 15,
   "id": "c60ed555",
   "metadata": {},
   "outputs": [],
   "source": [
    "# 预处理数据\n",
    "train_dataset=pd.read_csv('data/train.csv') #导入训练数据集\n",
    "predict_dataset=pd.read_csv('data/test.csv') #导入测试数据集\n",
    "train_labels=train_dataset['Evaluation'] #保存测试训练集样本标签\n",
    "# print(type(train_labels))\n",
    "train_dataset=train_dataset.drop(['CaseId','Evaluation'],axis=1) #预处理，去掉不需要的CaseId和Evaluation列\n",
    "predict_dataset=predict_dataset.drop(['CaseId'],axis=1) #预处理，去掉不需要的CaseId列"
   ]
  },
  {
   "cell_type": "markdown",
   "id": "e5444a55",
   "metadata": {},
   "source": [
    "### (3)MLP训练(这里只用了20000个样本，用所有样本进行训练的正确率只比2000个样本高一些，但是时间却长了很多）"
   ]
  },
  {
   "cell_type": "code",
   "execution_count": 16,
   "id": "2946a6d2",
   "metadata": {},
   "outputs": [
    {
     "name": "stdout",
     "output_type": "stream",
     "text": [
      "训练用时12.621064901351929s\n"
     ]
    }
   ],
   "source": [
    "# MLP训练\n",
    "mlp=MLPClassifier(max_iter=1000)\n",
    "mlp_x_train=train_dataset[:20000] #生成训练数据集样本\n",
    "mlp_y_train=train_labels[:20000] #生成训练数据集标签\n",
    "time_start=time.time() #计时\n",
    "mlp.fit(mlp_x_train,mlp_y_train) #训练\n",
    "time_end=time.time() #结束计时\n",
    "print(f'训练用时{time_end-time_start}s')\n",
    "#print(mlp.n_layers_)"
   ]
  },
  {
   "cell_type": "markdown",
   "id": "cb439be2",
   "metadata": {},
   "source": [
    "### (4)预测"
   ]
  },
  {
   "cell_type": "code",
   "execution_count": 17,
   "id": "0b8021bb",
   "metadata": {
    "scrolled": true
   },
   "outputs": [
    {
     "name": "stdout",
     "output_type": "stream",
     "text": [
      "使用训练数据集测试MLP模型，正确率为92.137%\n"
     ]
    }
   ],
   "source": [
    "# 预测(训练数据集)\n",
    "mlp_x_predict=train_dataset #生成预测数据集样本\n",
    "mlp_y_predict=train_labels #生成预测数据集标签\n",
    "mlp_y_result=mlp.predict(mlp_x_predict) #预测\n",
    "train_dataset_accuracy=accuracy_score(train_labels,mlp_y_result) #得到训练数据集的预测正确率\n",
    "print(f'使用训练数据集测试MLP模型，正确率为{train_dataset_accuracy*100}%')"
   ]
  },
  {
   "cell_type": "markdown",
   "id": "3caabc52",
   "metadata": {},
   "source": [
    "### (5)绘制ROC曲线(因为没有测试数据集的真正标签，所以用训练数据集的数据进行ROC曲线绘制，并且计算AUC)"
   ]
  },
  {
   "cell_type": "code",
   "execution_count": 18,
   "id": "25c10bbd",
   "metadata": {},
   "outputs": [
    {
     "data": {
      "image/png": "[encoded data removed]",
      "text/plain": [
       "<Figure size 432x288 with 1 Axes>"
      ]
     },
     "metadata": {
      "needs_background": "light"
     },
     "output_type": "display_data"
    }
   ],
   "source": [
    "predictlabels_to_one=mlp.predict_proba(train_dataset)[:,1] #得到训练数据集预测标签为1的概率\n",
    "FPR,TRP,thresholds=roc_curve(train_labels,predictlabels_to_one) #获得真正率或假正率\n",
    "plt.figure(1) #绘图\n",
    "plt.plot(FPR,TRP) #绘制ROC曲线\n",
    "plt.xlim([0,1]) #x范围\n",
    "plt.ylim([0,1]) #y范围\n",
    "plt.plot([0,1],[0,1],'--') #随机分布曲线\n",
    "plt.title('ROC Curve') #标题\n",
    "plt.grid() #网格（更好看）\n",
    "plt.xlabel('FPR') #横坐标\n",
    "plt.ylabel('TPR') #纵坐标\n",
    "plt.show() #show"
   ]
  },
  {
   "cell_type": "markdown",
   "id": "bf335abf",
   "metadata": {},
   "source": [
    "### (6)绘制PR曲线"
   ]
  },
  {
   "cell_type": "code",
   "execution_count": 19,
   "id": "6bf4ae44",
   "metadata": {},
   "outputs": [
    {
     "data": {
      "image/png": "[encoded data removed]",
      "text/plain": [
       "<Figure size 432x288 with 1 Axes>"
      ]
     },
     "metadata": {
      "needs_background": "light"
     },
     "output_type": "display_data"
    }
   ],
   "source": [
    "Precision,Recall,thresholds=precision_recall_curve(train_labels,predictlabels_to_one) #通过调用函数获得精确和召回\n",
    "plt.figure(2) #绘图\n",
    "plt.plot(Precision,Recall) #绘制PR曲线\n",
    "plt.xlim([0,1]) #x范围\n",
    "plt.ylim([0,1]) #y范围\n",
    "plt.title('PR Curve') #标题\n",
    "plt.grid() #网格（更好看）\n",
    "plt.xlabel('Recall') #横坐标\n",
    "plt.ylabel('Precision') #纵坐标\n",
    "plt.show() #show"
   ]
  },
  {
   "cell_type": "markdown",
   "id": "e56fff14",
   "metadata": {},
   "source": [
    "### (7)计算AUC值"
   ]
  },
  {
   "cell_type": "code",
   "execution_count": 20,
   "id": "2324a12c",
   "metadata": {},
   "outputs": [
    {
     "name": "stdout",
     "output_type": "stream",
     "text": [
      "MLP模型的AUC值为0.8250586395417724\n"
     ]
    }
   ],
   "source": [
    "#计算AUC\n",
    "AUC=roc_auc_score(train_labels,mlp_y_result) #直接调用函数计算\n",
    "print(f'MLP模型的AUC值为{AUC}')"
   ]
  },
  {
   "cell_type": "markdown",
   "id": "18bfd892",
   "metadata": {},
   "source": [
    "### (6)保存测试数据集的预测结果"
   ]
  },
  {
   "cell_type": "code",
   "execution_count": 21,
   "id": "c1bb1123",
   "metadata": {},
   "outputs": [],
   "source": [
    "# 保存测试数据集的预测结果\n",
    "predict_dataset_predictlabels=mlp.predict(predict_dataset)#预测测试数据集样本\n",
    "Caseid=pd.DataFrame(np.array(np.arange(80000)+200001),columns=['Caseid']) #生成id数组，并且生成文件类型的列\n",
    "predictlabels=pd.DataFrame(predict_dataset_predictlabels,columns=['Evaluation']) #将预测的标签生成文件类型的列\n",
    "submit_data_LR=pd.concat([Caseid,predictlabels],axis=1) #将id与预测标签合并\n",
    "submit_data_LR.to_csv(\"submit_data/submit_data_MLP\",index=False) #生成的文件保存"
   ]
  },
  {
   "cell_type": "markdown",
   "id": "e9d9818c",
   "metadata": {},
   "source": [
    "### 总结\n",
    "可以看出来，不愧是发行版的第三方库，确实在速度和精度上都比较厉害。不仅时间比我自己写的短得多，而且精度上还更高，之前作业用的小数量样本集，所以看不出来太大的差别，但是一旦数量上来后就能明显感觉到差别。这里，我只用MLP训练了前2W个样本，因为训练20W个样本的正确率只比2W高一点，但时间却花了很多(经济学上的“边际效应递减”原理)，但是效果还是很不错的。"
   ]
  },
  {
   "cell_type": "markdown",
   "id": "9a832254",
   "metadata": {},
   "source": [
    "### <big>4.随机森林分类</big>\n",
    "从竞赛官网上推荐的算法可以发现，这类题目如果使用随机森林算法求解，AUC值会比较高。但是，由于之前没有接触过这个算法，所以我先去网上搜索了解了这个算法的原理以及本质。\n",
    "* **随机森林简介：**  \n",
    "  随机森林就是通过集成学习的思想将多棵树集成的一种算法，它的基本单元是决策树，而它的本质属于机器学习的一大分支——集成学习（Ensemble Learning）方法。随机森林的名称中有两个关键词，一个是“随机”，一个就是“森林”。“森林”我们很好理解，一棵叫做树，那么成百上千棵就可以叫做森林了，这样的比喻还是很贴切的，其实这也是随机森林的主要思想--集成思想的体现。其实从直观角度来解释，每棵决策树都是一个分类器，那么对于一个输入样本，N棵树会有N个分类结果。而随机森林集成了所有的分类投票结果，将投票次数最多的类别指定为最终的输出，这就是一种最简单的 Bagging 思想。\n",
    "* **随机森林特点：**  \n",
    "  具有极好的准确率；  \n",
    "  能够有效地运行在大数据集上；\n",
    "  能够处理具有高维特征的输入样本，而且不需要降维；\n",
    "  能够评估各个特征在分类问题上的重要性；\n",
    "  在生成过程中，能够获取到内部生成误差的一种无偏估计；\n",
    "  对于缺省值问题也能够获得很好得结果......\n",
    "* **随机森林说明：**  \n",
    "  我们要将一个输入样本进行分类，我们需要将输入样本输入到每棵树中进行分类。打个形象的比喻：森林中召开会议，讨论某个动物到底是老鼠还是松鼠，每棵树都要独立地发表自己对这个问题的看法，也就是每棵树都要投票。该动物到底是老鼠还是松鼠，要依据投票情况来确定，获得票数最多的类别就是森林的分类结果。森林中的每棵树都是独立的，99.9%不相关的树做出的预测结果涵盖所有的情况，这些预测结果将会彼此抵消。少数优秀的树的预测结果将会超脱于芸芸“噪音”，做出一个好的预测。将若干个弱分类器的分类结果进行投票选择，从而组成一个强分类器，这就是随机森林bagging的思想（关于bagging的一个有必要提及的问题：bagging的代价是不用单棵决策树来做预测，具体哪个变量起到重要作用变得未知，所以bagging改进了预测准确率但损失了解释性）。\n",
    "* **随机树的生成：**  \n",
    "    1）如果训练集大小为N，对于每棵树而言，随机且有放回地从训练集中的抽取N个训练样本（这种采样方式称为bootstrap sample方法），作为该树的训练集；从这里我们可以知道：每棵树的训练集都是不同的，而且里面包含重复的训练样本。\n",
    "\n",
    "　　2）如果每个样本的特征维度为M，指定一个常数m<<M，随机地从M个特征中选取m个特征子集，每次树进行分裂时，从这m个特征中选择最优的；  \n",
    "    （一开始我们提到的随机森林中的“随机”就是指的这里的两个随机性。两个随机性的引入对随机森林的分类性能至关重要。由于它们的引入，使得随机森林不容易陷入过拟合，并且具有很好得抗噪能力（比如：对缺省值不敏感））\n",
    "\n",
    "　　3）每棵树都尽最大程度的生长，并且没有剪枝过程。\n",
    "  \n",
    "    为什么要随机抽样训练集？\n",
    "    答：如果不进行随机抽样，每棵树的训练集都一样，那么最终训练出的树分类结果也是完全一样的，这样的话完全没有bagging的必要；\n",
    "    为什么要有放回地抽样？\n",
    "    答：我理解的是这样的：如果不是有放回的抽样，那么每棵树的训练样本都是不同的，都是没有交集的，这样每棵树都是\"有偏的\"，都是绝对\"片面的\"（当然这样说可能不对），也就是说每棵树训练出来都是有很大的差异的；而随机森林最后分类取决于多棵树（弱分类器）的投票表决，这种表决应该是\"求同\"，因此使用完全不同的训练集来训练每棵树这样对最终分类结果是没有帮助的，这样无异于是\"盲人摸象\"。\n",
    "  "
   ]
  },
  {
   "cell_type": "markdown",
   "id": "7d977fd6",
   "metadata": {},
   "source": [
    "### (1)导入第三方库"
   ]
  },
  {
   "cell_type": "code",
   "execution_count": 22,
   "id": "094676e4",
   "metadata": {},
   "outputs": [],
   "source": [
    "import pandas as pd\n",
    "import numpy as np\n",
    "from matplotlib import pyplot as plt\n",
    "from sklearn.ensemble import RandomForestClassifier\n",
    "from sklearn.metrics import roc_auc_score\n",
    "from sklearn.metrics import accuracy_score\n",
    "from sklearn.metrics import roc_curve\n",
    "from sklearn.metrics import precision_recall_curve\n",
    "import time"
   ]
  },
  {
   "cell_type": "markdown",
   "id": "ac106c51",
   "metadata": {},
   "source": [
    "### (2)预处理数据(与前面三个一致)"
   ]
  },
  {
   "cell_type": "code",
   "execution_count": 23,
   "id": "b988a0e7",
   "metadata": {},
   "outputs": [],
   "source": [
    "train_dataset=pd.read_csv('data/train.csv') #导入训练数据集\n",
    "predict_dataset=pd.read_csv('data/test.csv') #导入测试数据集\n",
    "train_labels=train_dataset['Evaluation'] #保存测试训练集样本标签\n",
    "# print(type(train_labels))\n",
    "train_dataset=train_dataset.drop(['CaseId','Evaluation'],axis=1) #预处理，去掉不需要的CaseId和Evaluation列\n",
    "predict_dataset=predict_dataset.drop(['CaseId'],axis=1) #预处理，去掉不需要的CaseId列"
   ]
  },
  {
   "cell_type": "markdown",
   "id": "35bc089f",
   "metadata": {},
   "source": [
    "### (3)随机森林训练"
   ]
  },
  {
   "cell_type": "code",
   "execution_count": 24,
   "id": "c662c828",
   "metadata": {},
   "outputs": [
    {
     "name": "stdout",
     "output_type": "stream",
     "text": [
      "训练用时10.757741928100586s\n"
     ]
    }
   ],
   "source": [
    "rfc=RandomForestClassifier() #创建模型实例\n",
    "time_start=time.time() #计时\n",
    "rfc.fit(train_dataset,train_labels) #训练\n",
    "time_end=time.time() #结束计时\n",
    "print(f'训练用时{time_end-time_start}s')"
   ]
  },
  {
   "cell_type": "markdown",
   "id": "2c7fcaf6",
   "metadata": {},
   "source": [
    "### (4)预测"
   ]
  },
  {
   "cell_type": "code",
   "execution_count": 25,
   "id": "a569f714",
   "metadata": {},
   "outputs": [
    {
     "name": "stdout",
     "output_type": "stream",
     "text": [
      "使用训练数据集测试RandomForest模型，正确率为93.1525%\n"
     ]
    }
   ],
   "source": [
    "rfc_x_predict=train_dataset #生成预测数据集样本\n",
    "rfc_y_predict=train_labels #生成预测数据集标签\n",
    "rfc_y_result=rfc.predict(rfc_x_predict) #预测\n",
    "train_dataset_accuracy=accuracy_score(train_labels,rfc_y_result) #得到训练数据集的预测正确率\n",
    "print(f'使用训练数据集测试RandomForest模型，正确率为{train_dataset_accuracy*100}%')"
   ]
  },
  {
   "cell_type": "markdown",
   "id": "e1b86bb3",
   "metadata": {},
   "source": [
    "### (5)绘制ROC曲线(因为没有测试数据集的真正标签，所以用训练数据集的数据进行ROC曲线绘制，并且计算AUC)"
   ]
  },
  {
   "cell_type": "code",
   "execution_count": 26,
   "id": "bc224876",
   "metadata": {},
   "outputs": [
    {
     "data": {
      "image/png": "[encoded data removed]",
      "text/plain": [
       "<Figure size 432x288 with 1 Axes>"
      ]
     },
     "metadata": {
      "needs_background": "light"
     },
     "output_type": "display_data"
    }
   ],
   "source": [
    "predictlabels_to_one=rfc.predict_proba(train_dataset)[:,1] #得到训练数据集预测标签为1的概率\n",
    "FPR,TRP,thresholds=roc_curve(train_labels,predictlabels_to_one) #获得真正率或假正率\n",
    "plt.figure(1) #绘图\n",
    "plt.plot(FPR,TRP) #绘制ROC曲线\n",
    "plt.xlim([0,1]) #x范围\n",
    "plt.ylim([0,1]) #y范围\n",
    "plt.plot([0,1],[0,1],'--') #随机分布曲线\n",
    "plt.title('ROC Curve') #标题\n",
    "plt.grid() #网格（更好看）\n",
    "plt.xlabel('FPR') #横坐标\n",
    "plt.ylabel('TPR') #纵坐标\n",
    "plt.show() #show"
   ]
  },
  {
   "cell_type": "markdown",
   "id": "6101048e",
   "metadata": {},
   "source": [
    "### (6)绘制PR曲线"
   ]
  },
  {
   "cell_type": "code",
   "execution_count": 27,
   "id": "6cf175ab",
   "metadata": {},
   "outputs": [
    {
     "data": {
      "image/png": "[encoded data removed]",
      "text/plain": [
       "<Figure size 432x288 with 1 Axes>"
      ]
     },
     "metadata": {
      "needs_background": "light"
     },
     "output_type": "display_data"
    }
   ],
   "source": [
    "Precision,Recall,thresholds=precision_recall_curve(train_labels,predictlabels_to_one) #通过调用函数获得精确和召回\n",
    "plt.figure(2) #绘图\n",
    "plt.plot(Precision,Recall) #绘制PR曲线\n",
    "plt.xlim([0,1]) #x范围\n",
    "plt.ylim([0,1]) #y范围\n",
    "plt.title('PR Curve') #标题\n",
    "plt.grid() #网格（更好看）\n",
    "plt.xlabel('Recall') #横坐标\n",
    "plt.ylabel('Precision') #纵坐标\n",
    "plt.show() #show"
   ]
  },
  {
   "cell_type": "markdown",
   "id": "decaac3b",
   "metadata": {},
   "source": [
    "### (7)计算AUC"
   ]
  },
  {
   "cell_type": "code",
   "execution_count": 28,
   "id": "43ba41de",
   "metadata": {},
   "outputs": [
    {
     "name": "stdout",
     "output_type": "stream",
     "text": [
      "RandomForest的AUC值为0.847438161250898\n"
     ]
    }
   ],
   "source": [
    "AUC=roc_auc_score(train_labels,rfc_y_result) #直接调用函数计算\n",
    "print(f'RandomForest的AUC值为{AUC}')"
   ]
  },
  {
   "cell_type": "markdown",
   "id": "3523336c",
   "metadata": {},
   "source": [
    "### (8)保存测试数据集的预测结果"
   ]
  },
  {
   "cell_type": "code",
   "execution_count": 29,
   "id": "9253c0c3",
   "metadata": {},
   "outputs": [],
   "source": [
    "predict_dataset_predictlabels=rfc.predict(predict_dataset)#预测测试数据集样本\n",
    "Caseid=pd.DataFrame(np.array(np.arange(80000)+200001),columns=['Caseid']) #生成id数组，并且生成文件类型的列\n",
    "predictlabels=pd.DataFrame(predict_dataset_predictlabels,columns=['Evaluation']) #将预测的标签生成文件类型的列\n",
    "submit_data_LR=pd.concat([Caseid,predictlabels],axis=1) #将id与预测标签合并\n",
    "submit_data_LR.to_csv(\"submit_data/submit_data_RandomForest\",index=False) #生成的文件保存"
   ]
  },
  {
   "cell_type": "markdown",
   "id": "f6cbc521",
   "metadata": {},
   "source": [
    "## 总结\n",
    "本次的报告，我运用了四种算法进行解决，分别为：逻辑回归、自己写的三层全连接网络、MLPClassifier、RandomForestClassifier。下面我们对这四种算法进行结果比较。\n",
    "\n",
    "|算法|运行时间|准确率|AUC值|\n",
    "|:-:|:-:|:-:|:-:|\n",
    "|逻辑回归|4.69s|88.51%|0.69|\n",
    "|自己写的三层全连接网络|48.95s|87.345%|0.809|\n",
    "|MLPClassifier|12.62s|92.137%|0.825|\n",
    "|RandomForestClassifier|10.75s|93.152%|0.84|\n",
    "\n",
    "* 运行时间：逻辑回归>RandomForestClassifier>MLPClassifier>自己写的三层全连接网络.\n",
    "* 准确率：RandomForestClassifier>MLPClassifier>逻辑回归>自己写的三层全连接网络.\n",
    "* AUC值：RandomForestClassifier>MLPClassifier>自己写的三层全连接网络>逻辑回归.\n",
    "\n",
    "综合以上表现来看，**随机森林**算法处理此类问题效果最优，不论是从时间上还是正确率还是AUC值上，综合相比都较神经网络以及逻辑回归更好，是解决此类问题的推荐算法。虽然逻辑回归用时很短，但是在准确率上效果不佳，甚至还没有我自己写的算法高（偷笑),不过在某些问题上，用时短也是一个很大的优势，毕竟精度也没有损失太多。\n",
    "\n",
    "## 个人体会\n",
    "&nbsp;&nbsp;&nbsp;&nbsp;这次的报告前前后后应该花了有**一天多**的时间，是写的第一篇报告，刚开始计划思路以及刚开始写前几行代码的时候，感觉难度挺大的，不过随着越写越多，感觉自己的思路也变得越来越清晰，特别是感觉到对这些知识有了更深刻的体会。写了之后再回头看，发现好像这些东西都是很简单的，只是当自己还没有开始时，对未知事物感到的恐惧担忧罢了。  \n",
    "&nbsp;&nbsp;&nbsp;&nbsp;另外，这次给我很大的惊喜便是自己写的代码准确度还是挺高的，虽然训练样本的时间确实不能与发行版的第三方库函数相比，但是能做到在相对还能接受的时间里，能达到略低于MLP分类的精度，我还是感到非常开心的，也是对于我这样一个刚起步学习编程算法的新手来说，是一种很好的成就感，激励我去创造更多的东西。  \n",
    "&nbsp;&nbsp;&nbsp;&nbsp;在写这次的报告过程中，我也是接触到了一个新的算法：随机森林，在使用第三方库函数之前，我也是去将随机森林背后的逻辑以及原理进行了一个了解，也确实对其中的新创新点感到新奇，不仅让我对于机器学习这一板块的知识，有了更加深入以及更加系统化的理解，也让我对于机器学习的逻辑性有了新的认识。当然，想要自己做好这一方面的任务，就必须还得加把力去多学习多了解，以便自己能够在后续的问题解决中有更多的想法和手段。  \n",
    "&nbsp;&nbsp;&nbsp;&nbsp;在这次的解题过程中，我也是遇到了一些很花时间去解决的问题：一个就是自己的算法因为还是没有很好的适配不同类型的数据，所以其实这次的引用我是将第五次作业的NN代码进行了一些修改，然后才能应用到这次的题目中，其中遇到的一个问题便是exp计算超出了范围，可能是因为200000个样本的量太大，所以导致了这样，然后在网上多方面搜寻，找到了一个方法就是把数据编程longfloat就能避免数据溢出；然后是因为对pandas这个库不熟练，所以在保存数据的过程中遇到了一些问题，但是通过查看网上的函数使用实例，也是学会了如何用pandas保存文件。  \n",
    "&nbsp;&nbsp;&nbsp;&nbsp;最后，还想说的有一个体会，不管是在运用自己写的NN还是利用sklearn的MLP都会有一件事情，就是把训练样本数变多之后，训练的时间就明显变长了很多，但是实际预测的正确率却只有一小点提升，就如同  **经济学中的“边际递减效应”** 一般，随着正确度越来越接近100%，单位正确率的提升所用时间越来越长，如何取舍训练时间和预测准确度是一个需要很好掌握的“度”。机器学习的话，具体的问题需要到具体考虑，至于其他的事情，这一点也是非常重要。"
   ]
  }
 ],
 "metadata": {
  "kernelspec": {
   "display_name": "PyCharm (machinelearning_homework)",
   "language": "python",
   "name": "pycharm-3d02ba9f"
  },
  "language_info": {
   "codemirror_mode": {
    "name": "ipython",
    "version": 3
   },
   "file_extension": ".py",
   "mimetype": "text/x-python",
   "name": "python",
   "nbconvert_exporter": "python",
   "pygments_lexer": "ipython3",
   "version": "3.8.8"
  }
 },
 "nbformat": 4,
 "nbformat_minor": 5
}
